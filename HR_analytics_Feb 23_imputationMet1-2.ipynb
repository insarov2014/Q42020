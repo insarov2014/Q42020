{
 "cells": [
  {
   "cell_type": "markdown",
   "metadata": {
    "id": "oxxvmksJ6INo"
   },
   "source": [
    "KEY WORDS: Imputation: NA; Tuning: Bayesian optimization; Selected model: XGB; Metric: roc auc"
   ]
  },
  {
   "cell_type": "markdown",
   "metadata": {
    "id": "8hPzqp6H36T8"
   },
   "source": [
    "# Data Source and Description"
   ]
  },
  {
   "cell_type": "markdown",
   "metadata": {
    "id": "UF6L23jn4ANu"
   },
   "source": [
    "The data used in this project is from the following link:\n",
    "\n",
    "https://www.kaggle.com/arashnic/hr-analytics-job-change-of-data-scientists\n",
    "\n",
    "A company provides people with some Data Science courses and is intereted to find out which candidate wants to seek positions of data scientist after these training. The company also wonders what is the factor that motivates the candidates to look for a job.\n",
    "\n",
    "Here are the features in the given data:\n",
    "\n",
    "enrollee_id : Unique ID for candidate\n",
    "\n",
    "city: City code\n",
    "\n",
    "city_ development _index : Developement index of the city (scaled)\n",
    "\n",
    "gender: Gender of candidate\n",
    "\n",
    "relevent_experience: Relevant experience of candidate\n",
    "\n",
    "enrolled_university: Type of University course enrolled if any\n",
    "\n",
    "education_level: Education level of candidate\n",
    "\n",
    "major_discipline :Education major discipline of candidate\n",
    "\n",
    "experience: Candidate total experience in years\n",
    "\n",
    "company_size: No of employees in current employer's company\n",
    "\n",
    "company_type : Type of current employer\n",
    "\n",
    "lastnewjob: Difference in years between previous job and current job\n",
    "\n",
    "training_hours: training hours completed\n",
    "\n",
    "target: 0 – Not looking for job change, 1 – Looking for a job change"
   ]
  },
  {
   "cell_type": "markdown",
   "metadata": {
    "id": "Ba4-qZOS66ZO"
   },
   "source": [
    "# Import Packages"
   ]
  },
  {
   "cell_type": "code",
   "execution_count": null,
   "metadata": {
    "id": "PghnVgcLl0ML"
   },
   "outputs": [],
   "source": [
    "import numpy as np\n",
    "import pandas as pd\n",
    "import matplotlib.pyplot as plt\n",
    "%matplotlib inline\n",
    "import warnings\n",
    "warnings.filterwarnings('ignore')"
   ]
  },
  {
   "cell_type": "code",
   "execution_count": null,
   "metadata": {
    "id": "A1MgzeBUVOK5"
   },
   "outputs": [],
   "source": [
    "from sklearn.preprocessing import OneHotEncoder, LabelEncoder, StandardScaler, MinMaxScaler\n",
    "from sklearn import feature_selection\n",
    "from sklearn import model_selection\n",
    "from sklearn import metrics\n",
    "from sklearn.base import BaseEstimator, TransformerMixin\n",
    "from sklearn.pipeline import Pipeline, FeatureUnion\n",
    "from sklearn.impute import SimpleImputer\n",
    "from sklearn.utils import check_array\n",
    "from scipy import sparse"
   ]
  },
  {
   "cell_type": "markdown",
   "metadata": {
    "id": "GhD80GgO877O"
   },
   "source": [
    "# Import Training Data"
   ]
  },
  {
   "cell_type": "code",
   "execution_count": null,
   "metadata": {
    "colab": {
     "base_uri": "https://localhost:8080/",
     "height": 326
    },
    "executionInfo": {
     "elapsed": 1786,
     "status": "ok",
     "timestamp": 1614095000834,
     "user": {
      "displayName": "Shining Du",
      "photoUrl": "",
      "userId": "16422857245131771211"
     },
     "user_tz": 300
    },
    "id": "gvKDOk3jl-xH",
    "outputId": "bd780c30-0364-4f4b-d356-efb018a600f3"
   },
   "outputs": [
    {
     "name": "stdout",
     "output_type": "stream",
     "text": [
      "Drive already mounted at /content/gdrive; to attempt to forcibly remount, call drive.mount(\"/content/gdrive\", force_remount=True).\n"
     ]
    },
    {
     "data": {
      "text/html": [
       "<div>\n",
       "<style scoped>\n",
       "    .dataframe tbody tr th:only-of-type {\n",
       "        vertical-align: middle;\n",
       "    }\n",
       "\n",
       "    .dataframe tbody tr th {\n",
       "        vertical-align: top;\n",
       "    }\n",
       "\n",
       "    .dataframe thead th {\n",
       "        text-align: right;\n",
       "    }\n",
       "</style>\n",
       "<table border=\"1\" class=\"dataframe\">\n",
       "  <thead>\n",
       "    <tr style=\"text-align: right;\">\n",
       "      <th></th>\n",
       "      <th>enrollee_id</th>\n",
       "      <th>city</th>\n",
       "      <th>city_development_index</th>\n",
       "      <th>gender</th>\n",
       "      <th>relevent_experience</th>\n",
       "      <th>enrolled_university</th>\n",
       "      <th>education_level</th>\n",
       "      <th>major_discipline</th>\n",
       "      <th>experience</th>\n",
       "      <th>company_size</th>\n",
       "      <th>company_type</th>\n",
       "      <th>last_new_job</th>\n",
       "      <th>training_hours</th>\n",
       "      <th>target</th>\n",
       "    </tr>\n",
       "  </thead>\n",
       "  <tbody>\n",
       "    <tr>\n",
       "      <th>0</th>\n",
       "      <td>8949</td>\n",
       "      <td>city_103</td>\n",
       "      <td>0.920</td>\n",
       "      <td>Male</td>\n",
       "      <td>Has relevent experience</td>\n",
       "      <td>no_enrollment</td>\n",
       "      <td>Graduate</td>\n",
       "      <td>STEM</td>\n",
       "      <td>&gt;20</td>\n",
       "      <td>NaN</td>\n",
       "      <td>NaN</td>\n",
       "      <td>1</td>\n",
       "      <td>36</td>\n",
       "      <td>1.0</td>\n",
       "    </tr>\n",
       "    <tr>\n",
       "      <th>1</th>\n",
       "      <td>29725</td>\n",
       "      <td>city_40</td>\n",
       "      <td>0.776</td>\n",
       "      <td>Male</td>\n",
       "      <td>No relevent experience</td>\n",
       "      <td>no_enrollment</td>\n",
       "      <td>Graduate</td>\n",
       "      <td>STEM</td>\n",
       "      <td>15</td>\n",
       "      <td>50-99</td>\n",
       "      <td>Pvt Ltd</td>\n",
       "      <td>&gt;4</td>\n",
       "      <td>47</td>\n",
       "      <td>0.0</td>\n",
       "    </tr>\n",
       "    <tr>\n",
       "      <th>2</th>\n",
       "      <td>11561</td>\n",
       "      <td>city_21</td>\n",
       "      <td>0.624</td>\n",
       "      <td>NaN</td>\n",
       "      <td>No relevent experience</td>\n",
       "      <td>Full time course</td>\n",
       "      <td>Graduate</td>\n",
       "      <td>STEM</td>\n",
       "      <td>5</td>\n",
       "      <td>NaN</td>\n",
       "      <td>NaN</td>\n",
       "      <td>never</td>\n",
       "      <td>83</td>\n",
       "      <td>0.0</td>\n",
       "    </tr>\n",
       "    <tr>\n",
       "      <th>3</th>\n",
       "      <td>33241</td>\n",
       "      <td>city_115</td>\n",
       "      <td>0.789</td>\n",
       "      <td>NaN</td>\n",
       "      <td>No relevent experience</td>\n",
       "      <td>NaN</td>\n",
       "      <td>Graduate</td>\n",
       "      <td>Business Degree</td>\n",
       "      <td>&lt;1</td>\n",
       "      <td>NaN</td>\n",
       "      <td>Pvt Ltd</td>\n",
       "      <td>never</td>\n",
       "      <td>52</td>\n",
       "      <td>1.0</td>\n",
       "    </tr>\n",
       "    <tr>\n",
       "      <th>4</th>\n",
       "      <td>666</td>\n",
       "      <td>city_162</td>\n",
       "      <td>0.767</td>\n",
       "      <td>Male</td>\n",
       "      <td>Has relevent experience</td>\n",
       "      <td>no_enrollment</td>\n",
       "      <td>Masters</td>\n",
       "      <td>STEM</td>\n",
       "      <td>&gt;20</td>\n",
       "      <td>50-99</td>\n",
       "      <td>Funded Startup</td>\n",
       "      <td>4</td>\n",
       "      <td>8</td>\n",
       "      <td>0.0</td>\n",
       "    </tr>\n",
       "  </tbody>\n",
       "</table>\n",
       "</div>"
      ],
      "text/plain": [
       "   enrollee_id      city  ...  training_hours target\n",
       "0         8949  city_103  ...              36    1.0\n",
       "1        29725   city_40  ...              47    0.0\n",
       "2        11561   city_21  ...              83    0.0\n",
       "3        33241  city_115  ...              52    1.0\n",
       "4          666  city_162  ...               8    0.0\n",
       "\n",
       "[5 rows x 14 columns]"
      ]
     },
     "execution_count": 14,
     "metadata": {
      "tags": []
     },
     "output_type": "execute_result"
    }
   ],
   "source": [
    "#train_raw = pd.read_csv(\"../input/?/train.csv\")\n",
    "#train_raw = pd.read_csv(\"/Users/shiningdu/Documents/?/train.csv\")\n",
    "#Mount your Google drive so you can read them easilu\n",
    "from google.colab import drive\n",
    "drive.mount('/content/gdrive')\n",
    "train_raw = pd.read_csv(\"/content/gdrive/My Drive/Colab Notebooks/HR Analytics- Job Change of Data Scientists/aug_train.csv\")\n",
    "\n",
    "# What does this data look like?\n",
    "train_raw.head()"
   ]
  },
  {
   "cell_type": "markdown",
   "metadata": {
    "id": "50BNkebl9Kz2"
   },
   "source": [
    "Now I check the training data's information."
   ]
  },
  {
   "cell_type": "code",
   "execution_count": null,
   "metadata": {
    "colab": {
     "base_uri": "https://localhost:8080/"
    },
    "executionInfo": {
     "elapsed": 1774,
     "status": "ok",
     "timestamp": 1614095000835,
     "user": {
      "displayName": "Shining Du",
      "photoUrl": "",
      "userId": "16422857245131771211"
     },
     "user_tz": 300
    },
    "id": "potTQHsBnEOm",
    "outputId": "78907de1-7830-4a5f-f10c-c414c302c21b"
   },
   "outputs": [
    {
     "name": "stdout",
     "output_type": "stream",
     "text": [
      "<class 'pandas.core.frame.DataFrame'>\n",
      "RangeIndex: 19158 entries, 0 to 19157\n",
      "Data columns (total 14 columns):\n",
      " #   Column                  Non-Null Count  Dtype  \n",
      "---  ------                  --------------  -----  \n",
      " 0   enrollee_id             19158 non-null  int64  \n",
      " 1   city                    19158 non-null  object \n",
      " 2   city_development_index  19158 non-null  float64\n",
      " 3   gender                  14650 non-null  object \n",
      " 4   relevent_experience     19158 non-null  object \n",
      " 5   enrolled_university     18772 non-null  object \n",
      " 6   education_level         18698 non-null  object \n",
      " 7   major_discipline        16345 non-null  object \n",
      " 8   experience              19093 non-null  object \n",
      " 9   company_size            13220 non-null  object \n",
      " 10  company_type            13018 non-null  object \n",
      " 11  last_new_job            18735 non-null  object \n",
      " 12  training_hours          19158 non-null  int64  \n",
      " 13  target                  19158 non-null  float64\n",
      "dtypes: float64(2), int64(2), object(10)\n",
      "memory usage: 2.0+ MB\n"
     ]
    }
   ],
   "source": [
    "train_raw.info()"
   ]
  },
  {
   "cell_type": "markdown",
   "metadata": {
    "id": "Dq_b1lypnkDE"
   },
   "source": [
    "This data contain missing values."
   ]
  },
  {
   "cell_type": "markdown",
   "metadata": {
    "id": "crH8FvXq6zNR"
   },
   "source": [
    "# Checking Missing Values"
   ]
  },
  {
   "cell_type": "code",
   "execution_count": null,
   "metadata": {
    "colab": {
     "base_uri": "https://localhost:8080/",
     "height": 478
    },
    "executionInfo": {
     "elapsed": 1763,
     "status": "ok",
     "timestamp": 1614095000836,
     "user": {
      "displayName": "Shining Du",
      "photoUrl": "",
      "userId": "16422857245131771211"
     },
     "user_tz": 300
    },
    "id": "LS-f2ySzneas",
    "outputId": "73335875-8020-4ae6-9199-9fb94f838fca"
   },
   "outputs": [
    {
     "data": {
      "text/html": [
       "<div>\n",
       "<style scoped>\n",
       "    .dataframe tbody tr th:only-of-type {\n",
       "        vertical-align: middle;\n",
       "    }\n",
       "\n",
       "    .dataframe tbody tr th {\n",
       "        vertical-align: top;\n",
       "    }\n",
       "\n",
       "    .dataframe thead th {\n",
       "        text-align: right;\n",
       "    }\n",
       "</style>\n",
       "<table border=\"1\" class=\"dataframe\">\n",
       "  <thead>\n",
       "    <tr style=\"text-align: right;\">\n",
       "      <th></th>\n",
       "      <th>Number of Observations</th>\n",
       "      <th>Percent</th>\n",
       "    </tr>\n",
       "  </thead>\n",
       "  <tbody>\n",
       "    <tr>\n",
       "      <th>company_type</th>\n",
       "      <td>6140</td>\n",
       "      <td>32.05</td>\n",
       "    </tr>\n",
       "    <tr>\n",
       "      <th>company_size</th>\n",
       "      <td>5938</td>\n",
       "      <td>30.99</td>\n",
       "    </tr>\n",
       "    <tr>\n",
       "      <th>gender</th>\n",
       "      <td>4508</td>\n",
       "      <td>23.53</td>\n",
       "    </tr>\n",
       "    <tr>\n",
       "      <th>major_discipline</th>\n",
       "      <td>2813</td>\n",
       "      <td>14.68</td>\n",
       "    </tr>\n",
       "    <tr>\n",
       "      <th>education_level</th>\n",
       "      <td>460</td>\n",
       "      <td>2.40</td>\n",
       "    </tr>\n",
       "    <tr>\n",
       "      <th>last_new_job</th>\n",
       "      <td>423</td>\n",
       "      <td>2.21</td>\n",
       "    </tr>\n",
       "    <tr>\n",
       "      <th>enrolled_university</th>\n",
       "      <td>386</td>\n",
       "      <td>2.01</td>\n",
       "    </tr>\n",
       "    <tr>\n",
       "      <th>experience</th>\n",
       "      <td>65</td>\n",
       "      <td>0.34</td>\n",
       "    </tr>\n",
       "    <tr>\n",
       "      <th>target</th>\n",
       "      <td>0</td>\n",
       "      <td>0.00</td>\n",
       "    </tr>\n",
       "    <tr>\n",
       "      <th>training_hours</th>\n",
       "      <td>0</td>\n",
       "      <td>0.00</td>\n",
       "    </tr>\n",
       "    <tr>\n",
       "      <th>relevent_experience</th>\n",
       "      <td>0</td>\n",
       "      <td>0.00</td>\n",
       "    </tr>\n",
       "    <tr>\n",
       "      <th>city_development_index</th>\n",
       "      <td>0</td>\n",
       "      <td>0.00</td>\n",
       "    </tr>\n",
       "    <tr>\n",
       "      <th>city</th>\n",
       "      <td>0</td>\n",
       "      <td>0.00</td>\n",
       "    </tr>\n",
       "    <tr>\n",
       "      <th>enrollee_id</th>\n",
       "      <td>0</td>\n",
       "      <td>0.00</td>\n",
       "    </tr>\n",
       "  </tbody>\n",
       "</table>\n",
       "</div>"
      ],
      "text/plain": [
       "                        Number of Observations  Percent\n",
       "company_type                              6140    32.05\n",
       "company_size                              5938    30.99\n",
       "gender                                    4508    23.53\n",
       "major_discipline                          2813    14.68\n",
       "education_level                            460     2.40\n",
       "last_new_job                               423     2.21\n",
       "enrolled_university                        386     2.01\n",
       "experience                                  65     0.34\n",
       "target                                       0     0.00\n",
       "training_hours                               0     0.00\n",
       "relevent_experience                          0     0.00\n",
       "city_development_index                       0     0.00\n",
       "city                                         0     0.00\n",
       "enrollee_id                                  0     0.00"
      ]
     },
     "execution_count": 16,
     "metadata": {
      "tags": []
     },
     "output_type": "execute_result"
    }
   ],
   "source": [
    "# to check any missing values in each feature\n",
    "obs = train_raw.isnull().sum().sort_values(ascending = False)\n",
    "percent = round(train_raw.isnull().sum().sort_values(ascending = False)/len(train_raw)*100, 2)\n",
    "pd.concat([obs, percent], axis = 1, keys= ['Number of Observations', 'Percent'])"
   ]
  },
  {
   "cell_type": "markdown",
   "metadata": {
    "id": "77Qwbs0hDYCm"
   },
   "source": [
    "The missing value percents for the top 4 features are all over 10%! "
   ]
  },
  {
   "cell_type": "code",
   "execution_count": null,
   "metadata": {
    "colab": {
     "base_uri": "https://localhost:8080/"
    },
    "executionInfo": {
     "elapsed": 1751,
     "status": "ok",
     "timestamp": 1614095000837,
     "user": {
      "displayName": "Shining Du",
      "photoUrl": "",
      "userId": "16422857245131771211"
     },
     "user_tz": 300
    },
    "id": "zMuzNfoJ3gjF",
    "outputId": "3170c4f9-7a11-4b26-ee90-0f2bcb6fb3b2"
   },
   "outputs": [
    {
     "data": {
      "text/plain": [
       "0.5325712496085186"
      ]
     },
     "execution_count": 17,
     "metadata": {
      "tags": []
     },
     "output_type": "execute_result"
    }
   ],
   "source": [
    "# how many percent of the observations contain at least one missing value?\n",
    "len(train_raw[train_raw.isna().any(axis=1)])/len(train_raw)"
   ]
  },
  {
   "cell_type": "markdown",
   "metadata": {
    "id": "KQ6s2Yk7FfmM"
   },
   "source": [
    "Over 50% of the observations contain  at least one missing value! I can't delete these observations. "
   ]
  },
  {
   "cell_type": "markdown",
   "metadata": {
    "id": "2U-ktnDuX33Z"
   },
   "source": [
    "# Missing Value Imputation"
   ]
  },
  {
   "cell_type": "markdown",
   "metadata": {
    "id": "cJ4LpApVa6xp"
   },
   "source": [
    "It is quite hard to guess why the responders didn't give their answers to the survey, thus I would prefer impute missing values with NA to indicate \"unknown\" than the mode of each feature."
   ]
  },
  {
   "cell_type": "code",
   "execution_count": null,
   "metadata": {
    "colab": {
     "base_uri": "https://localhost:8080/",
     "height": 309
    },
    "executionInfo": {
     "elapsed": 1870,
     "status": "ok",
     "timestamp": 1614095000968,
     "user": {
      "displayName": "Shining Du",
      "photoUrl": "",
      "userId": "16422857245131771211"
     },
     "user_tz": 300
    },
    "id": "d3JRq5zYZmgd",
    "outputId": "21e67b53-a5d2-4b1e-f4c0-d65f1c960663"
   },
   "outputs": [
    {
     "data": {
      "text/html": [
       "<div>\n",
       "<style scoped>\n",
       "    .dataframe tbody tr th:only-of-type {\n",
       "        vertical-align: middle;\n",
       "    }\n",
       "\n",
       "    .dataframe tbody tr th {\n",
       "        vertical-align: top;\n",
       "    }\n",
       "\n",
       "    .dataframe thead th {\n",
       "        text-align: right;\n",
       "    }\n",
       "</style>\n",
       "<table border=\"1\" class=\"dataframe\">\n",
       "  <thead>\n",
       "    <tr style=\"text-align: right;\">\n",
       "      <th></th>\n",
       "      <th>enrollee_id</th>\n",
       "      <th>city</th>\n",
       "      <th>city_development_index</th>\n",
       "      <th>gender</th>\n",
       "      <th>relevent_experience</th>\n",
       "      <th>enrolled_university</th>\n",
       "      <th>education_level</th>\n",
       "      <th>major_discipline</th>\n",
       "      <th>experience</th>\n",
       "      <th>company_size</th>\n",
       "      <th>company_type</th>\n",
       "      <th>last_new_job</th>\n",
       "      <th>training_hours</th>\n",
       "      <th>target</th>\n",
       "    </tr>\n",
       "  </thead>\n",
       "  <tbody>\n",
       "    <tr>\n",
       "      <th>0</th>\n",
       "      <td>8949</td>\n",
       "      <td>city_103</td>\n",
       "      <td>0.920</td>\n",
       "      <td>Male</td>\n",
       "      <td>Has relevent experience</td>\n",
       "      <td>no_enrollment</td>\n",
       "      <td>Graduate</td>\n",
       "      <td>STEM</td>\n",
       "      <td>&gt;20</td>\n",
       "      <td>NA_companySize</td>\n",
       "      <td>NA_companyType</td>\n",
       "      <td>1</td>\n",
       "      <td>36</td>\n",
       "      <td>1.0</td>\n",
       "    </tr>\n",
       "    <tr>\n",
       "      <th>1</th>\n",
       "      <td>29725</td>\n",
       "      <td>city_40</td>\n",
       "      <td>0.776</td>\n",
       "      <td>Male</td>\n",
       "      <td>No relevent experience</td>\n",
       "      <td>no_enrollment</td>\n",
       "      <td>Graduate</td>\n",
       "      <td>STEM</td>\n",
       "      <td>15</td>\n",
       "      <td>50-99</td>\n",
       "      <td>Pvt Ltd</td>\n",
       "      <td>&gt;4</td>\n",
       "      <td>47</td>\n",
       "      <td>0.0</td>\n",
       "    </tr>\n",
       "    <tr>\n",
       "      <th>2</th>\n",
       "      <td>11561</td>\n",
       "      <td>city_21</td>\n",
       "      <td>0.624</td>\n",
       "      <td>NA_gender</td>\n",
       "      <td>No relevent experience</td>\n",
       "      <td>Full time course</td>\n",
       "      <td>Graduate</td>\n",
       "      <td>STEM</td>\n",
       "      <td>5</td>\n",
       "      <td>NA_companySize</td>\n",
       "      <td>NA_companyType</td>\n",
       "      <td>never</td>\n",
       "      <td>83</td>\n",
       "      <td>0.0</td>\n",
       "    </tr>\n",
       "    <tr>\n",
       "      <th>3</th>\n",
       "      <td>33241</td>\n",
       "      <td>city_115</td>\n",
       "      <td>0.789</td>\n",
       "      <td>NA_gender</td>\n",
       "      <td>No relevent experience</td>\n",
       "      <td>NA_enrolledUniversity</td>\n",
       "      <td>Graduate</td>\n",
       "      <td>Business Degree</td>\n",
       "      <td>&lt;1</td>\n",
       "      <td>NA_companySize</td>\n",
       "      <td>Pvt Ltd</td>\n",
       "      <td>never</td>\n",
       "      <td>52</td>\n",
       "      <td>1.0</td>\n",
       "    </tr>\n",
       "    <tr>\n",
       "      <th>4</th>\n",
       "      <td>666</td>\n",
       "      <td>city_162</td>\n",
       "      <td>0.767</td>\n",
       "      <td>Male</td>\n",
       "      <td>Has relevent experience</td>\n",
       "      <td>no_enrollment</td>\n",
       "      <td>Masters</td>\n",
       "      <td>STEM</td>\n",
       "      <td>&gt;20</td>\n",
       "      <td>50-99</td>\n",
       "      <td>Funded Startup</td>\n",
       "      <td>4</td>\n",
       "      <td>8</td>\n",
       "      <td>0.0</td>\n",
       "    </tr>\n",
       "  </tbody>\n",
       "</table>\n",
       "</div>"
      ],
      "text/plain": [
       "   enrollee_id      city  ...  training_hours target\n",
       "0         8949  city_103  ...              36    1.0\n",
       "1        29725   city_40  ...              47    0.0\n",
       "2        11561   city_21  ...              83    0.0\n",
       "3        33241  city_115  ...              52    1.0\n",
       "4          666  city_162  ...               8    0.0\n",
       "\n",
       "[5 rows x 14 columns]"
      ]
     },
     "execution_count": 18,
     "metadata": {
      "tags": []
     },
     "output_type": "execute_result"
    }
   ],
   "source": [
    "train_data = train_raw.copy()\n",
    "\n",
    "# to replace missing values with new values\n",
    "train_data['company_type'].fillna('NA_companyType', inplace=True)\n",
    "train_data['company_size'].fillna('NA_companySize', inplace=True)\n",
    "train_data['gender'].fillna('NA_gender', inplace=True)\n",
    "train_data['major_discipline'].fillna('NA_majorDiscipline', inplace=True)\n",
    "train_data['education_level'].fillna('NA_educationLevel', inplace=True)\n",
    "train_data['last_new_job'].fillna('NA_lastNewJob', inplace=True)\n",
    "train_data['enrolled_university'].fillna('NA_enrolledUniversity', inplace=True)\n",
    "train_data['experience'].fillna('NA_experience', inplace=True)\n",
    "\n",
    "train_data.head()"
   ]
  },
  {
   "cell_type": "code",
   "execution_count": null,
   "metadata": {
    "colab": {
     "base_uri": "https://localhost:8080/"
    },
    "executionInfo": {
     "elapsed": 1857,
     "status": "ok",
     "timestamp": 1614095000969,
     "user": {
      "displayName": "Shining Du",
      "photoUrl": "",
      "userId": "16422857245131771211"
     },
     "user_tz": 300
    },
    "id": "mzolRXFxX01m",
    "outputId": "5965a5da-a6b8-4d30-d91e-2b9f36429aed"
   },
   "outputs": [
    {
     "data": {
      "text/plain": [
       "0.0"
      ]
     },
     "execution_count": 19,
     "metadata": {
      "tags": []
     },
     "output_type": "execute_result"
    }
   ],
   "source": [
    "# how many percent of the observations contain at least one missing value NOW?\n",
    "len(train_data[train_data.isna().any(axis=1)])/len(train_data)"
   ]
  },
  {
   "cell_type": "markdown",
   "metadata": {
    "id": "PypP-ARRLHS9"
   },
   "source": [
    "# Checking Outliers"
   ]
  },
  {
   "cell_type": "code",
   "execution_count": null,
   "metadata": {
    "colab": {
     "base_uri": "https://localhost:8080/",
     "height": 285
    },
    "executionInfo": {
     "elapsed": 687,
     "status": "ok",
     "timestamp": 1614102461800,
     "user": {
      "displayName": "Shining Du",
      "photoUrl": "",
      "userId": "16422857245131771211"
     },
     "user_tz": 300
    },
    "id": "m7ioJx-9AC0p",
    "outputId": "336b4416-4aa5-49f7-d588-54af41a45219"
   },
   "outputs": [
    {
     "data": {
      "image/png": "[encoded data removed]",
      "text/plain": [
       "<Figure size 432x288 with 1 Axes>"
      ]
     },
     "metadata": {
      "tags": []
     },
     "output_type": "display_data"
    }
   ],
   "source": [
    "import seaborn as sns\n",
    "\n",
    "sns.set_theme(style=\"whitegrid\")\n",
    "ax = sns.boxplot(x=train_data['city_development_index'])"
   ]
  },
  {
   "cell_type": "code",
   "execution_count": null,
   "metadata": {
    "colab": {
     "base_uri": "https://localhost:8080/",
     "height": 285
    },
    "executionInfo": {
     "elapsed": 488,
     "status": "ok",
     "timestamp": 1614102504428,
     "user": {
      "displayName": "Shining Du",
      "photoUrl": "",
      "userId": "16422857245131771211"
     },
     "user_tz": 300
    },
    "id": "OSe4a1dDAVPX",
    "outputId": "d76cc85a-72dd-4d71-a763-ad70352c7614"
   },
   "outputs": [
    {
     "data": {
      "image/png": "[encoded data removed]",
      "text/plain": [
       "<Figure size 432x288 with 1 Axes>"
      ]
     },
     "metadata": {
      "tags": []
     },
     "output_type": "display_data"
    }
   ],
   "source": [
    "sns.set_theme(style=\"whitegrid\")\n",
    "ax = sns.boxplot(x=train_data['training_hours'])"
   ]
  },
  {
   "cell_type": "markdown",
   "metadata": {
    "id": "OKpjdAsELMj2"
   },
   "source": [
    "The feature training_hours contains many outliers, I will consider if I keep it after checking feature importance. If I keep it, I'll do log transformation for it."
   ]
  },
  {
   "cell_type": "markdown",
   "metadata": {
    "id": "K6tv_NomeMke"
   },
   "source": [
    "# Descriptive Analysis"
   ]
  },
  {
   "cell_type": "code",
   "execution_count": null,
   "metadata": {
    "colab": {
     "base_uri": "https://localhost:8080/",
     "height": 294
    },
    "executionInfo": {
     "elapsed": 1845,
     "status": "ok",
     "timestamp": 1614095000970,
     "user": {
      "displayName": "Shining Du",
      "photoUrl": "",
      "userId": "16422857245131771211"
     },
     "user_tz": 300
    },
    "id": "6VkKylUwbbLW",
    "outputId": "08b809f1-8a8c-4aba-ac99-1115d56901c4"
   },
   "outputs": [
    {
     "data": {
      "text/html": [
       "<div>\n",
       "<style scoped>\n",
       "    .dataframe tbody tr th:only-of-type {\n",
       "        vertical-align: middle;\n",
       "    }\n",
       "\n",
       "    .dataframe tbody tr th {\n",
       "        vertical-align: top;\n",
       "    }\n",
       "\n",
       "    .dataframe thead th {\n",
       "        text-align: right;\n",
       "    }\n",
       "</style>\n",
       "<table border=\"1\" class=\"dataframe\">\n",
       "  <thead>\n",
       "    <tr style=\"text-align: right;\">\n",
       "      <th></th>\n",
       "      <th>city_development_index</th>\n",
       "      <th>training_hours</th>\n",
       "    </tr>\n",
       "  </thead>\n",
       "  <tbody>\n",
       "    <tr>\n",
       "      <th>count</th>\n",
       "      <td>19158.000000</td>\n",
       "      <td>19158.000000</td>\n",
       "    </tr>\n",
       "    <tr>\n",
       "      <th>mean</th>\n",
       "      <td>0.828848</td>\n",
       "      <td>65.366896</td>\n",
       "    </tr>\n",
       "    <tr>\n",
       "      <th>std</th>\n",
       "      <td>0.123362</td>\n",
       "      <td>60.058462</td>\n",
       "    </tr>\n",
       "    <tr>\n",
       "      <th>min</th>\n",
       "      <td>0.448000</td>\n",
       "      <td>1.000000</td>\n",
       "    </tr>\n",
       "    <tr>\n",
       "      <th>25%</th>\n",
       "      <td>0.740000</td>\n",
       "      <td>23.000000</td>\n",
       "    </tr>\n",
       "    <tr>\n",
       "      <th>50%</th>\n",
       "      <td>0.903000</td>\n",
       "      <td>47.000000</td>\n",
       "    </tr>\n",
       "    <tr>\n",
       "      <th>75%</th>\n",
       "      <td>0.920000</td>\n",
       "      <td>88.000000</td>\n",
       "    </tr>\n",
       "    <tr>\n",
       "      <th>max</th>\n",
       "      <td>0.949000</td>\n",
       "      <td>336.000000</td>\n",
       "    </tr>\n",
       "  </tbody>\n",
       "</table>\n",
       "</div>"
      ],
      "text/plain": [
       "       city_development_index  training_hours\n",
       "count            19158.000000    19158.000000\n",
       "mean                 0.828848       65.366896\n",
       "std                  0.123362       60.058462\n",
       "min                  0.448000        1.000000\n",
       "25%                  0.740000       23.000000\n",
       "50%                  0.903000       47.000000\n",
       "75%                  0.920000       88.000000\n",
       "max                  0.949000      336.000000"
      ]
     },
     "execution_count": 20,
     "metadata": {
      "tags": []
     },
     "output_type": "execute_result"
    }
   ],
   "source": [
    "train_data[['city_development_index',\t'training_hours']].describe()"
   ]
  },
  {
   "cell_type": "markdown",
   "metadata": {
    "id": "uBmRp8XyfNow"
   },
   "source": [
    "# Categorical Features"
   ]
  },
  {
   "cell_type": "markdown",
   "metadata": {
    "id": "8fFoLmGMjB2N"
   },
   "source": [
    "Note that the city feature contains values with 'city_', it is better to remove this part for the sake of one hot encoding to be conducted later on."
   ]
  },
  {
   "cell_type": "markdown",
   "metadata": {
    "id": "1A-r6CDGjgHj"
   },
   "source": [
    "# Tackling the Feature City "
   ]
  },
  {
   "cell_type": "code",
   "execution_count": null,
   "metadata": {
    "colab": {
     "base_uri": "https://localhost:8080/",
     "height": 309
    },
    "executionInfo": {
     "elapsed": 1985,
     "status": "ok",
     "timestamp": 1614095001125,
     "user": {
      "displayName": "Shining Du",
      "photoUrl": "",
      "userId": "16422857245131771211"
     },
     "user_tz": 300
    },
    "id": "cY31WokZiXQ-",
    "outputId": "e41864bd-8936-4514-ce96-1b233334b16f"
   },
   "outputs": [
    {
     "data": {
      "text/html": [
       "<div>\n",
       "<style scoped>\n",
       "    .dataframe tbody tr th:only-of-type {\n",
       "        vertical-align: middle;\n",
       "    }\n",
       "\n",
       "    .dataframe tbody tr th {\n",
       "        vertical-align: top;\n",
       "    }\n",
       "\n",
       "    .dataframe thead th {\n",
       "        text-align: right;\n",
       "    }\n",
       "</style>\n",
       "<table border=\"1\" class=\"dataframe\">\n",
       "  <thead>\n",
       "    <tr style=\"text-align: right;\">\n",
       "      <th></th>\n",
       "      <th>enrollee_id</th>\n",
       "      <th>city</th>\n",
       "      <th>city_development_index</th>\n",
       "      <th>gender</th>\n",
       "      <th>relevent_experience</th>\n",
       "      <th>enrolled_university</th>\n",
       "      <th>education_level</th>\n",
       "      <th>major_discipline</th>\n",
       "      <th>experience</th>\n",
       "      <th>company_size</th>\n",
       "      <th>company_type</th>\n",
       "      <th>last_new_job</th>\n",
       "      <th>training_hours</th>\n",
       "      <th>target</th>\n",
       "    </tr>\n",
       "  </thead>\n",
       "  <tbody>\n",
       "    <tr>\n",
       "      <th>0</th>\n",
       "      <td>8949</td>\n",
       "      <td>103</td>\n",
       "      <td>0.920</td>\n",
       "      <td>Male</td>\n",
       "      <td>Has relevent experience</td>\n",
       "      <td>no_enrollment</td>\n",
       "      <td>Graduate</td>\n",
       "      <td>STEM</td>\n",
       "      <td>&gt;20</td>\n",
       "      <td>NA_companySize</td>\n",
       "      <td>NA_companyType</td>\n",
       "      <td>1</td>\n",
       "      <td>36</td>\n",
       "      <td>1.0</td>\n",
       "    </tr>\n",
       "    <tr>\n",
       "      <th>1</th>\n",
       "      <td>29725</td>\n",
       "      <td>40</td>\n",
       "      <td>0.776</td>\n",
       "      <td>Male</td>\n",
       "      <td>No relevent experience</td>\n",
       "      <td>no_enrollment</td>\n",
       "      <td>Graduate</td>\n",
       "      <td>STEM</td>\n",
       "      <td>15</td>\n",
       "      <td>50-99</td>\n",
       "      <td>Pvt Ltd</td>\n",
       "      <td>&gt;4</td>\n",
       "      <td>47</td>\n",
       "      <td>0.0</td>\n",
       "    </tr>\n",
       "    <tr>\n",
       "      <th>2</th>\n",
       "      <td>11561</td>\n",
       "      <td>21</td>\n",
       "      <td>0.624</td>\n",
       "      <td>NA_gender</td>\n",
       "      <td>No relevent experience</td>\n",
       "      <td>Full time course</td>\n",
       "      <td>Graduate</td>\n",
       "      <td>STEM</td>\n",
       "      <td>5</td>\n",
       "      <td>NA_companySize</td>\n",
       "      <td>NA_companyType</td>\n",
       "      <td>never</td>\n",
       "      <td>83</td>\n",
       "      <td>0.0</td>\n",
       "    </tr>\n",
       "    <tr>\n",
       "      <th>3</th>\n",
       "      <td>33241</td>\n",
       "      <td>115</td>\n",
       "      <td>0.789</td>\n",
       "      <td>NA_gender</td>\n",
       "      <td>No relevent experience</td>\n",
       "      <td>NA_enrolledUniversity</td>\n",
       "      <td>Graduate</td>\n",
       "      <td>Business Degree</td>\n",
       "      <td>&lt;1</td>\n",
       "      <td>NA_companySize</td>\n",
       "      <td>Pvt Ltd</td>\n",
       "      <td>never</td>\n",
       "      <td>52</td>\n",
       "      <td>1.0</td>\n",
       "    </tr>\n",
       "    <tr>\n",
       "      <th>4</th>\n",
       "      <td>666</td>\n",
       "      <td>162</td>\n",
       "      <td>0.767</td>\n",
       "      <td>Male</td>\n",
       "      <td>Has relevent experience</td>\n",
       "      <td>no_enrollment</td>\n",
       "      <td>Masters</td>\n",
       "      <td>STEM</td>\n",
       "      <td>&gt;20</td>\n",
       "      <td>50-99</td>\n",
       "      <td>Funded Startup</td>\n",
       "      <td>4</td>\n",
       "      <td>8</td>\n",
       "      <td>0.0</td>\n",
       "    </tr>\n",
       "  </tbody>\n",
       "</table>\n",
       "</div>"
      ],
      "text/plain": [
       "   enrollee_id city  ...  training_hours target\n",
       "0         8949  103  ...              36    1.0\n",
       "1        29725   40  ...              47    0.0\n",
       "2        11561   21  ...              83    0.0\n",
       "3        33241  115  ...              52    1.0\n",
       "4          666  162  ...               8    0.0\n",
       "\n",
       "[5 rows x 14 columns]"
      ]
     },
     "execution_count": 21,
     "metadata": {
      "tags": []
     },
     "output_type": "execute_result"
    }
   ],
   "source": [
    "import re\n",
    "\n",
    "train_data2 = train_data.copy()\n",
    "\n",
    "# to extract the value after \"city_\" in the city feature\n",
    "pattern = r'[0-9]+'\n",
    "regex = re.compile(pattern)\n",
    "f = lambda x: re.findall(regex, x)[0]    # [0] is used to obtain the value in brakets\n",
    "\n",
    "train_data2['city'] = train_data2['city'].apply(f)\n",
    "train_data2.head()"
   ]
  },
  {
   "cell_type": "code",
   "execution_count": null,
   "metadata": {
    "colab": {
     "base_uri": "https://localhost:8080/",
     "height": 309
    },
    "executionInfo": {
     "elapsed": 1971,
     "status": "ok",
     "timestamp": 1614095001125,
     "user": {
      "displayName": "Shining Du",
      "photoUrl": "",
      "userId": "16422857245131771211"
     },
     "user_tz": 300
    },
    "id": "P1eSl_VrkKC2",
    "outputId": "7079d6f0-9fbb-4873-8b47-aabbbe2207cd"
   },
   "outputs": [
    {
     "data": {
      "text/html": [
       "<div>\n",
       "<style scoped>\n",
       "    .dataframe tbody tr th:only-of-type {\n",
       "        vertical-align: middle;\n",
       "    }\n",
       "\n",
       "    .dataframe tbody tr th {\n",
       "        vertical-align: top;\n",
       "    }\n",
       "\n",
       "    .dataframe thead th {\n",
       "        text-align: right;\n",
       "    }\n",
       "</style>\n",
       "<table border=\"1\" class=\"dataframe\">\n",
       "  <thead>\n",
       "    <tr style=\"text-align: right;\">\n",
       "      <th></th>\n",
       "      <th>city</th>\n",
       "      <th>city_development_index</th>\n",
       "      <th>gender</th>\n",
       "      <th>relevent_experience</th>\n",
       "      <th>enrolled_university</th>\n",
       "      <th>education_level</th>\n",
       "      <th>major_discipline</th>\n",
       "      <th>experience</th>\n",
       "      <th>company_size</th>\n",
       "      <th>company_type</th>\n",
       "      <th>last_new_job</th>\n",
       "      <th>training_hours</th>\n",
       "      <th>target</th>\n",
       "    </tr>\n",
       "  </thead>\n",
       "  <tbody>\n",
       "    <tr>\n",
       "      <th>0</th>\n",
       "      <td>103</td>\n",
       "      <td>0.920</td>\n",
       "      <td>Male</td>\n",
       "      <td>Has relevent experience</td>\n",
       "      <td>no_enrollment</td>\n",
       "      <td>Graduate</td>\n",
       "      <td>STEM</td>\n",
       "      <td>&gt;20</td>\n",
       "      <td>NA_companySize</td>\n",
       "      <td>NA_companyType</td>\n",
       "      <td>1</td>\n",
       "      <td>36</td>\n",
       "      <td>1.0</td>\n",
       "    </tr>\n",
       "    <tr>\n",
       "      <th>1</th>\n",
       "      <td>40</td>\n",
       "      <td>0.776</td>\n",
       "      <td>Male</td>\n",
       "      <td>No relevent experience</td>\n",
       "      <td>no_enrollment</td>\n",
       "      <td>Graduate</td>\n",
       "      <td>STEM</td>\n",
       "      <td>15</td>\n",
       "      <td>50-99</td>\n",
       "      <td>Pvt Ltd</td>\n",
       "      <td>&gt;4</td>\n",
       "      <td>47</td>\n",
       "      <td>0.0</td>\n",
       "    </tr>\n",
       "    <tr>\n",
       "      <th>2</th>\n",
       "      <td>21</td>\n",
       "      <td>0.624</td>\n",
       "      <td>NA_gender</td>\n",
       "      <td>No relevent experience</td>\n",
       "      <td>Full time course</td>\n",
       "      <td>Graduate</td>\n",
       "      <td>STEM</td>\n",
       "      <td>5</td>\n",
       "      <td>NA_companySize</td>\n",
       "      <td>NA_companyType</td>\n",
       "      <td>never</td>\n",
       "      <td>83</td>\n",
       "      <td>0.0</td>\n",
       "    </tr>\n",
       "    <tr>\n",
       "      <th>3</th>\n",
       "      <td>115</td>\n",
       "      <td>0.789</td>\n",
       "      <td>NA_gender</td>\n",
       "      <td>No relevent experience</td>\n",
       "      <td>NA_enrolledUniversity</td>\n",
       "      <td>Graduate</td>\n",
       "      <td>Business Degree</td>\n",
       "      <td>&lt;1</td>\n",
       "      <td>NA_companySize</td>\n",
       "      <td>Pvt Ltd</td>\n",
       "      <td>never</td>\n",
       "      <td>52</td>\n",
       "      <td>1.0</td>\n",
       "    </tr>\n",
       "    <tr>\n",
       "      <th>4</th>\n",
       "      <td>162</td>\n",
       "      <td>0.767</td>\n",
       "      <td>Male</td>\n",
       "      <td>Has relevent experience</td>\n",
       "      <td>no_enrollment</td>\n",
       "      <td>Masters</td>\n",
       "      <td>STEM</td>\n",
       "      <td>&gt;20</td>\n",
       "      <td>50-99</td>\n",
       "      <td>Funded Startup</td>\n",
       "      <td>4</td>\n",
       "      <td>8</td>\n",
       "      <td>0.0</td>\n",
       "    </tr>\n",
       "  </tbody>\n",
       "</table>\n",
       "</div>"
      ],
      "text/plain": [
       "  city  city_development_index     gender  ... last_new_job training_hours target\n",
       "0  103                   0.920       Male  ...            1             36    1.0\n",
       "1   40                   0.776       Male  ...           >4             47    0.0\n",
       "2   21                   0.624  NA_gender  ...        never             83    0.0\n",
       "3  115                   0.789  NA_gender  ...        never             52    1.0\n",
       "4  162                   0.767       Male  ...            4              8    0.0\n",
       "\n",
       "[5 rows x 13 columns]"
      ]
     },
     "execution_count": 22,
     "metadata": {
      "tags": []
     },
     "output_type": "execute_result"
    }
   ],
   "source": [
    "# to drop enrollee_id feature\n",
    "train_data2 =  train_data2.drop(['enrollee_id'], axis=1)\n",
    "\n",
    "train_data2.head()"
   ]
  },
  {
   "cell_type": "code",
   "execution_count": null,
   "metadata": {
    "colab": {
     "base_uri": "https://localhost:8080/"
    },
    "executionInfo": {
     "elapsed": 1958,
     "status": "ok",
     "timestamp": 1614095001126,
     "user": {
      "displayName": "Shining Du",
      "photoUrl": "",
      "userId": "16422857245131771211"
     },
     "user_tz": 300
    },
    "id": "hbZu0gcvZoOO",
    "outputId": "4343d64a-91e1-439b-f800-a2c76fb62bf8"
   },
   "outputs": [
    {
     "data": {
      "text/plain": [
       "(19158, 13)"
      ]
     },
     "execution_count": 23,
     "metadata": {
      "tags": []
     },
     "output_type": "execute_result"
    }
   ],
   "source": [
    "train_data2.shape"
   ]
  },
  {
   "cell_type": "markdown",
   "metadata": {
    "id": "ibxj4wv2NAOq"
   },
   "source": [
    "# Count of Each Feature"
   ]
  },
  {
   "cell_type": "code",
   "execution_count": null,
   "metadata": {
    "colab": {
     "base_uri": "https://localhost:8080/",
     "height": 1000
    },
    "executionInfo": {
     "elapsed": 2102,
     "status": "ok",
     "timestamp": 1614095001282,
     "user": {
      "displayName": "Shining Du",
      "photoUrl": "",
      "userId": "16422857245131771211"
     },
     "user_tz": 300
    },
    "id": "2nK9GNgO0Hvz",
    "outputId": "a763f698-644d-4f55-c90e-e8ec045598b2"
   },
   "outputs": [
    {
     "name": "stdout",
     "output_type": "stream",
     "text": [
      "gender\n"
     ]
    },
    {
     "data": {
      "text/html": [
       "<div>\n",
       "<style scoped>\n",
       "    .dataframe tbody tr th:only-of-type {\n",
       "        vertical-align: middle;\n",
       "    }\n",
       "\n",
       "    .dataframe tbody tr th {\n",
       "        vertical-align: top;\n",
       "    }\n",
       "\n",
       "    .dataframe thead th {\n",
       "        text-align: right;\n",
       "    }\n",
       "</style>\n",
       "<table border=\"1\" class=\"dataframe\">\n",
       "  <thead>\n",
       "    <tr style=\"text-align: right;\">\n",
       "      <th></th>\n",
       "      <th>Count</th>\n",
       "      <th>Percent</th>\n",
       "    </tr>\n",
       "  </thead>\n",
       "  <tbody>\n",
       "    <tr>\n",
       "      <th>Male</th>\n",
       "      <td>13221</td>\n",
       "      <td>69.01</td>\n",
       "    </tr>\n",
       "    <tr>\n",
       "      <th>NA_gender</th>\n",
       "      <td>4508</td>\n",
       "      <td>23.53</td>\n",
       "    </tr>\n",
       "    <tr>\n",
       "      <th>Female</th>\n",
       "      <td>1238</td>\n",
       "      <td>6.46</td>\n",
       "    </tr>\n",
       "    <tr>\n",
       "      <th>Other</th>\n",
       "      <td>191</td>\n",
       "      <td>1.00</td>\n",
       "    </tr>\n",
       "  </tbody>\n",
       "</table>\n",
       "</div>"
      ],
      "text/plain": [
       "           Count  Percent\n",
       "Male       13221    69.01\n",
       "NA_gender   4508    23.53\n",
       "Female      1238     6.46\n",
       "Other        191     1.00"
      ]
     },
     "metadata": {
      "tags": []
     },
     "output_type": "display_data"
    },
    {
     "name": "stdout",
     "output_type": "stream",
     "text": [
      "\n",
      "relevent_experience\n"
     ]
    },
    {
     "data": {
      "text/html": [
       "<div>\n",
       "<style scoped>\n",
       "    .dataframe tbody tr th:only-of-type {\n",
       "        vertical-align: middle;\n",
       "    }\n",
       "\n",
       "    .dataframe tbody tr th {\n",
       "        vertical-align: top;\n",
       "    }\n",
       "\n",
       "    .dataframe thead th {\n",
       "        text-align: right;\n",
       "    }\n",
       "</style>\n",
       "<table border=\"1\" class=\"dataframe\">\n",
       "  <thead>\n",
       "    <tr style=\"text-align: right;\">\n",
       "      <th></th>\n",
       "      <th>Count</th>\n",
       "      <th>Percent</th>\n",
       "    </tr>\n",
       "  </thead>\n",
       "  <tbody>\n",
       "    <tr>\n",
       "      <th>Has relevent experience</th>\n",
       "      <td>13792</td>\n",
       "      <td>71.99</td>\n",
       "    </tr>\n",
       "    <tr>\n",
       "      <th>No relevent experience</th>\n",
       "      <td>5366</td>\n",
       "      <td>28.01</td>\n",
       "    </tr>\n",
       "  </tbody>\n",
       "</table>\n",
       "</div>"
      ],
      "text/plain": [
       "                         Count  Percent\n",
       "Has relevent experience  13792    71.99\n",
       "No relevent experience    5366    28.01"
      ]
     },
     "metadata": {
      "tags": []
     },
     "output_type": "display_data"
    },
    {
     "name": "stdout",
     "output_type": "stream",
     "text": [
      "\n",
      "enrolled_university\n"
     ]
    },
    {
     "data": {
      "text/html": [
       "<div>\n",
       "<style scoped>\n",
       "    .dataframe tbody tr th:only-of-type {\n",
       "        vertical-align: middle;\n",
       "    }\n",
       "\n",
       "    .dataframe tbody tr th {\n",
       "        vertical-align: top;\n",
       "    }\n",
       "\n",
       "    .dataframe thead th {\n",
       "        text-align: right;\n",
       "    }\n",
       "</style>\n",
       "<table border=\"1\" class=\"dataframe\">\n",
       "  <thead>\n",
       "    <tr style=\"text-align: right;\">\n",
       "      <th></th>\n",
       "      <th>Count</th>\n",
       "      <th>Percent</th>\n",
       "    </tr>\n",
       "  </thead>\n",
       "  <tbody>\n",
       "    <tr>\n",
       "      <th>no_enrollment</th>\n",
       "      <td>13817</td>\n",
       "      <td>72.12</td>\n",
       "    </tr>\n",
       "    <tr>\n",
       "      <th>Full time course</th>\n",
       "      <td>3757</td>\n",
       "      <td>19.61</td>\n",
       "    </tr>\n",
       "    <tr>\n",
       "      <th>Part time course</th>\n",
       "      <td>1198</td>\n",
       "      <td>6.25</td>\n",
       "    </tr>\n",
       "    <tr>\n",
       "      <th>NA_enrolledUniversity</th>\n",
       "      <td>386</td>\n",
       "      <td>2.01</td>\n",
       "    </tr>\n",
       "  </tbody>\n",
       "</table>\n",
       "</div>"
      ],
      "text/plain": [
       "                       Count  Percent\n",
       "no_enrollment          13817    72.12\n",
       "Full time course        3757    19.61\n",
       "Part time course        1198     6.25\n",
       "NA_enrolledUniversity    386     2.01"
      ]
     },
     "metadata": {
      "tags": []
     },
     "output_type": "display_data"
    },
    {
     "name": "stdout",
     "output_type": "stream",
     "text": [
      "\n",
      "education_level\n"
     ]
    },
    {
     "data": {
      "text/html": [
       "<div>\n",
       "<style scoped>\n",
       "    .dataframe tbody tr th:only-of-type {\n",
       "        vertical-align: middle;\n",
       "    }\n",
       "\n",
       "    .dataframe tbody tr th {\n",
       "        vertical-align: top;\n",
       "    }\n",
       "\n",
       "    .dataframe thead th {\n",
       "        text-align: right;\n",
       "    }\n",
       "</style>\n",
       "<table border=\"1\" class=\"dataframe\">\n",
       "  <thead>\n",
       "    <tr style=\"text-align: right;\">\n",
       "      <th></th>\n",
       "      <th>Count</th>\n",
       "      <th>Percent</th>\n",
       "    </tr>\n",
       "  </thead>\n",
       "  <tbody>\n",
       "    <tr>\n",
       "      <th>Graduate</th>\n",
       "      <td>11598</td>\n",
       "      <td>60.54</td>\n",
       "    </tr>\n",
       "    <tr>\n",
       "      <th>Masters</th>\n",
       "      <td>4361</td>\n",
       "      <td>22.76</td>\n",
       "    </tr>\n",
       "    <tr>\n",
       "      <th>High School</th>\n",
       "      <td>2017</td>\n",
       "      <td>10.53</td>\n",
       "    </tr>\n",
       "    <tr>\n",
       "      <th>NA_educationLevel</th>\n",
       "      <td>460</td>\n",
       "      <td>2.40</td>\n",
       "    </tr>\n",
       "    <tr>\n",
       "      <th>Phd</th>\n",
       "      <td>414</td>\n",
       "      <td>2.16</td>\n",
       "    </tr>\n",
       "    <tr>\n",
       "      <th>Primary School</th>\n",
       "      <td>308</td>\n",
       "      <td>1.61</td>\n",
       "    </tr>\n",
       "  </tbody>\n",
       "</table>\n",
       "</div>"
      ],
      "text/plain": [
       "                   Count  Percent\n",
       "Graduate           11598    60.54\n",
       "Masters             4361    22.76\n",
       "High School         2017    10.53\n",
       "NA_educationLevel    460     2.40\n",
       "Phd                  414     2.16\n",
       "Primary School       308     1.61"
      ]
     },
     "metadata": {
      "tags": []
     },
     "output_type": "display_data"
    },
    {
     "name": "stdout",
     "output_type": "stream",
     "text": [
      "\n",
      "major_discipline\n"
     ]
    },
    {
     "data": {
      "text/html": [
       "<div>\n",
       "<style scoped>\n",
       "    .dataframe tbody tr th:only-of-type {\n",
       "        vertical-align: middle;\n",
       "    }\n",
       "\n",
       "    .dataframe tbody tr th {\n",
       "        vertical-align: top;\n",
       "    }\n",
       "\n",
       "    .dataframe thead th {\n",
       "        text-align: right;\n",
       "    }\n",
       "</style>\n",
       "<table border=\"1\" class=\"dataframe\">\n",
       "  <thead>\n",
       "    <tr style=\"text-align: right;\">\n",
       "      <th></th>\n",
       "      <th>Count</th>\n",
       "      <th>Percent</th>\n",
       "    </tr>\n",
       "  </thead>\n",
       "  <tbody>\n",
       "    <tr>\n",
       "      <th>STEM</th>\n",
       "      <td>14492</td>\n",
       "      <td>75.64</td>\n",
       "    </tr>\n",
       "    <tr>\n",
       "      <th>NA_majorDiscipline</th>\n",
       "      <td>2813</td>\n",
       "      <td>14.68</td>\n",
       "    </tr>\n",
       "    <tr>\n",
       "      <th>Humanities</th>\n",
       "      <td>669</td>\n",
       "      <td>3.49</td>\n",
       "    </tr>\n",
       "    <tr>\n",
       "      <th>Other</th>\n",
       "      <td>381</td>\n",
       "      <td>1.99</td>\n",
       "    </tr>\n",
       "    <tr>\n",
       "      <th>Business Degree</th>\n",
       "      <td>327</td>\n",
       "      <td>1.71</td>\n",
       "    </tr>\n",
       "    <tr>\n",
       "      <th>Arts</th>\n",
       "      <td>253</td>\n",
       "      <td>1.32</td>\n",
       "    </tr>\n",
       "    <tr>\n",
       "      <th>No Major</th>\n",
       "      <td>223</td>\n",
       "      <td>1.16</td>\n",
       "    </tr>\n",
       "  </tbody>\n",
       "</table>\n",
       "</div>"
      ],
      "text/plain": [
       "                    Count  Percent\n",
       "STEM                14492    75.64\n",
       "NA_majorDiscipline   2813    14.68\n",
       "Humanities            669     3.49\n",
       "Other                 381     1.99\n",
       "Business Degree       327     1.71\n",
       "Arts                  253     1.32\n",
       "No Major              223     1.16"
      ]
     },
     "metadata": {
      "tags": []
     },
     "output_type": "display_data"
    },
    {
     "name": "stdout",
     "output_type": "stream",
     "text": [
      "\n",
      "experience\n"
     ]
    },
    {
     "data": {
      "text/html": [
       "<div>\n",
       "<style scoped>\n",
       "    .dataframe tbody tr th:only-of-type {\n",
       "        vertical-align: middle;\n",
       "    }\n",
       "\n",
       "    .dataframe tbody tr th {\n",
       "        vertical-align: top;\n",
       "    }\n",
       "\n",
       "    .dataframe thead th {\n",
       "        text-align: right;\n",
       "    }\n",
       "</style>\n",
       "<table border=\"1\" class=\"dataframe\">\n",
       "  <thead>\n",
       "    <tr style=\"text-align: right;\">\n",
       "      <th></th>\n",
       "      <th>Count</th>\n",
       "      <th>Percent</th>\n",
       "    </tr>\n",
       "  </thead>\n",
       "  <tbody>\n",
       "    <tr>\n",
       "      <th>&gt;20</th>\n",
       "      <td>3286</td>\n",
       "      <td>17.15</td>\n",
       "    </tr>\n",
       "    <tr>\n",
       "      <th>5</th>\n",
       "      <td>1430</td>\n",
       "      <td>7.46</td>\n",
       "    </tr>\n",
       "    <tr>\n",
       "      <th>4</th>\n",
       "      <td>1403</td>\n",
       "      <td>7.32</td>\n",
       "    </tr>\n",
       "    <tr>\n",
       "      <th>3</th>\n",
       "      <td>1354</td>\n",
       "      <td>7.07</td>\n",
       "    </tr>\n",
       "    <tr>\n",
       "      <th>6</th>\n",
       "      <td>1216</td>\n",
       "      <td>6.35</td>\n",
       "    </tr>\n",
       "    <tr>\n",
       "      <th>2</th>\n",
       "      <td>1127</td>\n",
       "      <td>5.88</td>\n",
       "    </tr>\n",
       "    <tr>\n",
       "      <th>7</th>\n",
       "      <td>1028</td>\n",
       "      <td>5.37</td>\n",
       "    </tr>\n",
       "    <tr>\n",
       "      <th>10</th>\n",
       "      <td>985</td>\n",
       "      <td>5.14</td>\n",
       "    </tr>\n",
       "    <tr>\n",
       "      <th>9</th>\n",
       "      <td>980</td>\n",
       "      <td>5.12</td>\n",
       "    </tr>\n",
       "    <tr>\n",
       "      <th>8</th>\n",
       "      <td>802</td>\n",
       "      <td>4.19</td>\n",
       "    </tr>\n",
       "    <tr>\n",
       "      <th>15</th>\n",
       "      <td>686</td>\n",
       "      <td>3.58</td>\n",
       "    </tr>\n",
       "    <tr>\n",
       "      <th>11</th>\n",
       "      <td>664</td>\n",
       "      <td>3.47</td>\n",
       "    </tr>\n",
       "    <tr>\n",
       "      <th>14</th>\n",
       "      <td>586</td>\n",
       "      <td>3.06</td>\n",
       "    </tr>\n",
       "    <tr>\n",
       "      <th>1</th>\n",
       "      <td>549</td>\n",
       "      <td>2.87</td>\n",
       "    </tr>\n",
       "    <tr>\n",
       "      <th>&lt;1</th>\n",
       "      <td>522</td>\n",
       "      <td>2.72</td>\n",
       "    </tr>\n",
       "    <tr>\n",
       "      <th>16</th>\n",
       "      <td>508</td>\n",
       "      <td>2.65</td>\n",
       "    </tr>\n",
       "    <tr>\n",
       "      <th>12</th>\n",
       "      <td>494</td>\n",
       "      <td>2.58</td>\n",
       "    </tr>\n",
       "    <tr>\n",
       "      <th>13</th>\n",
       "      <td>399</td>\n",
       "      <td>2.08</td>\n",
       "    </tr>\n",
       "    <tr>\n",
       "      <th>17</th>\n",
       "      <td>342</td>\n",
       "      <td>1.79</td>\n",
       "    </tr>\n",
       "    <tr>\n",
       "      <th>19</th>\n",
       "      <td>304</td>\n",
       "      <td>1.59</td>\n",
       "    </tr>\n",
       "    <tr>\n",
       "      <th>18</th>\n",
       "      <td>280</td>\n",
       "      <td>1.46</td>\n",
       "    </tr>\n",
       "    <tr>\n",
       "      <th>20</th>\n",
       "      <td>148</td>\n",
       "      <td>0.77</td>\n",
       "    </tr>\n",
       "    <tr>\n",
       "      <th>NA_experience</th>\n",
       "      <td>65</td>\n",
       "      <td>0.34</td>\n",
       "    </tr>\n",
       "  </tbody>\n",
       "</table>\n",
       "</div>"
      ],
      "text/plain": [
       "               Count  Percent\n",
       ">20             3286    17.15\n",
       "5               1430     7.46\n",
       "4               1403     7.32\n",
       "3               1354     7.07\n",
       "6               1216     6.35\n",
       "2               1127     5.88\n",
       "7               1028     5.37\n",
       "10               985     5.14\n",
       "9                980     5.12\n",
       "8                802     4.19\n",
       "15               686     3.58\n",
       "11               664     3.47\n",
       "14               586     3.06\n",
       "1                549     2.87\n",
       "<1               522     2.72\n",
       "16               508     2.65\n",
       "12               494     2.58\n",
       "13               399     2.08\n",
       "17               342     1.79\n",
       "19               304     1.59\n",
       "18               280     1.46\n",
       "20               148     0.77\n",
       "NA_experience     65     0.34"
      ]
     },
     "metadata": {
      "tags": []
     },
     "output_type": "display_data"
    },
    {
     "name": "stdout",
     "output_type": "stream",
     "text": [
      "\n",
      "company_size\n"
     ]
    },
    {
     "data": {
      "text/html": [
       "<div>\n",
       "<style scoped>\n",
       "    .dataframe tbody tr th:only-of-type {\n",
       "        vertical-align: middle;\n",
       "    }\n",
       "\n",
       "    .dataframe tbody tr th {\n",
       "        vertical-align: top;\n",
       "    }\n",
       "\n",
       "    .dataframe thead th {\n",
       "        text-align: right;\n",
       "    }\n",
       "</style>\n",
       "<table border=\"1\" class=\"dataframe\">\n",
       "  <thead>\n",
       "    <tr style=\"text-align: right;\">\n",
       "      <th></th>\n",
       "      <th>Count</th>\n",
       "      <th>Percent</th>\n",
       "    </tr>\n",
       "  </thead>\n",
       "  <tbody>\n",
       "    <tr>\n",
       "      <th>NA_companySize</th>\n",
       "      <td>5938</td>\n",
       "      <td>30.99</td>\n",
       "    </tr>\n",
       "    <tr>\n",
       "      <th>50-99</th>\n",
       "      <td>3083</td>\n",
       "      <td>16.09</td>\n",
       "    </tr>\n",
       "    <tr>\n",
       "      <th>100-500</th>\n",
       "      <td>2571</td>\n",
       "      <td>13.42</td>\n",
       "    </tr>\n",
       "    <tr>\n",
       "      <th>10000+</th>\n",
       "      <td>2019</td>\n",
       "      <td>10.54</td>\n",
       "    </tr>\n",
       "    <tr>\n",
       "      <th>10/49</th>\n",
       "      <td>1471</td>\n",
       "      <td>7.68</td>\n",
       "    </tr>\n",
       "    <tr>\n",
       "      <th>1000-4999</th>\n",
       "      <td>1328</td>\n",
       "      <td>6.93</td>\n",
       "    </tr>\n",
       "    <tr>\n",
       "      <th>&lt;10</th>\n",
       "      <td>1308</td>\n",
       "      <td>6.83</td>\n",
       "    </tr>\n",
       "    <tr>\n",
       "      <th>500-999</th>\n",
       "      <td>877</td>\n",
       "      <td>4.58</td>\n",
       "    </tr>\n",
       "    <tr>\n",
       "      <th>5000-9999</th>\n",
       "      <td>563</td>\n",
       "      <td>2.94</td>\n",
       "    </tr>\n",
       "  </tbody>\n",
       "</table>\n",
       "</div>"
      ],
      "text/plain": [
       "                Count  Percent\n",
       "NA_companySize   5938    30.99\n",
       "50-99            3083    16.09\n",
       "100-500          2571    13.42\n",
       "10000+           2019    10.54\n",
       "10/49            1471     7.68\n",
       "1000-4999        1328     6.93\n",
       "<10              1308     6.83\n",
       "500-999           877     4.58\n",
       "5000-9999         563     2.94"
      ]
     },
     "metadata": {
      "tags": []
     },
     "output_type": "display_data"
    },
    {
     "name": "stdout",
     "output_type": "stream",
     "text": [
      "\n",
      "company_type\n"
     ]
    },
    {
     "data": {
      "text/html": [
       "<div>\n",
       "<style scoped>\n",
       "    .dataframe tbody tr th:only-of-type {\n",
       "        vertical-align: middle;\n",
       "    }\n",
       "\n",
       "    .dataframe tbody tr th {\n",
       "        vertical-align: top;\n",
       "    }\n",
       "\n",
       "    .dataframe thead th {\n",
       "        text-align: right;\n",
       "    }\n",
       "</style>\n",
       "<table border=\"1\" class=\"dataframe\">\n",
       "  <thead>\n",
       "    <tr style=\"text-align: right;\">\n",
       "      <th></th>\n",
       "      <th>Count</th>\n",
       "      <th>Percent</th>\n",
       "    </tr>\n",
       "  </thead>\n",
       "  <tbody>\n",
       "    <tr>\n",
       "      <th>Pvt Ltd</th>\n",
       "      <td>9817</td>\n",
       "      <td>51.24</td>\n",
       "    </tr>\n",
       "    <tr>\n",
       "      <th>NA_companyType</th>\n",
       "      <td>6140</td>\n",
       "      <td>32.05</td>\n",
       "    </tr>\n",
       "    <tr>\n",
       "      <th>Funded Startup</th>\n",
       "      <td>1001</td>\n",
       "      <td>5.22</td>\n",
       "    </tr>\n",
       "    <tr>\n",
       "      <th>Public Sector</th>\n",
       "      <td>955</td>\n",
       "      <td>4.98</td>\n",
       "    </tr>\n",
       "    <tr>\n",
       "      <th>Early Stage Startup</th>\n",
       "      <td>603</td>\n",
       "      <td>3.15</td>\n",
       "    </tr>\n",
       "    <tr>\n",
       "      <th>NGO</th>\n",
       "      <td>521</td>\n",
       "      <td>2.72</td>\n",
       "    </tr>\n",
       "    <tr>\n",
       "      <th>Other</th>\n",
       "      <td>121</td>\n",
       "      <td>0.63</td>\n",
       "    </tr>\n",
       "  </tbody>\n",
       "</table>\n",
       "</div>"
      ],
      "text/plain": [
       "                     Count  Percent\n",
       "Pvt Ltd               9817    51.24\n",
       "NA_companyType        6140    32.05\n",
       "Funded Startup        1001     5.22\n",
       "Public Sector          955     4.98\n",
       "Early Stage Startup    603     3.15\n",
       "NGO                    521     2.72\n",
       "Other                  121     0.63"
      ]
     },
     "metadata": {
      "tags": []
     },
     "output_type": "display_data"
    },
    {
     "name": "stdout",
     "output_type": "stream",
     "text": [
      "\n",
      "last_new_job\n"
     ]
    },
    {
     "data": {
      "text/html": [
       "<div>\n",
       "<style scoped>\n",
       "    .dataframe tbody tr th:only-of-type {\n",
       "        vertical-align: middle;\n",
       "    }\n",
       "\n",
       "    .dataframe tbody tr th {\n",
       "        vertical-align: top;\n",
       "    }\n",
       "\n",
       "    .dataframe thead th {\n",
       "        text-align: right;\n",
       "    }\n",
       "</style>\n",
       "<table border=\"1\" class=\"dataframe\">\n",
       "  <thead>\n",
       "    <tr style=\"text-align: right;\">\n",
       "      <th></th>\n",
       "      <th>Count</th>\n",
       "      <th>Percent</th>\n",
       "    </tr>\n",
       "  </thead>\n",
       "  <tbody>\n",
       "    <tr>\n",
       "      <th>1</th>\n",
       "      <td>8040</td>\n",
       "      <td>41.97</td>\n",
       "    </tr>\n",
       "    <tr>\n",
       "      <th>&gt;4</th>\n",
       "      <td>3290</td>\n",
       "      <td>17.17</td>\n",
       "    </tr>\n",
       "    <tr>\n",
       "      <th>2</th>\n",
       "      <td>2900</td>\n",
       "      <td>15.14</td>\n",
       "    </tr>\n",
       "    <tr>\n",
       "      <th>never</th>\n",
       "      <td>2452</td>\n",
       "      <td>12.80</td>\n",
       "    </tr>\n",
       "    <tr>\n",
       "      <th>4</th>\n",
       "      <td>1029</td>\n",
       "      <td>5.37</td>\n",
       "    </tr>\n",
       "    <tr>\n",
       "      <th>3</th>\n",
       "      <td>1024</td>\n",
       "      <td>5.35</td>\n",
       "    </tr>\n",
       "    <tr>\n",
       "      <th>NA_lastNewJob</th>\n",
       "      <td>423</td>\n",
       "      <td>2.21</td>\n",
       "    </tr>\n",
       "  </tbody>\n",
       "</table>\n",
       "</div>"
      ],
      "text/plain": [
       "               Count  Percent\n",
       "1               8040    41.97\n",
       ">4              3290    17.17\n",
       "2               2900    15.14\n",
       "never           2452    12.80\n",
       "4               1029     5.37\n",
       "3               1024     5.35\n",
       "NA_lastNewJob    423     2.21"
      ]
     },
     "metadata": {
      "tags": []
     },
     "output_type": "display_data"
    },
    {
     "name": "stdout",
     "output_type": "stream",
     "text": [
      "\n",
      "city\n"
     ]
    },
    {
     "data": {
      "text/html": [
       "<div>\n",
       "<style scoped>\n",
       "    .dataframe tbody tr th:only-of-type {\n",
       "        vertical-align: middle;\n",
       "    }\n",
       "\n",
       "    .dataframe tbody tr th {\n",
       "        vertical-align: top;\n",
       "    }\n",
       "\n",
       "    .dataframe thead th {\n",
       "        text-align: right;\n",
       "    }\n",
       "</style>\n",
       "<table border=\"1\" class=\"dataframe\">\n",
       "  <thead>\n",
       "    <tr style=\"text-align: right;\">\n",
       "      <th></th>\n",
       "      <th>Count</th>\n",
       "      <th>Percent</th>\n",
       "    </tr>\n",
       "  </thead>\n",
       "  <tbody>\n",
       "    <tr>\n",
       "      <th>103</th>\n",
       "      <td>4355</td>\n",
       "      <td>22.73</td>\n",
       "    </tr>\n",
       "    <tr>\n",
       "      <th>21</th>\n",
       "      <td>2702</td>\n",
       "      <td>14.10</td>\n",
       "    </tr>\n",
       "    <tr>\n",
       "      <th>16</th>\n",
       "      <td>1533</td>\n",
       "      <td>8.00</td>\n",
       "    </tr>\n",
       "    <tr>\n",
       "      <th>114</th>\n",
       "      <td>1336</td>\n",
       "      <td>6.97</td>\n",
       "    </tr>\n",
       "    <tr>\n",
       "      <th>160</th>\n",
       "      <td>845</td>\n",
       "      <td>4.41</td>\n",
       "    </tr>\n",
       "    <tr>\n",
       "      <th>...</th>\n",
       "      <td>...</td>\n",
       "      <td>...</td>\n",
       "    </tr>\n",
       "    <tr>\n",
       "      <th>111</th>\n",
       "      <td>3</td>\n",
       "      <td>0.02</td>\n",
       "    </tr>\n",
       "    <tr>\n",
       "      <th>121</th>\n",
       "      <td>3</td>\n",
       "      <td>0.02</td>\n",
       "    </tr>\n",
       "    <tr>\n",
       "      <th>129</th>\n",
       "      <td>3</td>\n",
       "      <td>0.02</td>\n",
       "    </tr>\n",
       "    <tr>\n",
       "      <th>171</th>\n",
       "      <td>1</td>\n",
       "      <td>0.01</td>\n",
       "    </tr>\n",
       "    <tr>\n",
       "      <th>140</th>\n",
       "      <td>1</td>\n",
       "      <td>0.01</td>\n",
       "    </tr>\n",
       "  </tbody>\n",
       "</table>\n",
       "<p>123 rows × 2 columns</p>\n",
       "</div>"
      ],
      "text/plain": [
       "     Count  Percent\n",
       "103   4355    22.73\n",
       "21    2702    14.10\n",
       "16    1533     8.00\n",
       "114   1336     6.97\n",
       "160    845     4.41\n",
       "..     ...      ...\n",
       "111      3     0.02\n",
       "121      3     0.02\n",
       "129      3     0.02\n",
       "171      1     0.01\n",
       "140      1     0.01\n",
       "\n",
       "[123 rows x 2 columns]"
      ]
     },
     "metadata": {
      "tags": []
     },
     "output_type": "display_data"
    },
    {
     "name": "stdout",
     "output_type": "stream",
     "text": [
      "\n"
     ]
    }
   ],
   "source": [
    " # to build a function that counts the number of different values for a feature\n",
    "def value_count_feature(df, fea):\n",
    "  count = df[fea].value_counts()\n",
    "  percent = round(count/len(df[fea])*100, 2)\n",
    "  return pd.concat([count, percent], axis=1, keys= ['Count', 'Percent'])\n",
    "\n",
    "L = ['gender', 'relevent_experience', 'enrolled_university', 'education_level', 'major_discipline', 'experience', 'company_size', 'company_type', 'last_new_job', 'city']\n",
    "\n",
    "for feature in L:\n",
    "  print(feature)\n",
    "  display(value_count_feature(train_data2, feature))   # use display() here, do not use print()!\n",
    "  print()"
   ]
  },
  {
   "cell_type": "markdown",
   "metadata": {
    "id": "SDo99eSRe8tb"
   },
   "source": [
    "# Group Frequecies of Categorical Features with respective to Target"
   ]
  },
  {
   "cell_type": "code",
   "execution_count": null,
   "metadata": {
    "colab": {
     "base_uri": "https://localhost:8080/",
     "height": 1000
    },
    "executionInfo": {
     "elapsed": 925,
     "status": "ok",
     "timestamp": 1614110655345,
     "user": {
      "displayName": "Shining Du",
      "photoUrl": "",
      "userId": "16422857245131771211"
     },
     "user_tz": 300
    },
    "id": "EvpTVclIetjT",
    "outputId": "3490e04f-0aa0-429c-a685-98768681b213"
   },
   "outputs": [
    {
     "data": {
      "text/html": [
       "<div>\n",
       "<style scoped>\n",
       "    .dataframe tbody tr th:only-of-type {\n",
       "        vertical-align: middle;\n",
       "    }\n",
       "\n",
       "    .dataframe tbody tr th {\n",
       "        vertical-align: top;\n",
       "    }\n",
       "\n",
       "    .dataframe thead th {\n",
       "        text-align: right;\n",
       "    }\n",
       "</style>\n",
       "<table border=\"1\" class=\"dataframe\">\n",
       "  <thead>\n",
       "    <tr style=\"text-align: right;\">\n",
       "      <th>gender</th>\n",
       "      <th>Female</th>\n",
       "      <th>Male</th>\n",
       "      <th>NA_gender</th>\n",
       "      <th>Other</th>\n",
       "      <th>All</th>\n",
       "    </tr>\n",
       "    <tr>\n",
       "      <th>target</th>\n",
       "      <th></th>\n",
       "      <th></th>\n",
       "      <th></th>\n",
       "      <th></th>\n",
       "      <th></th>\n",
       "    </tr>\n",
       "  </thead>\n",
       "  <tbody>\n",
       "    <tr>\n",
       "      <th>0</th>\n",
       "      <td>912</td>\n",
       "      <td>10209</td>\n",
       "      <td>3119</td>\n",
       "      <td>141</td>\n",
       "      <td>14381</td>\n",
       "    </tr>\n",
       "    <tr>\n",
       "      <th>1</th>\n",
       "      <td>326</td>\n",
       "      <td>3012</td>\n",
       "      <td>1389</td>\n",
       "      <td>50</td>\n",
       "      <td>4777</td>\n",
       "    </tr>\n",
       "    <tr>\n",
       "      <th>All</th>\n",
       "      <td>1238</td>\n",
       "      <td>13221</td>\n",
       "      <td>4508</td>\n",
       "      <td>191</td>\n",
       "      <td>19158</td>\n",
       "    </tr>\n",
       "  </tbody>\n",
       "</table>\n",
       "</div>"
      ],
      "text/plain": [
       "gender  Female   Male  NA_gender  Other    All\n",
       "target                                        \n",
       "0          912  10209       3119    141  14381\n",
       "1          326   3012       1389     50   4777\n",
       "All       1238  13221       4508    191  19158"
      ]
     },
     "metadata": {
      "tags": []
     },
     "output_type": "display_data"
    },
    {
     "name": "stdout",
     "output_type": "stream",
     "text": [
      "\n",
      "\n"
     ]
    },
    {
     "data": {
      "text/html": [
       "<div>\n",
       "<style scoped>\n",
       "    .dataframe tbody tr th:only-of-type {\n",
       "        vertical-align: middle;\n",
       "    }\n",
       "\n",
       "    .dataframe tbody tr th {\n",
       "        vertical-align: top;\n",
       "    }\n",
       "\n",
       "    .dataframe thead th {\n",
       "        text-align: right;\n",
       "    }\n",
       "</style>\n",
       "<table border=\"1\" class=\"dataframe\">\n",
       "  <thead>\n",
       "    <tr style=\"text-align: right;\">\n",
       "      <th>relevent_experience</th>\n",
       "      <th>Has relevent experience</th>\n",
       "      <th>No relevent experience</th>\n",
       "      <th>All</th>\n",
       "    </tr>\n",
       "    <tr>\n",
       "      <th>target</th>\n",
       "      <th></th>\n",
       "      <th></th>\n",
       "      <th></th>\n",
       "    </tr>\n",
       "  </thead>\n",
       "  <tbody>\n",
       "    <tr>\n",
       "      <th>0</th>\n",
       "      <td>10831</td>\n",
       "      <td>3550</td>\n",
       "      <td>14381</td>\n",
       "    </tr>\n",
       "    <tr>\n",
       "      <th>1</th>\n",
       "      <td>2961</td>\n",
       "      <td>1816</td>\n",
       "      <td>4777</td>\n",
       "    </tr>\n",
       "    <tr>\n",
       "      <th>All</th>\n",
       "      <td>13792</td>\n",
       "      <td>5366</td>\n",
       "      <td>19158</td>\n",
       "    </tr>\n",
       "  </tbody>\n",
       "</table>\n",
       "</div>"
      ],
      "text/plain": [
       "relevent_experience  Has relevent experience  No relevent experience    All\n",
       "target                                                                     \n",
       "0                                      10831                    3550  14381\n",
       "1                                       2961                    1816   4777\n",
       "All                                    13792                    5366  19158"
      ]
     },
     "metadata": {
      "tags": []
     },
     "output_type": "display_data"
    },
    {
     "name": "stdout",
     "output_type": "stream",
     "text": [
      "\n",
      "\n"
     ]
    },
    {
     "data": {
      "text/html": [
       "<div>\n",
       "<style scoped>\n",
       "    .dataframe tbody tr th:only-of-type {\n",
       "        vertical-align: middle;\n",
       "    }\n",
       "\n",
       "    .dataframe tbody tr th {\n",
       "        vertical-align: top;\n",
       "    }\n",
       "\n",
       "    .dataframe thead th {\n",
       "        text-align: right;\n",
       "    }\n",
       "</style>\n",
       "<table border=\"1\" class=\"dataframe\">\n",
       "  <thead>\n",
       "    <tr style=\"text-align: right;\">\n",
       "      <th>enrolled_university</th>\n",
       "      <th>Full time course</th>\n",
       "      <th>NA_enrolledUniversity</th>\n",
       "      <th>Part time course</th>\n",
       "      <th>no_enrollment</th>\n",
       "      <th>All</th>\n",
       "    </tr>\n",
       "    <tr>\n",
       "      <th>target</th>\n",
       "      <th></th>\n",
       "      <th></th>\n",
       "      <th></th>\n",
       "      <th></th>\n",
       "      <th></th>\n",
       "    </tr>\n",
       "  </thead>\n",
       "  <tbody>\n",
       "    <tr>\n",
       "      <th>0</th>\n",
       "      <td>2326</td>\n",
       "      <td>263</td>\n",
       "      <td>896</td>\n",
       "      <td>10896</td>\n",
       "      <td>14381</td>\n",
       "    </tr>\n",
       "    <tr>\n",
       "      <th>1</th>\n",
       "      <td>1431</td>\n",
       "      <td>123</td>\n",
       "      <td>302</td>\n",
       "      <td>2921</td>\n",
       "      <td>4777</td>\n",
       "    </tr>\n",
       "    <tr>\n",
       "      <th>All</th>\n",
       "      <td>3757</td>\n",
       "      <td>386</td>\n",
       "      <td>1198</td>\n",
       "      <td>13817</td>\n",
       "      <td>19158</td>\n",
       "    </tr>\n",
       "  </tbody>\n",
       "</table>\n",
       "</div>"
      ],
      "text/plain": [
       "enrolled_university  Full time course  ...    All\n",
       "target                                 ...       \n",
       "0                                2326  ...  14381\n",
       "1                                1431  ...   4777\n",
       "All                              3757  ...  19158\n",
       "\n",
       "[3 rows x 5 columns]"
      ]
     },
     "metadata": {
      "tags": []
     },
     "output_type": "display_data"
    },
    {
     "name": "stdout",
     "output_type": "stream",
     "text": [
      "\n",
      "\n"
     ]
    },
    {
     "data": {
      "text/html": [
       "<div>\n",
       "<style scoped>\n",
       "    .dataframe tbody tr th:only-of-type {\n",
       "        vertical-align: middle;\n",
       "    }\n",
       "\n",
       "    .dataframe tbody tr th {\n",
       "        vertical-align: top;\n",
       "    }\n",
       "\n",
       "    .dataframe thead th {\n",
       "        text-align: right;\n",
       "    }\n",
       "</style>\n",
       "<table border=\"1\" class=\"dataframe\">\n",
       "  <thead>\n",
       "    <tr style=\"text-align: right;\">\n",
       "      <th>education_level</th>\n",
       "      <th>Graduate</th>\n",
       "      <th>High School</th>\n",
       "      <th>Masters</th>\n",
       "      <th>NA_educationLevel</th>\n",
       "      <th>Phd</th>\n",
       "      <th>Primary School</th>\n",
       "      <th>All</th>\n",
       "    </tr>\n",
       "    <tr>\n",
       "      <th>target</th>\n",
       "      <th></th>\n",
       "      <th></th>\n",
       "      <th></th>\n",
       "      <th></th>\n",
       "      <th></th>\n",
       "      <th></th>\n",
       "      <th></th>\n",
       "    </tr>\n",
       "  </thead>\n",
       "  <tbody>\n",
       "    <tr>\n",
       "      <th>0</th>\n",
       "      <td>8353</td>\n",
       "      <td>1623</td>\n",
       "      <td>3426</td>\n",
       "      <td>356</td>\n",
       "      <td>356</td>\n",
       "      <td>267</td>\n",
       "      <td>14381</td>\n",
       "    </tr>\n",
       "    <tr>\n",
       "      <th>1</th>\n",
       "      <td>3245</td>\n",
       "      <td>394</td>\n",
       "      <td>935</td>\n",
       "      <td>104</td>\n",
       "      <td>58</td>\n",
       "      <td>41</td>\n",
       "      <td>4777</td>\n",
       "    </tr>\n",
       "    <tr>\n",
       "      <th>All</th>\n",
       "      <td>11598</td>\n",
       "      <td>2017</td>\n",
       "      <td>4361</td>\n",
       "      <td>460</td>\n",
       "      <td>414</td>\n",
       "      <td>308</td>\n",
       "      <td>19158</td>\n",
       "    </tr>\n",
       "  </tbody>\n",
       "</table>\n",
       "</div>"
      ],
      "text/plain": [
       "education_level  Graduate  High School  Masters  ...  Phd  Primary School    All\n",
       "target                                           ...                            \n",
       "0                    8353         1623     3426  ...  356             267  14381\n",
       "1                    3245          394      935  ...   58              41   4777\n",
       "All                 11598         2017     4361  ...  414             308  19158\n",
       "\n",
       "[3 rows x 7 columns]"
      ]
     },
     "metadata": {
      "tags": []
     },
     "output_type": "display_data"
    },
    {
     "name": "stdout",
     "output_type": "stream",
     "text": [
      "\n",
      "\n"
     ]
    },
    {
     "data": {
      "text/html": [
       "<div>\n",
       "<style scoped>\n",
       "    .dataframe tbody tr th:only-of-type {\n",
       "        vertical-align: middle;\n",
       "    }\n",
       "\n",
       "    .dataframe tbody tr th {\n",
       "        vertical-align: top;\n",
       "    }\n",
       "\n",
       "    .dataframe thead th {\n",
       "        text-align: right;\n",
       "    }\n",
       "</style>\n",
       "<table border=\"1\" class=\"dataframe\">\n",
       "  <thead>\n",
       "    <tr style=\"text-align: right;\">\n",
       "      <th>major_discipline</th>\n",
       "      <th>Arts</th>\n",
       "      <th>Business Degree</th>\n",
       "      <th>Humanities</th>\n",
       "      <th>NA_majorDiscipline</th>\n",
       "      <th>No Major</th>\n",
       "      <th>Other</th>\n",
       "      <th>STEM</th>\n",
       "      <th>All</th>\n",
       "    </tr>\n",
       "    <tr>\n",
       "      <th>target</th>\n",
       "      <th></th>\n",
       "      <th></th>\n",
       "      <th></th>\n",
       "      <th></th>\n",
       "      <th></th>\n",
       "      <th></th>\n",
       "      <th></th>\n",
       "      <th></th>\n",
       "    </tr>\n",
       "  </thead>\n",
       "  <tbody>\n",
       "    <tr>\n",
       "      <th>0</th>\n",
       "      <td>200</td>\n",
       "      <td>241</td>\n",
       "      <td>528</td>\n",
       "      <td>2264</td>\n",
       "      <td>168</td>\n",
       "      <td>279</td>\n",
       "      <td>10701</td>\n",
       "      <td>14381</td>\n",
       "    </tr>\n",
       "    <tr>\n",
       "      <th>1</th>\n",
       "      <td>53</td>\n",
       "      <td>86</td>\n",
       "      <td>141</td>\n",
       "      <td>549</td>\n",
       "      <td>55</td>\n",
       "      <td>102</td>\n",
       "      <td>3791</td>\n",
       "      <td>4777</td>\n",
       "    </tr>\n",
       "    <tr>\n",
       "      <th>All</th>\n",
       "      <td>253</td>\n",
       "      <td>327</td>\n",
       "      <td>669</td>\n",
       "      <td>2813</td>\n",
       "      <td>223</td>\n",
       "      <td>381</td>\n",
       "      <td>14492</td>\n",
       "      <td>19158</td>\n",
       "    </tr>\n",
       "  </tbody>\n",
       "</table>\n",
       "</div>"
      ],
      "text/plain": [
       "major_discipline  Arts  Business Degree  Humanities  ...  Other   STEM    All\n",
       "target                                               ...                     \n",
       "0                  200              241         528  ...    279  10701  14381\n",
       "1                   53               86         141  ...    102   3791   4777\n",
       "All                253              327         669  ...    381  14492  19158\n",
       "\n",
       "[3 rows x 8 columns]"
      ]
     },
     "metadata": {
      "tags": []
     },
     "output_type": "display_data"
    },
    {
     "name": "stdout",
     "output_type": "stream",
     "text": [
      "\n",
      "\n"
     ]
    },
    {
     "data": {
      "text/html": [
       "<div>\n",
       "<style scoped>\n",
       "    .dataframe tbody tr th:only-of-type {\n",
       "        vertical-align: middle;\n",
       "    }\n",
       "\n",
       "    .dataframe tbody tr th {\n",
       "        vertical-align: top;\n",
       "    }\n",
       "\n",
       "    .dataframe thead th {\n",
       "        text-align: right;\n",
       "    }\n",
       "</style>\n",
       "<table border=\"1\" class=\"dataframe\">\n",
       "  <thead>\n",
       "    <tr style=\"text-align: right;\">\n",
       "      <th>experience</th>\n",
       "      <th>1</th>\n",
       "      <th>10</th>\n",
       "      <th>11</th>\n",
       "      <th>12</th>\n",
       "      <th>13</th>\n",
       "      <th>14</th>\n",
       "      <th>15</th>\n",
       "      <th>16</th>\n",
       "      <th>17</th>\n",
       "      <th>18</th>\n",
       "      <th>19</th>\n",
       "      <th>2</th>\n",
       "      <th>20</th>\n",
       "      <th>3</th>\n",
       "      <th>4</th>\n",
       "      <th>5</th>\n",
       "      <th>6</th>\n",
       "      <th>7</th>\n",
       "      <th>8</th>\n",
       "      <th>9</th>\n",
       "      <th>&lt;1</th>\n",
       "      <th>&gt;20</th>\n",
       "      <th>NA_experience</th>\n",
       "      <th>All</th>\n",
       "    </tr>\n",
       "    <tr>\n",
       "      <th>target</th>\n",
       "      <th></th>\n",
       "      <th></th>\n",
       "      <th></th>\n",
       "      <th></th>\n",
       "      <th></th>\n",
       "      <th></th>\n",
       "      <th></th>\n",
       "      <th></th>\n",
       "      <th></th>\n",
       "      <th></th>\n",
       "      <th></th>\n",
       "      <th></th>\n",
       "      <th></th>\n",
       "      <th></th>\n",
       "      <th></th>\n",
       "      <th></th>\n",
       "      <th></th>\n",
       "      <th></th>\n",
       "      <th></th>\n",
       "      <th></th>\n",
       "      <th></th>\n",
       "      <th></th>\n",
       "      <th></th>\n",
       "      <th></th>\n",
       "    </tr>\n",
       "  </thead>\n",
       "  <tbody>\n",
       "    <tr>\n",
       "      <th>0</th>\n",
       "      <td>316</td>\n",
       "      <td>778</td>\n",
       "      <td>513</td>\n",
       "      <td>402</td>\n",
       "      <td>322</td>\n",
       "      <td>479</td>\n",
       "      <td>572</td>\n",
       "      <td>436</td>\n",
       "      <td>285</td>\n",
       "      <td>237</td>\n",
       "      <td>251</td>\n",
       "      <td>753</td>\n",
       "      <td>115</td>\n",
       "      <td>876</td>\n",
       "      <td>946</td>\n",
       "      <td>1018</td>\n",
       "      <td>873</td>\n",
       "      <td>725</td>\n",
       "      <td>607</td>\n",
       "      <td>767</td>\n",
       "      <td>285</td>\n",
       "      <td>2783</td>\n",
       "      <td>42</td>\n",
       "      <td>14381</td>\n",
       "    </tr>\n",
       "    <tr>\n",
       "      <th>1</th>\n",
       "      <td>233</td>\n",
       "      <td>207</td>\n",
       "      <td>151</td>\n",
       "      <td>92</td>\n",
       "      <td>77</td>\n",
       "      <td>107</td>\n",
       "      <td>114</td>\n",
       "      <td>72</td>\n",
       "      <td>57</td>\n",
       "      <td>43</td>\n",
       "      <td>53</td>\n",
       "      <td>374</td>\n",
       "      <td>33</td>\n",
       "      <td>478</td>\n",
       "      <td>457</td>\n",
       "      <td>412</td>\n",
       "      <td>343</td>\n",
       "      <td>303</td>\n",
       "      <td>195</td>\n",
       "      <td>213</td>\n",
       "      <td>237</td>\n",
       "      <td>503</td>\n",
       "      <td>23</td>\n",
       "      <td>4777</td>\n",
       "    </tr>\n",
       "    <tr>\n",
       "      <th>All</th>\n",
       "      <td>549</td>\n",
       "      <td>985</td>\n",
       "      <td>664</td>\n",
       "      <td>494</td>\n",
       "      <td>399</td>\n",
       "      <td>586</td>\n",
       "      <td>686</td>\n",
       "      <td>508</td>\n",
       "      <td>342</td>\n",
       "      <td>280</td>\n",
       "      <td>304</td>\n",
       "      <td>1127</td>\n",
       "      <td>148</td>\n",
       "      <td>1354</td>\n",
       "      <td>1403</td>\n",
       "      <td>1430</td>\n",
       "      <td>1216</td>\n",
       "      <td>1028</td>\n",
       "      <td>802</td>\n",
       "      <td>980</td>\n",
       "      <td>522</td>\n",
       "      <td>3286</td>\n",
       "      <td>65</td>\n",
       "      <td>19158</td>\n",
       "    </tr>\n",
       "  </tbody>\n",
       "</table>\n",
       "</div>"
      ],
      "text/plain": [
       "experience    1   10   11   12   13  ...    9   <1   >20  NA_experience    All\n",
       "target                               ...                                      \n",
       "0           316  778  513  402  322  ...  767  285  2783             42  14381\n",
       "1           233  207  151   92   77  ...  213  237   503             23   4777\n",
       "All         549  985  664  494  399  ...  980  522  3286             65  19158\n",
       "\n",
       "[3 rows x 24 columns]"
      ]
     },
     "metadata": {
      "tags": []
     },
     "output_type": "display_data"
    },
    {
     "name": "stdout",
     "output_type": "stream",
     "text": [
      "\n",
      "\n"
     ]
    },
    {
     "data": {
      "text/html": [
       "<div>\n",
       "<style scoped>\n",
       "    .dataframe tbody tr th:only-of-type {\n",
       "        vertical-align: middle;\n",
       "    }\n",
       "\n",
       "    .dataframe tbody tr th {\n",
       "        vertical-align: top;\n",
       "    }\n",
       "\n",
       "    .dataframe thead th {\n",
       "        text-align: right;\n",
       "    }\n",
       "</style>\n",
       "<table border=\"1\" class=\"dataframe\">\n",
       "  <thead>\n",
       "    <tr style=\"text-align: right;\">\n",
       "      <th>company_size</th>\n",
       "      <th>10/49</th>\n",
       "      <th>100-500</th>\n",
       "      <th>1000-4999</th>\n",
       "      <th>10000+</th>\n",
       "      <th>50-99</th>\n",
       "      <th>500-999</th>\n",
       "      <th>5000-9999</th>\n",
       "      <th>&lt;10</th>\n",
       "      <th>NA_companySize</th>\n",
       "      <th>All</th>\n",
       "    </tr>\n",
       "    <tr>\n",
       "      <th>target</th>\n",
       "      <th></th>\n",
       "      <th></th>\n",
       "      <th></th>\n",
       "      <th></th>\n",
       "      <th></th>\n",
       "      <th></th>\n",
       "      <th></th>\n",
       "      <th></th>\n",
       "      <th></th>\n",
       "      <th></th>\n",
       "    </tr>\n",
       "  </thead>\n",
       "  <tbody>\n",
       "    <tr>\n",
       "      <th>0</th>\n",
       "      <td>1127</td>\n",
       "      <td>2156</td>\n",
       "      <td>1128</td>\n",
       "      <td>1634</td>\n",
       "      <td>2538</td>\n",
       "      <td>725</td>\n",
       "      <td>461</td>\n",
       "      <td>1084</td>\n",
       "      <td>3528</td>\n",
       "      <td>14381</td>\n",
       "    </tr>\n",
       "    <tr>\n",
       "      <th>1</th>\n",
       "      <td>344</td>\n",
       "      <td>415</td>\n",
       "      <td>200</td>\n",
       "      <td>385</td>\n",
       "      <td>545</td>\n",
       "      <td>152</td>\n",
       "      <td>102</td>\n",
       "      <td>224</td>\n",
       "      <td>2410</td>\n",
       "      <td>4777</td>\n",
       "    </tr>\n",
       "    <tr>\n",
       "      <th>All</th>\n",
       "      <td>1471</td>\n",
       "      <td>2571</td>\n",
       "      <td>1328</td>\n",
       "      <td>2019</td>\n",
       "      <td>3083</td>\n",
       "      <td>877</td>\n",
       "      <td>563</td>\n",
       "      <td>1308</td>\n",
       "      <td>5938</td>\n",
       "      <td>19158</td>\n",
       "    </tr>\n",
       "  </tbody>\n",
       "</table>\n",
       "</div>"
      ],
      "text/plain": [
       "company_size  10/49  100-500  1000-4999  ...   <10  NA_companySize    All\n",
       "target                                   ...                             \n",
       "0              1127     2156       1128  ...  1084            3528  14381\n",
       "1               344      415        200  ...   224            2410   4777\n",
       "All            1471     2571       1328  ...  1308            5938  19158\n",
       "\n",
       "[3 rows x 10 columns]"
      ]
     },
     "metadata": {
      "tags": []
     },
     "output_type": "display_data"
    },
    {
     "name": "stdout",
     "output_type": "stream",
     "text": [
      "\n",
      "\n"
     ]
    },
    {
     "data": {
      "text/html": [
       "<div>\n",
       "<style scoped>\n",
       "    .dataframe tbody tr th:only-of-type {\n",
       "        vertical-align: middle;\n",
       "    }\n",
       "\n",
       "    .dataframe tbody tr th {\n",
       "        vertical-align: top;\n",
       "    }\n",
       "\n",
       "    .dataframe thead th {\n",
       "        text-align: right;\n",
       "    }\n",
       "</style>\n",
       "<table border=\"1\" class=\"dataframe\">\n",
       "  <thead>\n",
       "    <tr style=\"text-align: right;\">\n",
       "      <th>company_type</th>\n",
       "      <th>Early Stage Startup</th>\n",
       "      <th>Funded Startup</th>\n",
       "      <th>NA_companyType</th>\n",
       "      <th>NGO</th>\n",
       "      <th>Other</th>\n",
       "      <th>Public Sector</th>\n",
       "      <th>Pvt Ltd</th>\n",
       "      <th>All</th>\n",
       "    </tr>\n",
       "    <tr>\n",
       "      <th>target</th>\n",
       "      <th></th>\n",
       "      <th></th>\n",
       "      <th></th>\n",
       "      <th></th>\n",
       "      <th></th>\n",
       "      <th></th>\n",
       "      <th></th>\n",
       "      <th></th>\n",
       "    </tr>\n",
       "  </thead>\n",
       "  <tbody>\n",
       "    <tr>\n",
       "      <th>0</th>\n",
       "      <td>461</td>\n",
       "      <td>861</td>\n",
       "      <td>3756</td>\n",
       "      <td>424</td>\n",
       "      <td>92</td>\n",
       "      <td>745</td>\n",
       "      <td>8042</td>\n",
       "      <td>14381</td>\n",
       "    </tr>\n",
       "    <tr>\n",
       "      <th>1</th>\n",
       "      <td>142</td>\n",
       "      <td>140</td>\n",
       "      <td>2384</td>\n",
       "      <td>97</td>\n",
       "      <td>29</td>\n",
       "      <td>210</td>\n",
       "      <td>1775</td>\n",
       "      <td>4777</td>\n",
       "    </tr>\n",
       "    <tr>\n",
       "      <th>All</th>\n",
       "      <td>603</td>\n",
       "      <td>1001</td>\n",
       "      <td>6140</td>\n",
       "      <td>521</td>\n",
       "      <td>121</td>\n",
       "      <td>955</td>\n",
       "      <td>9817</td>\n",
       "      <td>19158</td>\n",
       "    </tr>\n",
       "  </tbody>\n",
       "</table>\n",
       "</div>"
      ],
      "text/plain": [
       "company_type  Early Stage Startup  Funded Startup  ...  Pvt Ltd    All\n",
       "target                                             ...                \n",
       "0                             461             861  ...     8042  14381\n",
       "1                             142             140  ...     1775   4777\n",
       "All                           603            1001  ...     9817  19158\n",
       "\n",
       "[3 rows x 8 columns]"
      ]
     },
     "metadata": {
      "tags": []
     },
     "output_type": "display_data"
    },
    {
     "name": "stdout",
     "output_type": "stream",
     "text": [
      "\n",
      "\n"
     ]
    },
    {
     "data": {
      "text/html": [
       "<div>\n",
       "<style scoped>\n",
       "    .dataframe tbody tr th:only-of-type {\n",
       "        vertical-align: middle;\n",
       "    }\n",
       "\n",
       "    .dataframe tbody tr th {\n",
       "        vertical-align: top;\n",
       "    }\n",
       "\n",
       "    .dataframe thead th {\n",
       "        text-align: right;\n",
       "    }\n",
       "</style>\n",
       "<table border=\"1\" class=\"dataframe\">\n",
       "  <thead>\n",
       "    <tr style=\"text-align: right;\">\n",
       "      <th>last_new_job</th>\n",
       "      <th>1</th>\n",
       "      <th>2</th>\n",
       "      <th>3</th>\n",
       "      <th>4</th>\n",
       "      <th>&gt;4</th>\n",
       "      <th>NA_lastNewJob</th>\n",
       "      <th>never</th>\n",
       "      <th>All</th>\n",
       "    </tr>\n",
       "    <tr>\n",
       "      <th>target</th>\n",
       "      <th></th>\n",
       "      <th></th>\n",
       "      <th></th>\n",
       "      <th></th>\n",
       "      <th></th>\n",
       "      <th></th>\n",
       "      <th></th>\n",
       "      <th></th>\n",
       "    </tr>\n",
       "  </thead>\n",
       "  <tbody>\n",
       "    <tr>\n",
       "      <th>0</th>\n",
       "      <td>5915</td>\n",
       "      <td>2200</td>\n",
       "      <td>793</td>\n",
       "      <td>801</td>\n",
       "      <td>2690</td>\n",
       "      <td>269</td>\n",
       "      <td>1713</td>\n",
       "      <td>14381</td>\n",
       "    </tr>\n",
       "    <tr>\n",
       "      <th>1</th>\n",
       "      <td>2125</td>\n",
       "      <td>700</td>\n",
       "      <td>231</td>\n",
       "      <td>228</td>\n",
       "      <td>600</td>\n",
       "      <td>154</td>\n",
       "      <td>739</td>\n",
       "      <td>4777</td>\n",
       "    </tr>\n",
       "    <tr>\n",
       "      <th>All</th>\n",
       "      <td>8040</td>\n",
       "      <td>2900</td>\n",
       "      <td>1024</td>\n",
       "      <td>1029</td>\n",
       "      <td>3290</td>\n",
       "      <td>423</td>\n",
       "      <td>2452</td>\n",
       "      <td>19158</td>\n",
       "    </tr>\n",
       "  </tbody>\n",
       "</table>\n",
       "</div>"
      ],
      "text/plain": [
       "last_new_job     1     2     3     4    >4  NA_lastNewJob  never    All\n",
       "target                                                                 \n",
       "0             5915  2200   793   801  2690            269   1713  14381\n",
       "1             2125   700   231   228   600            154    739   4777\n",
       "All           8040  2900  1024  1029  3290            423   2452  19158"
      ]
     },
     "metadata": {
      "tags": []
     },
     "output_type": "display_data"
    },
    {
     "name": "stdout",
     "output_type": "stream",
     "text": [
      "\n",
      "\n"
     ]
    },
    {
     "data": {
      "text/html": [
       "<div>\n",
       "<style scoped>\n",
       "    .dataframe tbody tr th:only-of-type {\n",
       "        vertical-align: middle;\n",
       "    }\n",
       "\n",
       "    .dataframe tbody tr th {\n",
       "        vertical-align: top;\n",
       "    }\n",
       "\n",
       "    .dataframe thead th {\n",
       "        text-align: right;\n",
       "    }\n",
       "</style>\n",
       "<table border=\"1\" class=\"dataframe\">\n",
       "  <thead>\n",
       "    <tr style=\"text-align: right;\">\n",
       "      <th>city</th>\n",
       "      <th>1</th>\n",
       "      <th>10</th>\n",
       "      <th>100</th>\n",
       "      <th>101</th>\n",
       "      <th>102</th>\n",
       "      <th>103</th>\n",
       "      <th>104</th>\n",
       "      <th>105</th>\n",
       "      <th>106</th>\n",
       "      <th>107</th>\n",
       "      <th>109</th>\n",
       "      <th>11</th>\n",
       "      <th>111</th>\n",
       "      <th>114</th>\n",
       "      <th>115</th>\n",
       "      <th>116</th>\n",
       "      <th>117</th>\n",
       "      <th>118</th>\n",
       "      <th>12</th>\n",
       "      <th>120</th>\n",
       "      <th>121</th>\n",
       "      <th>123</th>\n",
       "      <th>126</th>\n",
       "      <th>127</th>\n",
       "      <th>128</th>\n",
       "      <th>129</th>\n",
       "      <th>13</th>\n",
       "      <th>131</th>\n",
       "      <th>133</th>\n",
       "      <th>134</th>\n",
       "      <th>136</th>\n",
       "      <th>138</th>\n",
       "      <th>139</th>\n",
       "      <th>14</th>\n",
       "      <th>140</th>\n",
       "      <th>141</th>\n",
       "      <th>142</th>\n",
       "      <th>143</th>\n",
       "      <th>144</th>\n",
       "      <th>145</th>\n",
       "      <th>...</th>\n",
       "      <th>48</th>\n",
       "      <th>50</th>\n",
       "      <th>53</th>\n",
       "      <th>54</th>\n",
       "      <th>55</th>\n",
       "      <th>57</th>\n",
       "      <th>59</th>\n",
       "      <th>61</th>\n",
       "      <th>62</th>\n",
       "      <th>64</th>\n",
       "      <th>65</th>\n",
       "      <th>67</th>\n",
       "      <th>69</th>\n",
       "      <th>7</th>\n",
       "      <th>70</th>\n",
       "      <th>71</th>\n",
       "      <th>72</th>\n",
       "      <th>73</th>\n",
       "      <th>74</th>\n",
       "      <th>75</th>\n",
       "      <th>76</th>\n",
       "      <th>77</th>\n",
       "      <th>78</th>\n",
       "      <th>79</th>\n",
       "      <th>8</th>\n",
       "      <th>80</th>\n",
       "      <th>81</th>\n",
       "      <th>82</th>\n",
       "      <th>83</th>\n",
       "      <th>84</th>\n",
       "      <th>89</th>\n",
       "      <th>9</th>\n",
       "      <th>90</th>\n",
       "      <th>91</th>\n",
       "      <th>93</th>\n",
       "      <th>94</th>\n",
       "      <th>97</th>\n",
       "      <th>98</th>\n",
       "      <th>99</th>\n",
       "      <th>All</th>\n",
       "    </tr>\n",
       "    <tr>\n",
       "      <th>target</th>\n",
       "      <th></th>\n",
       "      <th></th>\n",
       "      <th></th>\n",
       "      <th></th>\n",
       "      <th></th>\n",
       "      <th></th>\n",
       "      <th></th>\n",
       "      <th></th>\n",
       "      <th></th>\n",
       "      <th></th>\n",
       "      <th></th>\n",
       "      <th></th>\n",
       "      <th></th>\n",
       "      <th></th>\n",
       "      <th></th>\n",
       "      <th></th>\n",
       "      <th></th>\n",
       "      <th></th>\n",
       "      <th></th>\n",
       "      <th></th>\n",
       "      <th></th>\n",
       "      <th></th>\n",
       "      <th></th>\n",
       "      <th></th>\n",
       "      <th></th>\n",
       "      <th></th>\n",
       "      <th></th>\n",
       "      <th></th>\n",
       "      <th></th>\n",
       "      <th></th>\n",
       "      <th></th>\n",
       "      <th></th>\n",
       "      <th></th>\n",
       "      <th></th>\n",
       "      <th></th>\n",
       "      <th></th>\n",
       "      <th></th>\n",
       "      <th></th>\n",
       "      <th></th>\n",
       "      <th></th>\n",
       "      <th></th>\n",
       "      <th></th>\n",
       "      <th></th>\n",
       "      <th></th>\n",
       "      <th></th>\n",
       "      <th></th>\n",
       "      <th></th>\n",
       "      <th></th>\n",
       "      <th></th>\n",
       "      <th></th>\n",
       "      <th></th>\n",
       "      <th></th>\n",
       "      <th></th>\n",
       "      <th></th>\n",
       "      <th></th>\n",
       "      <th></th>\n",
       "      <th></th>\n",
       "      <th></th>\n",
       "      <th></th>\n",
       "      <th></th>\n",
       "      <th></th>\n",
       "      <th></th>\n",
       "      <th></th>\n",
       "      <th></th>\n",
       "      <th></th>\n",
       "      <th></th>\n",
       "      <th></th>\n",
       "      <th></th>\n",
       "      <th></th>\n",
       "      <th></th>\n",
       "      <th></th>\n",
       "      <th></th>\n",
       "      <th></th>\n",
       "      <th></th>\n",
       "      <th></th>\n",
       "      <th></th>\n",
       "      <th></th>\n",
       "      <th></th>\n",
       "      <th></th>\n",
       "      <th></th>\n",
       "      <th></th>\n",
       "    </tr>\n",
       "  </thead>\n",
       "  <tbody>\n",
       "    <tr>\n",
       "      <th>0</th>\n",
       "      <td>23</td>\n",
       "      <td>77</td>\n",
       "      <td>210</td>\n",
       "      <td>32</td>\n",
       "      <td>252</td>\n",
       "      <td>3427</td>\n",
       "      <td>273</td>\n",
       "      <td>70</td>\n",
       "      <td>6</td>\n",
       "      <td>2</td>\n",
       "      <td>6</td>\n",
       "      <td>100</td>\n",
       "      <td>3</td>\n",
       "      <td>1203</td>\n",
       "      <td>33</td>\n",
       "      <td>106</td>\n",
       "      <td>9</td>\n",
       "      <td>18</td>\n",
       "      <td>11</td>\n",
       "      <td>5</td>\n",
       "      <td>2</td>\n",
       "      <td>58</td>\n",
       "      <td>13</td>\n",
       "      <td>8</td>\n",
       "      <td>40</td>\n",
       "      <td>3</td>\n",
       "      <td>42</td>\n",
       "      <td>6</td>\n",
       "      <td>8</td>\n",
       "      <td>31</td>\n",
       "      <td>525</td>\n",
       "      <td>110</td>\n",
       "      <td>1</td>\n",
       "      <td>21</td>\n",
       "      <td>1</td>\n",
       "      <td>23</td>\n",
       "      <td>37</td>\n",
       "      <td>25</td>\n",
       "      <td>21</td>\n",
       "      <td>26</td>\n",
       "      <td>...</td>\n",
       "      <td>6</td>\n",
       "      <td>125</td>\n",
       "      <td>18</td>\n",
       "      <td>11</td>\n",
       "      <td>10</td>\n",
       "      <td>90</td>\n",
       "      <td>7</td>\n",
       "      <td>178</td>\n",
       "      <td>5</td>\n",
       "      <td>98</td>\n",
       "      <td>151</td>\n",
       "      <td>374</td>\n",
       "      <td>15</td>\n",
       "      <td>22</td>\n",
       "      <td>25</td>\n",
       "      <td>227</td>\n",
       "      <td>18</td>\n",
       "      <td>206</td>\n",
       "      <td>50</td>\n",
       "      <td>274</td>\n",
       "      <td>36</td>\n",
       "      <td>31</td>\n",
       "      <td>15</td>\n",
       "      <td>5</td>\n",
       "      <td>4</td>\n",
       "      <td>13</td>\n",
       "      <td>6</td>\n",
       "      <td>4</td>\n",
       "      <td>120</td>\n",
       "      <td>17</td>\n",
       "      <td>51</td>\n",
       "      <td>13</td>\n",
       "      <td>135</td>\n",
       "      <td>29</td>\n",
       "      <td>21</td>\n",
       "      <td>16</td>\n",
       "      <td>96</td>\n",
       "      <td>71</td>\n",
       "      <td>79</td>\n",
       "      <td>14381</td>\n",
       "    </tr>\n",
       "    <tr>\n",
       "      <th>1</th>\n",
       "      <td>3</td>\n",
       "      <td>9</td>\n",
       "      <td>65</td>\n",
       "      <td>43</td>\n",
       "      <td>52</td>\n",
       "      <td>928</td>\n",
       "      <td>28</td>\n",
       "      <td>9</td>\n",
       "      <td>3</td>\n",
       "      <td>4</td>\n",
       "      <td>3</td>\n",
       "      <td>147</td>\n",
       "      <td>0</td>\n",
       "      <td>133</td>\n",
       "      <td>21</td>\n",
       "      <td>22</td>\n",
       "      <td>4</td>\n",
       "      <td>9</td>\n",
       "      <td>2</td>\n",
       "      <td>1</td>\n",
       "      <td>1</td>\n",
       "      <td>21</td>\n",
       "      <td>15</td>\n",
       "      <td>2</td>\n",
       "      <td>52</td>\n",
       "      <td>0</td>\n",
       "      <td>6</td>\n",
       "      <td>3</td>\n",
       "      <td>2</td>\n",
       "      <td>12</td>\n",
       "      <td>61</td>\n",
       "      <td>10</td>\n",
       "      <td>4</td>\n",
       "      <td>7</td>\n",
       "      <td>0</td>\n",
       "      <td>4</td>\n",
       "      <td>16</td>\n",
       "      <td>16</td>\n",
       "      <td>8</td>\n",
       "      <td>37</td>\n",
       "      <td>...</td>\n",
       "      <td>7</td>\n",
       "      <td>15</td>\n",
       "      <td>8</td>\n",
       "      <td>3</td>\n",
       "      <td>4</td>\n",
       "      <td>13</td>\n",
       "      <td>3</td>\n",
       "      <td>19</td>\n",
       "      <td>0</td>\n",
       "      <td>16</td>\n",
       "      <td>24</td>\n",
       "      <td>57</td>\n",
       "      <td>2</td>\n",
       "      <td>5</td>\n",
       "      <td>19</td>\n",
       "      <td>39</td>\n",
       "      <td>2</td>\n",
       "      <td>74</td>\n",
       "      <td>54</td>\n",
       "      <td>31</td>\n",
       "      <td>14</td>\n",
       "      <td>1</td>\n",
       "      <td>16</td>\n",
       "      <td>3</td>\n",
       "      <td>0</td>\n",
       "      <td>2</td>\n",
       "      <td>1</td>\n",
       "      <td>0</td>\n",
       "      <td>23</td>\n",
       "      <td>7</td>\n",
       "      <td>16</td>\n",
       "      <td>5</td>\n",
       "      <td>62</td>\n",
       "      <td>16</td>\n",
       "      <td>5</td>\n",
       "      <td>10</td>\n",
       "      <td>8</td>\n",
       "      <td>8</td>\n",
       "      <td>15</td>\n",
       "      <td>4777</td>\n",
       "    </tr>\n",
       "    <tr>\n",
       "      <th>All</th>\n",
       "      <td>26</td>\n",
       "      <td>86</td>\n",
       "      <td>275</td>\n",
       "      <td>75</td>\n",
       "      <td>304</td>\n",
       "      <td>4355</td>\n",
       "      <td>301</td>\n",
       "      <td>79</td>\n",
       "      <td>9</td>\n",
       "      <td>6</td>\n",
       "      <td>9</td>\n",
       "      <td>247</td>\n",
       "      <td>3</td>\n",
       "      <td>1336</td>\n",
       "      <td>54</td>\n",
       "      <td>128</td>\n",
       "      <td>13</td>\n",
       "      <td>27</td>\n",
       "      <td>13</td>\n",
       "      <td>6</td>\n",
       "      <td>3</td>\n",
       "      <td>79</td>\n",
       "      <td>28</td>\n",
       "      <td>10</td>\n",
       "      <td>92</td>\n",
       "      <td>3</td>\n",
       "      <td>48</td>\n",
       "      <td>9</td>\n",
       "      <td>10</td>\n",
       "      <td>43</td>\n",
       "      <td>586</td>\n",
       "      <td>120</td>\n",
       "      <td>5</td>\n",
       "      <td>28</td>\n",
       "      <td>1</td>\n",
       "      <td>27</td>\n",
       "      <td>53</td>\n",
       "      <td>41</td>\n",
       "      <td>29</td>\n",
       "      <td>63</td>\n",
       "      <td>...</td>\n",
       "      <td>13</td>\n",
       "      <td>140</td>\n",
       "      <td>26</td>\n",
       "      <td>14</td>\n",
       "      <td>14</td>\n",
       "      <td>103</td>\n",
       "      <td>10</td>\n",
       "      <td>197</td>\n",
       "      <td>5</td>\n",
       "      <td>114</td>\n",
       "      <td>175</td>\n",
       "      <td>431</td>\n",
       "      <td>17</td>\n",
       "      <td>27</td>\n",
       "      <td>44</td>\n",
       "      <td>266</td>\n",
       "      <td>20</td>\n",
       "      <td>280</td>\n",
       "      <td>104</td>\n",
       "      <td>305</td>\n",
       "      <td>50</td>\n",
       "      <td>32</td>\n",
       "      <td>31</td>\n",
       "      <td>8</td>\n",
       "      <td>4</td>\n",
       "      <td>15</td>\n",
       "      <td>7</td>\n",
       "      <td>4</td>\n",
       "      <td>143</td>\n",
       "      <td>24</td>\n",
       "      <td>67</td>\n",
       "      <td>18</td>\n",
       "      <td>197</td>\n",
       "      <td>45</td>\n",
       "      <td>26</td>\n",
       "      <td>26</td>\n",
       "      <td>104</td>\n",
       "      <td>79</td>\n",
       "      <td>94</td>\n",
       "      <td>19158</td>\n",
       "    </tr>\n",
       "  </tbody>\n",
       "</table>\n",
       "<p>3 rows × 124 columns</p>\n",
       "</div>"
      ],
      "text/plain": [
       "city     1  10  100  101  102   103  104  ...  91  93  94   97  98  99    All\n",
       "target                                    ...                                \n",
       "0       23  77  210   32  252  3427  273  ...  29  21  16   96  71  79  14381\n",
       "1        3   9   65   43   52   928   28  ...  16   5  10    8   8  15   4777\n",
       "All     26  86  275   75  304  4355  301  ...  45  26  26  104  79  94  19158\n",
       "\n",
       "[3 rows x 124 columns]"
      ]
     },
     "metadata": {
      "tags": []
     },
     "output_type": "display_data"
    },
    {
     "name": "stdout",
     "output_type": "stream",
     "text": [
      "\n",
      "\n"
     ]
    }
   ],
   "source": [
    "L = ['gender', 'relevent_experience', 'enrolled_university', 'education_level', 'major_discipline', 'experience', 'company_size', 'company_type', 'last_new_job', 'city']\n",
    "\n",
    "for feature in L:\n",
    "  display(pd.crosstab(train_data2['target'], train_data2[feature], margins=True))   # use display() here, do not use print()!\n",
    "  print()\n",
    "  print()"
   ]
  },
  {
   "cell_type": "markdown",
   "metadata": {
    "id": "pa-EbMYRjUlF"
   },
   "source": [
    "# Convert Target Type from float to str"
   ]
  },
  {
   "cell_type": "code",
   "execution_count": null,
   "metadata": {
    "id": "JRuwgOdzSuaQ"
   },
   "outputs": [],
   "source": [
    "train_data2['target'] = train_data2['target'].astype(int)\n",
    "train_data2['target'] = train_data2['target'].astype(str)"
   ]
  },
  {
   "cell_type": "code",
   "execution_count": null,
   "metadata": {
    "colab": {
     "base_uri": "https://localhost:8080/"
    },
    "executionInfo": {
     "elapsed": 2246,
     "status": "ok",
     "timestamp": 1614095001443,
     "user": {
      "displayName": "Shining Du",
      "photoUrl": "",
      "userId": "16422857245131771211"
     },
     "user_tz": 300
    },
    "id": "cEeSUVsjj7fe",
    "outputId": "5df559e3-057e-4e0f-d358-913f892576bf"
   },
   "outputs": [
    {
     "name": "stdout",
     "output_type": "stream",
     "text": [
      "<class 'pandas.core.frame.DataFrame'>\n",
      "RangeIndex: 19158 entries, 0 to 19157\n",
      "Data columns (total 13 columns):\n",
      " #   Column                  Non-Null Count  Dtype  \n",
      "---  ------                  --------------  -----  \n",
      " 0   city                    19158 non-null  object \n",
      " 1   city_development_index  19158 non-null  float64\n",
      " 2   gender                  19158 non-null  object \n",
      " 3   relevent_experience     19158 non-null  object \n",
      " 4   enrolled_university     19158 non-null  object \n",
      " 5   education_level         19158 non-null  object \n",
      " 6   major_discipline        19158 non-null  object \n",
      " 7   experience              19158 non-null  object \n",
      " 8   company_size            19158 non-null  object \n",
      " 9   company_type            19158 non-null  object \n",
      " 10  last_new_job            19158 non-null  object \n",
      " 11  training_hours          19158 non-null  int64  \n",
      " 12  target                  19158 non-null  object \n",
      "dtypes: float64(1), int64(1), object(11)\n",
      "memory usage: 1.9+ MB\n"
     ]
    }
   ],
   "source": [
    "train_data2.info()"
   ]
  },
  {
   "cell_type": "markdown",
   "metadata": {
    "id": "S50IfEV1mG1e"
   },
   "source": [
    "# Split Train / Validation Dataset"
   ]
  },
  {
   "cell_type": "code",
   "execution_count": null,
   "metadata": {
    "colab": {
     "base_uri": "https://localhost:8080/"
    },
    "executionInfo": {
     "elapsed": 2237,
     "status": "ok",
     "timestamp": 1614095001444,
     "user": {
      "displayName": "Shining Du",
      "photoUrl": "",
      "userId": "16422857245131771211"
     },
     "user_tz": 300
    },
    "id": "Oh69R0SIRTlY",
    "outputId": "1c1cd906-65cf-4e4d-a2d3-dacb299b82f5"
   },
   "outputs": [
    {
     "data": {
      "text/plain": [
       "0    14381\n",
       "1     4777\n",
       "Name: target, dtype: int64"
      ]
     },
     "execution_count": 27,
     "metadata": {
      "tags": []
     },
     "output_type": "execute_result"
    }
   ],
   "source": [
    "train_data2['target'].value_counts()"
   ]
  },
  {
   "cell_type": "markdown",
   "metadata": {
    "id": "ahl5yR3ANUyg"
   },
   "source": [
    "# Stratiefied Sampling"
   ]
  },
  {
   "cell_type": "code",
   "execution_count": null,
   "metadata": {
    "colab": {
     "base_uri": "https://localhost:8080/"
    },
    "executionInfo": {
     "elapsed": 2227,
     "status": "ok",
     "timestamp": 1614095001445,
     "user": {
      "displayName": "Shining Du",
      "photoUrl": "",
      "userId": "16422857245131771211"
     },
     "user_tz": 300
    },
    "id": "1O0UKLmFvd1C",
    "outputId": "857fad69-5631-4156-e060-d3effbb75a16"
   },
   "outputs": [
    {
     "name": "stdout",
     "output_type": "stream",
     "text": [
      "(15326, 13)\n",
      "(3832, 13)\n"
     ]
    }
   ],
   "source": [
    "from sklearn.model_selection import StratifiedShuffleSplit\n",
    "split = StratifiedShuffleSplit(n_splits=1, test_size=0.2, random_state=62) # pay attention to random seed!\n",
    "\n",
    "for train_index, val_index in split.split(train_data2, train_data['target']):\n",
    "  strat_train_set = train_data2.loc[train_index]\n",
    "  strat_val_set = train_data2.loc[val_index]\n",
    "\n",
    "print(strat_train_set.shape)\n",
    "print(strat_val_set.shape)"
   ]
  },
  {
   "cell_type": "code",
   "execution_count": null,
   "metadata": {
    "colab": {
     "base_uri": "https://localhost:8080/"
    },
    "executionInfo": {
     "elapsed": 2216,
     "status": "ok",
     "timestamp": 1614095001446,
     "user": {
      "displayName": "Shining Du",
      "photoUrl": "",
      "userId": "16422857245131771211"
     },
     "user_tz": 300
    },
    "id": "tmR5vpFQR_kQ",
    "outputId": "0ec36828-74bb-4e40-fd73-4717dae14dfd"
   },
   "outputs": [
    {
     "name": "stdout",
     "output_type": "stream",
     "text": [
      "0.24938013832702596\n",
      "0.24921711899791232\n"
     ]
    }
   ],
   "source": [
    "# to confirm stratified sampling\n",
    "print(strat_train_set['target'].value_counts()[1] / strat_train_set['target'].value_counts().sum())\n",
    "print(strat_val_set['target'].value_counts()[1] / strat_val_set['target'].value_counts().sum())"
   ]
  },
  {
   "cell_type": "code",
   "execution_count": null,
   "metadata": {
    "id": "dQRhToAyTB6c"
   },
   "outputs": [],
   "source": [
    "# Now define X and y\n",
    "\n",
    "#the Y Variable\n",
    "train_set_y = strat_train_set['target'].copy()\n",
    "val_set_y = strat_val_set['target'].copy()\n",
    "\n",
    "#the X variables\n",
    "train_set_X = strat_train_set.drop('target', axis=1)\n",
    "val_set_X = strat_val_set.drop('target', axis=1)"
   ]
  },
  {
   "cell_type": "code",
   "execution_count": null,
   "metadata": {
    "colab": {
     "base_uri": "https://localhost:8080/"
    },
    "executionInfo": {
     "elapsed": 2202,
     "status": "ok",
     "timestamp": 1614095001448,
     "user": {
      "displayName": "Shining Du",
      "photoUrl": "",
      "userId": "16422857245131771211"
     },
     "user_tz": 300
    },
    "id": "YQK5z3_BU3nk",
    "outputId": "1c7b6c7d-a47c-4d90-8e84-cbdb97f5464c"
   },
   "outputs": [
    {
     "data": {
      "text/plain": [
       "((15326, 12), (3832, 12))"
      ]
     },
     "execution_count": 31,
     "metadata": {
      "tags": []
     },
     "output_type": "execute_result"
    }
   ],
   "source": [
    "train_set_X.shape, val_set_X.shape"
   ]
  },
  {
   "cell_type": "code",
   "execution_count": null,
   "metadata": {
    "colab": {
     "base_uri": "https://localhost:8080/",
     "height": 309
    },
    "executionInfo": {
     "elapsed": 2345,
     "status": "ok",
     "timestamp": 1614095001601,
     "user": {
      "displayName": "Shining Du",
      "photoUrl": "",
      "userId": "16422857245131771211"
     },
     "user_tz": 300
    },
    "id": "_FOXY5P1qYlL",
    "outputId": "5a307877-0977-44d1-aac5-1ba543279555"
   },
   "outputs": [
    {
     "data": {
      "text/html": [
       "<div>\n",
       "<style scoped>\n",
       "    .dataframe tbody tr th:only-of-type {\n",
       "        vertical-align: middle;\n",
       "    }\n",
       "\n",
       "    .dataframe tbody tr th {\n",
       "        vertical-align: top;\n",
       "    }\n",
       "\n",
       "    .dataframe thead th {\n",
       "        text-align: right;\n",
       "    }\n",
       "</style>\n",
       "<table border=\"1\" class=\"dataframe\">\n",
       "  <thead>\n",
       "    <tr style=\"text-align: right;\">\n",
       "      <th></th>\n",
       "      <th>city</th>\n",
       "      <th>city_development_index</th>\n",
       "      <th>gender</th>\n",
       "      <th>relevent_experience</th>\n",
       "      <th>enrolled_university</th>\n",
       "      <th>education_level</th>\n",
       "      <th>major_discipline</th>\n",
       "      <th>experience</th>\n",
       "      <th>company_size</th>\n",
       "      <th>company_type</th>\n",
       "      <th>last_new_job</th>\n",
       "      <th>training_hours</th>\n",
       "    </tr>\n",
       "  </thead>\n",
       "  <tbody>\n",
       "    <tr>\n",
       "      <th>14245</th>\n",
       "      <td>78</td>\n",
       "      <td>0.579</td>\n",
       "      <td>NA_gender</td>\n",
       "      <td>No relevent experience</td>\n",
       "      <td>no_enrollment</td>\n",
       "      <td>Primary School</td>\n",
       "      <td>NA_majorDiscipline</td>\n",
       "      <td>&lt;1</td>\n",
       "      <td>NA_companySize</td>\n",
       "      <td>NA_companyType</td>\n",
       "      <td>1</td>\n",
       "      <td>34</td>\n",
       "    </tr>\n",
       "    <tr>\n",
       "      <th>15310</th>\n",
       "      <td>103</td>\n",
       "      <td>0.920</td>\n",
       "      <td>Male</td>\n",
       "      <td>No relevent experience</td>\n",
       "      <td>no_enrollment</td>\n",
       "      <td>Primary School</td>\n",
       "      <td>NA_majorDiscipline</td>\n",
       "      <td>3</td>\n",
       "      <td>NA_companySize</td>\n",
       "      <td>NA_companyType</td>\n",
       "      <td>never</td>\n",
       "      <td>78</td>\n",
       "    </tr>\n",
       "    <tr>\n",
       "      <th>7095</th>\n",
       "      <td>16</td>\n",
       "      <td>0.910</td>\n",
       "      <td>Female</td>\n",
       "      <td>Has relevent experience</td>\n",
       "      <td>no_enrollment</td>\n",
       "      <td>Graduate</td>\n",
       "      <td>Humanities</td>\n",
       "      <td>18</td>\n",
       "      <td>50-99</td>\n",
       "      <td>Pvt Ltd</td>\n",
       "      <td>1</td>\n",
       "      <td>134</td>\n",
       "    </tr>\n",
       "    <tr>\n",
       "      <th>13914</th>\n",
       "      <td>114</td>\n",
       "      <td>0.926</td>\n",
       "      <td>Male</td>\n",
       "      <td>Has relevent experience</td>\n",
       "      <td>no_enrollment</td>\n",
       "      <td>Graduate</td>\n",
       "      <td>STEM</td>\n",
       "      <td>16</td>\n",
       "      <td>50-99</td>\n",
       "      <td>Pvt Ltd</td>\n",
       "      <td>3</td>\n",
       "      <td>196</td>\n",
       "    </tr>\n",
       "    <tr>\n",
       "      <th>7662</th>\n",
       "      <td>141</td>\n",
       "      <td>0.763</td>\n",
       "      <td>Male</td>\n",
       "      <td>Has relevent experience</td>\n",
       "      <td>no_enrollment</td>\n",
       "      <td>Graduate</td>\n",
       "      <td>STEM</td>\n",
       "      <td>10</td>\n",
       "      <td>50-99</td>\n",
       "      <td>Pvt Ltd</td>\n",
       "      <td>1</td>\n",
       "      <td>46</td>\n",
       "    </tr>\n",
       "  </tbody>\n",
       "</table>\n",
       "</div>"
      ],
      "text/plain": [
       "      city  city_development_index  ... last_new_job training_hours\n",
       "14245   78                   0.579  ...            1             34\n",
       "15310  103                   0.920  ...        never             78\n",
       "7095    16                   0.910  ...            1            134\n",
       "13914  114                   0.926  ...            3            196\n",
       "7662   141                   0.763  ...            1             46\n",
       "\n",
       "[5 rows x 12 columns]"
      ]
     },
     "execution_count": 32,
     "metadata": {
      "tags": []
     },
     "output_type": "execute_result"
    }
   ],
   "source": [
    "train_set_X.head()"
   ]
  },
  {
   "cell_type": "code",
   "execution_count": null,
   "metadata": {
    "colab": {
     "base_uri": "https://localhost:8080/",
     "height": 309
    },
    "executionInfo": {
     "elapsed": 2333,
     "status": "ok",
     "timestamp": 1614095001603,
     "user": {
      "displayName": "Shining Du",
      "photoUrl": "",
      "userId": "16422857245131771211"
     },
     "user_tz": 300
    },
    "id": "U8RMMzg0qjRc",
    "outputId": "735f4461-07fa-4b12-ceb8-b48e6343d09f"
   },
   "outputs": [
    {
     "data": {
      "text/html": [
       "<div>\n",
       "<style scoped>\n",
       "    .dataframe tbody tr th:only-of-type {\n",
       "        vertical-align: middle;\n",
       "    }\n",
       "\n",
       "    .dataframe tbody tr th {\n",
       "        vertical-align: top;\n",
       "    }\n",
       "\n",
       "    .dataframe thead th {\n",
       "        text-align: right;\n",
       "    }\n",
       "</style>\n",
       "<table border=\"1\" class=\"dataframe\">\n",
       "  <thead>\n",
       "    <tr style=\"text-align: right;\">\n",
       "      <th></th>\n",
       "      <th>city</th>\n",
       "      <th>city_development_index</th>\n",
       "      <th>gender</th>\n",
       "      <th>relevent_experience</th>\n",
       "      <th>enrolled_university</th>\n",
       "      <th>education_level</th>\n",
       "      <th>major_discipline</th>\n",
       "      <th>experience</th>\n",
       "      <th>company_size</th>\n",
       "      <th>company_type</th>\n",
       "      <th>last_new_job</th>\n",
       "      <th>training_hours</th>\n",
       "    </tr>\n",
       "  </thead>\n",
       "  <tbody>\n",
       "    <tr>\n",
       "      <th>1400</th>\n",
       "      <td>165</td>\n",
       "      <td>0.903</td>\n",
       "      <td>Male</td>\n",
       "      <td>Has relevent experience</td>\n",
       "      <td>no_enrollment</td>\n",
       "      <td>Phd</td>\n",
       "      <td>STEM</td>\n",
       "      <td>4</td>\n",
       "      <td>5000-9999</td>\n",
       "      <td>Public Sector</td>\n",
       "      <td>2</td>\n",
       "      <td>21</td>\n",
       "    </tr>\n",
       "    <tr>\n",
       "      <th>5459</th>\n",
       "      <td>74</td>\n",
       "      <td>0.579</td>\n",
       "      <td>Male</td>\n",
       "      <td>No relevent experience</td>\n",
       "      <td>Part time course</td>\n",
       "      <td>Graduate</td>\n",
       "      <td>STEM</td>\n",
       "      <td>3</td>\n",
       "      <td>NA_companySize</td>\n",
       "      <td>NA_companyType</td>\n",
       "      <td>never</td>\n",
       "      <td>47</td>\n",
       "    </tr>\n",
       "    <tr>\n",
       "      <th>11173</th>\n",
       "      <td>76</td>\n",
       "      <td>0.698</td>\n",
       "      <td>Male</td>\n",
       "      <td>Has relevent experience</td>\n",
       "      <td>no_enrollment</td>\n",
       "      <td>Graduate</td>\n",
       "      <td>STEM</td>\n",
       "      <td>&gt;20</td>\n",
       "      <td>100-500</td>\n",
       "      <td>Pvt Ltd</td>\n",
       "      <td>3</td>\n",
       "      <td>32</td>\n",
       "    </tr>\n",
       "    <tr>\n",
       "      <th>14902</th>\n",
       "      <td>75</td>\n",
       "      <td>0.939</td>\n",
       "      <td>Female</td>\n",
       "      <td>Has relevent experience</td>\n",
       "      <td>no_enrollment</td>\n",
       "      <td>Graduate</td>\n",
       "      <td>Other</td>\n",
       "      <td>9</td>\n",
       "      <td>50-99</td>\n",
       "      <td>Pvt Ltd</td>\n",
       "      <td>1</td>\n",
       "      <td>51</td>\n",
       "    </tr>\n",
       "    <tr>\n",
       "      <th>3091</th>\n",
       "      <td>136</td>\n",
       "      <td>0.897</td>\n",
       "      <td>NA_gender</td>\n",
       "      <td>Has relevent experience</td>\n",
       "      <td>Part time course</td>\n",
       "      <td>Graduate</td>\n",
       "      <td>STEM</td>\n",
       "      <td>4</td>\n",
       "      <td>NA_companySize</td>\n",
       "      <td>NA_companyType</td>\n",
       "      <td>1</td>\n",
       "      <td>106</td>\n",
       "    </tr>\n",
       "  </tbody>\n",
       "</table>\n",
       "</div>"
      ],
      "text/plain": [
       "      city  city_development_index  ... last_new_job training_hours\n",
       "1400   165                   0.903  ...            2             21\n",
       "5459    74                   0.579  ...        never             47\n",
       "11173   76                   0.698  ...            3             32\n",
       "14902   75                   0.939  ...            1             51\n",
       "3091   136                   0.897  ...            1            106\n",
       "\n",
       "[5 rows x 12 columns]"
      ]
     },
     "execution_count": 33,
     "metadata": {
      "tags": []
     },
     "output_type": "execute_result"
    }
   ],
   "source": [
    "val_set_X.head()"
   ]
  },
  {
   "cell_type": "markdown",
   "metadata": {
    "id": "hFSMbZoCk8oq"
   },
   "source": [
    "# Pipeline Transformation"
   ]
  },
  {
   "cell_type": "code",
   "execution_count": null,
   "metadata": {
    "id": "9SKV4bQTUOcL"
   },
   "outputs": [],
   "source": [
    "# Reference from Hands on Machine learning - one of my text books!\n",
    "# The CategoricalEncoder class will allow us to convert categorical attributes to one-hot vectors.\n",
    "\n",
    "class CategoricalEncoder(BaseEstimator, TransformerMixin):\n",
    "    def __init__(self, encoding='onehot', categories='auto', dtype=np.float64,\n",
    "                 handle_unknown='error'):\n",
    "        self.encoding = encoding\n",
    "        self.categories = categories\n",
    "        self.dtype = dtype\n",
    "        self.handle_unknown = handle_unknown\n",
    "\n",
    "    def fit(self, X, y=None):\n",
    "        \"\"\"Fit the CategoricalEncoder to X.\n",
    "        Parameters\n",
    "        ----------\n",
    "        X : array-like, shape [n_samples, n_feature]\n",
    "            The data to determine the categories of each feature.\n",
    "        Returns\n",
    "        -------\n",
    "        self\n",
    "        \"\"\"\n",
    "\n",
    "        if self.encoding not in ['onehot', 'onehot-dense', 'ordinal']:\n",
    "            template = (\"encoding should be either 'onehot', 'onehot-dense' \"\n",
    "                        \"or 'ordinal', got %s\")\n",
    "            raise ValueError(template % self.handle_unknown)\n",
    "\n",
    "        if self.handle_unknown not in ['error', 'ignore']:\n",
    "            template = (\"handle_unknown should be either 'error' or \"\n",
    "                        \"'ignore', got %s\")\n",
    "            raise ValueError(template % self.handle_unknown)\n",
    "\n",
    "        if self.encoding == 'ordinal' and self.handle_unknown == 'ignore':\n",
    "            raise ValueError(\"handle_unknown='ignore' is not supported for\"\n",
    "                             \" encoding='ordinal'\")\n",
    "\n",
    "        X = check_array(X, dtype=np.object, accept_sparse='csc', copy=True)\n",
    "        n_samples, n_features = X.shape\n",
    "\n",
    "        self._label_encoders_ = [LabelEncoder() for _ in range(n_features)]\n",
    "\n",
    "        for i in range(n_features):\n",
    "            le = self._label_encoders_[i]\n",
    "            Xi = X[:, i]\n",
    "            if self.categories == 'auto':\n",
    "                le.fit(Xi)\n",
    "            else:\n",
    "                valid_mask = np.in1d(Xi, self.categories[i])\n",
    "                if not np.all(valid_mask):\n",
    "                    if self.handle_unknown == 'error':\n",
    "                        diff = np.unique(Xi[~valid_mask])\n",
    "                        msg = (\"Found unknown categories {0} in column {1}\"\n",
    "                               \" during fit\".format(diff, i))\n",
    "                        raise ValueError(msg)\n",
    "                le.classes_ = np.array(np.sort(self.categories[i]))\n",
    "\n",
    "        self.categories_ = [le.classes_ for le in self._label_encoders_]\n",
    "\n",
    "        return self\n",
    "\n",
    "    def transform(self, X):\n",
    "        \"\"\"Transform X using one-hot encoding.\n",
    "        Parameters\n",
    "        ----------\n",
    "        X : array-like, shape [n_samples, n_features]\n",
    "            The data to encode.\n",
    "        Returns\n",
    "        -------\n",
    "        X_out : sparse matrix or a 2-d array\n",
    "            Transformed input.\n",
    "        \"\"\"\n",
    "        X = check_array(X, accept_sparse='csc', dtype=np.object, copy=True)\n",
    "        n_samples, n_features = X.shape\n",
    "        X_int = np.zeros_like(X, dtype=np.int)\n",
    "        X_mask = np.ones_like(X, dtype=np.bool)\n",
    "\n",
    "        for i in range(n_features):\n",
    "            valid_mask = np.in1d(X[:, i], self.categories_[i])\n",
    "\n",
    "            if not np.all(valid_mask):\n",
    "                if self.handle_unknown == 'error':\n",
    "                    diff = np.unique(X[~valid_mask, i])\n",
    "                    msg = (\"Found unknown categories {0} in column {1}\"\n",
    "                           \" during transform\".format(diff, i))\n",
    "                    raise ValueError(msg)\n",
    "                else:\n",
    "                    # Set the problematic rows to an acceptable value and\n",
    "                    # continue `The rows are marked `X_mask` and will be\n",
    "                    # removed later.\n",
    "                    X_mask[:, i] = valid_mask\n",
    "                    X[:, i][~valid_mask] = self.categories_[i][0]\n",
    "            X_int[:, i] = self._label_encoders_[i].transform(X[:, i])\n",
    "\n",
    "        if self.encoding == 'ordinal':\n",
    "            return X_int.astype(self.dtype, copy=False)\n",
    "\n",
    "        mask = X_mask.ravel()\n",
    "        n_values = [cats.shape[0] for cats in self.categories_]\n",
    "        n_values = np.array([0] + n_values)\n",
    "        indices = np.cumsum(n_values)\n",
    "\n",
    "        column_indices = (X_int + indices[:-1]).ravel()[mask]\n",
    "        row_indices = np.repeat(np.arange(n_samples, dtype=np.int32),\n",
    "                                n_features)[mask]\n",
    "        data = np.ones(n_samples * n_features)[mask]\n",
    "\n",
    "        out = sparse.csc_matrix((data, (row_indices, column_indices)),\n",
    "                                shape=(n_samples, indices[-1]),\n",
    "                                dtype=self.dtype).tocsr()\n",
    "        if self.encoding == 'onehot-dense':\n",
    "            return out.toarray()\n",
    "        else:\n",
    "            return out"
   ]
  },
  {
   "cell_type": "code",
   "execution_count": null,
   "metadata": {
    "id": "prjrNfX5UU8v"
   },
   "outputs": [],
   "source": [
    "class DataFrameSelector(BaseEstimator, TransformerMixin):\n",
    "    def __init__(self, attribute_names):\n",
    "        self.attribute_names = attribute_names\n",
    "    def fit(self, X, y=None):\n",
    "        return self\n",
    "    def transform(self, X):\n",
    "        return X[self.attribute_names]"
   ]
  },
  {
   "cell_type": "markdown",
   "metadata": {
    "id": "vmtlpR565SQD"
   },
   "source": [
    "I found out training_hours and gender don't contribute to prediction validated by feature importance using XGB."
   ]
  },
  {
   "cell_type": "code",
   "execution_count": null,
   "metadata": {
    "id": "JRYL1bM4Udd5"
   },
   "outputs": [],
   "source": [
    "cat_pipeline = Pipeline([\n",
    "         (\"selector\", DataFrameSelector(['company_type', 'company_size', 'major_discipline', 'relevent_experience', 'city', 'last_new_job', 'experience', \n",
    "                                         'education_level', 'enrolled_university'])),  #  'gender', \n",
    "         (\"cat_encoder\", CategoricalEncoder(encoding='onehot-dense')),\n",
    "    ])\n",
    "\n",
    "# num_pipeline = Pipeline([\n",
    "#         (\"selector\", DataFrameSelector(['training_hours'])),\n",
    "#         ('std_scaler', StandardScaler()),\n",
    "#       ])\n",
    "\n",
    "no_pipeline = Pipeline([\n",
    "        (\"selector\", DataFrameSelector(['city_development_index'])),\n",
    "    ])\n",
    "\n",
    "y_pipeline = Pipeline([\n",
    "        (\"selector\", DataFrameSelector(['target'])),\n",
    "])"
   ]
  },
  {
   "cell_type": "code",
   "execution_count": null,
   "metadata": {
    "id": "FUto1AC-UgDJ"
   },
   "outputs": [],
   "source": [
    "full_pipeline = FeatureUnion(transformer_list=[\n",
    "    (\"no_pipeline\", no_pipeline),\n",
    "    # (\"num_pipeline\", num_pipeline),\n",
    "    (\"cat_pipeline\", cat_pipeline),\n",
    "    ])\n",
    "\n",
    "final_train_X = full_pipeline.fit_transform(train_set_X)\n",
    "final_val_X = full_pipeline.transform(val_set_X)\n",
    "\n",
    "final_train_y = y_pipeline.fit_transform(pd.DataFrame(train_set_y))\n",
    "final_val_y = y_pipeline.transform(pd.DataFrame(val_set_y))"
   ]
  },
  {
   "cell_type": "code",
   "execution_count": null,
   "metadata": {
    "colab": {
     "base_uri": "https://localhost:8080/"
    },
    "executionInfo": {
     "elapsed": 202,
     "status": "ok",
     "timestamp": 1613930363958,
     "user": {
      "displayName": "Shining Du",
      "photoUrl": "",
      "userId": "16422857245131771211"
     },
     "user_tz": 300
    },
    "id": "5C0NkP-OXDwS",
    "outputId": "319a5499-3522-41ab-ff8c-5f7f252dcda9"
   },
   "outputs": [
    {
     "data": {
      "text/plain": [
       "(15326, 189)"
      ]
     },
     "execution_count": 58,
     "metadata": {
      "tags": []
     },
     "output_type": "execute_result"
    }
   ],
   "source": [
    "final_train_X.shape"
   ]
  },
  {
   "cell_type": "markdown",
   "metadata": {
    "id": "ESItX04xsibx"
   },
   "source": [
    "# Feature Names Extraction"
   ]
  },
  {
   "cell_type": "code",
   "execution_count": null,
   "metadata": {
    "id": "bel-h3tKgI2J"
   },
   "outputs": [],
   "source": [
    "from sklearn.preprocessing import OneHotEncoder\n",
    "encoder = OneHotEncoder()\n",
    "\n",
    "train_X_encoded = encoder.fit_transform(train_set_X[['company_type', 'company_size', 'major_discipline', 'relevent_experience', 'city', 'last_new_job', \n",
    "                                                     'experience', 'education_level', 'enrolled_university']])   # 'gender', "
   ]
  },
  {
   "cell_type": "code",
   "execution_count": null,
   "metadata": {
    "colab": {
     "base_uri": "https://localhost:8080/"
    },
    "executionInfo": {
     "elapsed": 300,
     "status": "ok",
     "timestamp": 1614108332366,
     "user": {
      "displayName": "Shining Du",
      "photoUrl": "",
      "userId": "16422857245131771211"
     },
     "user_tz": 300
    },
    "id": "K2VRfogAtA5U",
    "outputId": "3967df4a-5c14-4a3f-cdb5-f129b481a337"
   },
   "outputs": [
    {
     "data": {
      "text/plain": [
       "array(['x0_Early Stage Startup', 'x0_Funded Startup', 'x0_NA_companyType',\n",
       "       'x0_NGO', 'x0_Other', 'x0_Public Sector', 'x0_Pvt Ltd', 'x1_10/49',\n",
       "       'x1_100-500', 'x1_1000-4999', 'x1_10000+', 'x1_50-99',\n",
       "       'x1_500-999', 'x1_5000-9999', 'x1_<10', 'x1_NA_companySize',\n",
       "       'x2_Arts', 'x2_Business Degree', 'x2_Humanities',\n",
       "       'x2_NA_majorDiscipline', 'x2_No Major', 'x2_Other', 'x2_STEM',\n",
       "       'x3_Has relevent experience', 'x3_No relevent experience', 'x4_1',\n",
       "       'x4_10', 'x4_100', 'x4_101', 'x4_102', 'x4_103', 'x4_104',\n",
       "       'x4_105', 'x4_106', 'x4_107', 'x4_109', 'x4_11', 'x4_111',\n",
       "       'x4_114', 'x4_115', 'x4_116', 'x4_117', 'x4_118', 'x4_12',\n",
       "       'x4_120', 'x4_121', 'x4_123', 'x4_126', 'x4_127', 'x4_128',\n",
       "       'x4_129', 'x4_13', 'x4_131', 'x4_133', 'x4_134', 'x4_136',\n",
       "       'x4_138', 'x4_139', 'x4_14', 'x4_140', 'x4_141', 'x4_142',\n",
       "       'x4_143', 'x4_144', 'x4_145', 'x4_146', 'x4_149', 'x4_150',\n",
       "       'x4_152', 'x4_155', 'x4_157', 'x4_158', 'x4_159', 'x4_16',\n",
       "       'x4_160', 'x4_162', 'x4_165', 'x4_166', 'x4_167', 'x4_171',\n",
       "       'x4_173', 'x4_175', 'x4_176', 'x4_179', 'x4_18', 'x4_180', 'x4_19',\n",
       "       'x4_2', 'x4_20', 'x4_21', 'x4_23', 'x4_24', 'x4_25', 'x4_26',\n",
       "       'x4_27', 'x4_28', 'x4_30', 'x4_31', 'x4_33', 'x4_36', 'x4_37',\n",
       "       'x4_39', 'x4_40', 'x4_41', 'x4_42', 'x4_43', 'x4_44', 'x4_45',\n",
       "       'x4_46', 'x4_48', 'x4_50', 'x4_53', 'x4_54', 'x4_55', 'x4_57',\n",
       "       'x4_59', 'x4_61', 'x4_62', 'x4_64', 'x4_65', 'x4_67', 'x4_69',\n",
       "       'x4_7', 'x4_70', 'x4_71', 'x4_72', 'x4_73', 'x4_74', 'x4_75',\n",
       "       'x4_76', 'x4_77', 'x4_78', 'x4_79', 'x4_8', 'x4_80', 'x4_81',\n",
       "       'x4_82', 'x4_83', 'x4_84', 'x4_89', 'x4_9', 'x4_90', 'x4_91',\n",
       "       'x4_93', 'x4_94', 'x4_97', 'x4_98', 'x4_99', 'x5_1', 'x5_2',\n",
       "       'x5_3', 'x5_4', 'x5_>4', 'x5_NA_lastNewJob', 'x5_never', 'x6_1',\n",
       "       'x6_10', 'x6_11', 'x6_12', 'x6_13', 'x6_14', 'x6_15', 'x6_16',\n",
       "       'x6_17', 'x6_18', 'x6_19', 'x6_2', 'x6_20', 'x6_3', 'x6_4', 'x6_5',\n",
       "       'x6_6', 'x6_7', 'x6_8', 'x6_9', 'x6_<1', 'x6_>20',\n",
       "       'x6_NA_experience', 'x7_Graduate', 'x7_High School', 'x7_Masters',\n",
       "       'x7_NA_educationLevel', 'x7_Phd', 'x7_Primary School',\n",
       "       'x8_Full time course', 'x8_NA_enrolledUniversity',\n",
       "       'x8_Part time course', 'x8_no_enrollment'], dtype=object)"
      ]
     },
     "execution_count": 70,
     "metadata": {
      "tags": []
     },
     "output_type": "execute_result"
    }
   ],
   "source": [
    "encoder.get_feature_names()"
   ]
  },
  {
   "cell_type": "code",
   "execution_count": null,
   "metadata": {
    "colab": {
     "base_uri": "https://localhost:8080/"
    },
    "executionInfo": {
     "elapsed": 342,
     "status": "ok",
     "timestamp": 1614108335575,
     "user": {
      "displayName": "Shining Du",
      "photoUrl": "",
      "userId": "16422857245131771211"
     },
     "user_tz": 300
    },
    "id": "HJqqMpSIshPE",
    "outputId": "9657960a-feae-4102-c9ff-74325931b5fe"
   },
   "outputs": [
    {
     "data": {
      "text/plain": [
       "188"
      ]
     },
     "execution_count": 71,
     "metadata": {
      "tags": []
     },
     "output_type": "execute_result"
    }
   ],
   "source": [
    "len(encoder.get_feature_names())"
   ]
  },
  {
   "cell_type": "markdown",
   "metadata": {
    "id": "HqMSrUEx5jcL"
   },
   "source": [
    "# Feature Importance Function"
   ]
  },
  {
   "cell_type": "code",
   "execution_count": null,
   "metadata": {
    "id": "ElYiphL1UdYS"
   },
   "outputs": [],
   "source": [
    "# print the feature importance list of the best estimator\n",
    "from sklearn.inspection import permutation_importance\n",
    "\n",
    "def print_features_importance(model_name, best_estimator, X, y):\n",
    "  feature_names = ['city_development_index'] + list(encoder.get_feature_names())   #, 'training_hours'\n",
    "    \n",
    "  importance=[]\n",
    "  best_estimator.fit(X, y)\n",
    "  # perform permutation importance\n",
    "  results = permutation_importance(best_estimator, X, y, scoring='roc_auc')\n",
    "  # get importance\n",
    "  importance = results.importances_mean\n",
    "    \n",
    "  for i,v in tqdm(enumerate(importance)):\n",
    "    if v > 0.0005:   # this threshold can be adjusted!\n",
    "      print('Feature: %-12s, Score: %.5f' % (feature_names[i],v))\n",
    "    \n",
    "  # plot feature importance\n",
    "  plt.figure(figsize=(24, 6))\n",
    "  plt.bar([x for x in range(len(importance))], importance)\n",
    "  # Add some text for labels, title and custom x-axis tick labels, etc.\n",
    "  width = 0.5  # the width of the bars\n",
    "  plt.ylabel('Feature Importance')\n",
    "  plt.title(model_name)\n",
    "  plt.xticks(ticks=np.arange(len(feature_names)),labels=feature_names,rotation=90)\n",
    "  plt.show()"
   ]
  },
  {
   "cell_type": "markdown",
   "metadata": {
    "id": "XCo4pgRIOPt1"
   },
   "source": [
    "It is time to shortlist a few promising models now."
   ]
  },
  {
   "cell_type": "markdown",
   "metadata": {
    "id": "bo4nlAl9JHvr"
   },
   "source": [
    "# Shortlist the Best Promising Models"
   ]
  },
  {
   "cell_type": "code",
   "execution_count": null,
   "metadata": {
    "id": "J2JWs02J0xCq"
   },
   "outputs": [],
   "source": [
    "# Import Libraries\n",
    "from sklearn.ensemble import RandomForestClassifier\n",
    "from sklearn.linear_model import SGDClassifier\n",
    "from sklearn.neural_network import MLPClassifier\n",
    "from sklearn.tree import DecisionTreeClassifier\n",
    "from sklearn.ensemble import AdaBoostClassifier\n",
    "from sklearn.ensemble import BaggingClassifier\n",
    "from sklearn.ensemble import ExtraTreesClassifier\n",
    "from sklearn.ensemble import GradientBoostingClassifier\n",
    "from xgboost import XGBClassifier\n",
    "from sklearn.neighbors import KNeighborsClassifier\n",
    "from sklearn.svm import SVC\n",
    "from sklearn.ensemble import VotingClassifier\n",
    "\n",
    "# explicitly require this experimental feature\n",
    "from sklearn.experimental import enable_hist_gradient_boosting  # noqa\n",
    "# now you can import normally from ensemble\n",
    "from sklearn.ensemble import HistGradientBoostingClassifier\n",
    "\n",
    "from sklearn.ensemble import StackingClassifier\n",
    "from sklearn.ensemble import VotingClassifier"
   ]
  },
  {
   "cell_type": "markdown",
   "metadata": {
    "id": "2FBTAR1COfTc"
   },
   "source": [
    "I use ROC AUC as the metric to compare the above selected models."
   ]
  },
  {
   "cell_type": "markdown",
   "metadata": {
    "id": "dcfhUEEZzANY"
   },
   "source": [
    "# AUC as metric"
   ]
  },
  {
   "cell_type": "code",
   "execution_count": null,
   "metadata": {
    "id": "Q55TBGQUykLT"
   },
   "outputs": [],
   "source": [
    "# list of models to be test\n",
    "models = [\n",
    "          ('RandomForestClassifier', RandomForestClassifier(random_state=42)),\n",
    "          ('SGDClassifier', SGDClassifier(random_state=42)),\n",
    "          ('MLPClassifier', MLPClassifier(random_state=42)),\n",
    "          ('DecisionTreeClassifier', DecisionTreeClassifier(random_state=42)),\n",
    "          ('AdaBoostClassifier', AdaBoostClassifier(random_state=42)),\n",
    "          ('BaggingClassifier', BaggingClassifier(random_state=42)),\n",
    "          ('ExtraTreesClassifier', ExtraTreesClassifier(random_state=42)),\n",
    "          ('GradientBoostingClassifier', GradientBoostingClassifier(random_state=42)),\n",
    "          ('XGBClassifier', XGBClassifier(random_state=42)),\n",
    "          ('KNeighborsClassifier', KNeighborsClassifier()),\n",
    "          ('SVC', SVC(random_state=42)),\n",
    "          ('VotingClassifier', VotingClassifier(estimators=[\n",
    "                                                            ('RandomForestClassifier', RandomForestClassifier(random_state=42)),\n",
    "                                                            ('AdaBoostClassifier', AdaBoostClassifier(random_state=42)),\n",
    "                                                            ('BaggingClassifier', BaggingClassifier(random_state=42)),\n",
    "                                                            ('MLPClassifier', MLPClassifier(random_state=42)),\n",
    "                                                            ('DecisionTreeClassifier', DecisionTreeClassifier(random_state=42))\n",
    "                                                            ],\n",
    "                                                voting='soft')) # use 'soft' for roc_auc; use 'hard' for f1_micro\n",
    "]"
   ]
  },
  {
   "cell_type": "code",
   "execution_count": null,
   "metadata": {
    "colab": {
     "base_uri": "https://localhost:8080/"
    },
    "executionInfo": {
     "elapsed": 686617,
     "status": "ok",
     "timestamp": 1613854011710,
     "user": {
      "displayName": "Shining Du",
      "photoUrl": "",
      "userId": "16422857245131771211"
     },
     "user_tz": 300
    },
    "id": "2i9kvWxdzF6Z",
    "outputId": "2cdaea9f-4d85-48d9-f963-52bf2bff7aa4"
   },
   "outputs": [
    {
     "name": "stderr",
     "output_type": "stream",
     "text": [
      "100%|██████████| 12/12 [11:26<00:00, 57.17s/it] "
     ]
    },
    {
     "name": "stdout",
     "output_type": "stream",
     "text": [
      "CPU times: user 12min 55s, sys: 2min 45s, total: 15min 40s\n",
      "Wall time: 11min 26s\n"
     ]
    },
    {
     "name": "stderr",
     "output_type": "stream",
     "text": [
      "\n"
     ]
    }
   ],
   "source": [
    "%%time\n",
    "from sklearn.metrics import roc_auc_score\n",
    "from tqdm import tqdm, tqdm_gui\n",
    "from sklearn.model_selection import cross_val_score \n",
    "import random\n",
    "\n",
    "## to evaluate the models using cross validation\n",
    "model_names=[]\n",
    "model_scores=[]\n",
    "model_scores_mean=[]\n",
    "model_scores_std=[]\n",
    "cv=5\n",
    "\n",
    "random.seed(42)\n",
    "for name, model in tqdm(models):\n",
    "    model_score = cross_val_score(model, final_train_X, final_train_y, scoring='roc_auc', cv=cv)\n",
    "    \n",
    "    model_names.append(name)\n",
    "    model_scores.append(model_score)\n",
    "    model_scores_mean.append(model_score.mean())\n",
    "    model_scores_std.append(model_score.std())\n",
    "\n",
    "#random_state=62"
   ]
  },
  {
   "cell_type": "code",
   "execution_count": null,
   "metadata": {
    "colab": {
     "base_uri": "https://localhost:8080/",
     "height": 421
    },
    "executionInfo": {
     "elapsed": 514,
     "status": "ok",
     "timestamp": 1613854390041,
     "user": {
      "displayName": "Shining Du",
      "photoUrl": "",
      "userId": "16422857245131771211"
     },
     "user_tz": 300
    },
    "id": "1IUk4LY8L-FQ",
    "outputId": "323930ae-655e-43c7-ef47-df2f28fe8974"
   },
   "outputs": [
    {
     "data": {
      "text/html": [
       "<div>\n",
       "<style scoped>\n",
       "    .dataframe tbody tr th:only-of-type {\n",
       "        vertical-align: middle;\n",
       "    }\n",
       "\n",
       "    .dataframe tbody tr th {\n",
       "        vertical-align: top;\n",
       "    }\n",
       "\n",
       "    .dataframe thead th {\n",
       "        text-align: right;\n",
       "    }\n",
       "</style>\n",
       "<table border=\"1\" class=\"dataframe\">\n",
       "  <thead>\n",
       "    <tr style=\"text-align: right;\">\n",
       "      <th></th>\n",
       "      <th>Model</th>\n",
       "      <th>roc_auc Score</th>\n",
       "      <th>Mean of roc_auc core</th>\n",
       "      <th>Std of roc_auc core</th>\n",
       "    </tr>\n",
       "  </thead>\n",
       "  <tbody>\n",
       "    <tr>\n",
       "      <th>0</th>\n",
       "      <td>XGBClassifier</td>\n",
       "      <td>[0.8032489426307972, 0.8085998863313442, 0.797...</td>\n",
       "      <td>0.797843</td>\n",
       "      <td>0.007574</td>\n",
       "    </tr>\n",
       "    <tr>\n",
       "      <th>1</th>\n",
       "      <td>GradientBoostingClassifier</td>\n",
       "      <td>[0.8028353685382599, 0.8075237283319124, 0.797...</td>\n",
       "      <td>0.797598</td>\n",
       "      <td>0.007040</td>\n",
       "    </tr>\n",
       "    <tr>\n",
       "      <th>2</th>\n",
       "      <td>AdaBoostClassifier</td>\n",
       "      <td>[0.8009549698482901, 0.8013307757885763, 0.789...</td>\n",
       "      <td>0.792261</td>\n",
       "      <td>0.007747</td>\n",
       "    </tr>\n",
       "    <tr>\n",
       "      <th>3</th>\n",
       "      <td>SVC</td>\n",
       "      <td>[0.7982249831701477, 0.7962443876101165, 0.790...</td>\n",
       "      <td>0.790305</td>\n",
       "      <td>0.006225</td>\n",
       "    </tr>\n",
       "    <tr>\n",
       "      <th>4</th>\n",
       "      <td>RandomForestClassifier</td>\n",
       "      <td>[0.7873871263701774, 0.7848920147769253, 0.783...</td>\n",
       "      <td>0.778542</td>\n",
       "      <td>0.008489</td>\n",
       "    </tr>\n",
       "    <tr>\n",
       "      <th>5</th>\n",
       "      <td>SGDClassifier</td>\n",
       "      <td>[0.780647232092895, 0.7785413469735721, 0.7736...</td>\n",
       "      <td>0.776469</td>\n",
       "      <td>0.002920</td>\n",
       "    </tr>\n",
       "    <tr>\n",
       "      <th>6</th>\n",
       "      <td>VotingClassifier</td>\n",
       "      <td>[0.7816291865145305, 0.7670667803353226, 0.771...</td>\n",
       "      <td>0.769605</td>\n",
       "      <td>0.006732</td>\n",
       "    </tr>\n",
       "    <tr>\n",
       "      <th>7</th>\n",
       "      <td>BaggingClassifier</td>\n",
       "      <td>[0.7632049719786509, 0.7560886615515772, 0.761...</td>\n",
       "      <td>0.757468</td>\n",
       "      <td>0.005315</td>\n",
       "    </tr>\n",
       "    <tr>\n",
       "      <th>8</th>\n",
       "      <td>KNeighborsClassifier</td>\n",
       "      <td>[0.7516447807574428, 0.7590505825518614, 0.760...</td>\n",
       "      <td>0.748433</td>\n",
       "      <td>0.011030</td>\n",
       "    </tr>\n",
       "    <tr>\n",
       "      <th>9</th>\n",
       "      <td>ExtraTreesClassifier</td>\n",
       "      <td>[0.7511033850016899, 0.7467820403523728, 0.758...</td>\n",
       "      <td>0.746875</td>\n",
       "      <td>0.007508</td>\n",
       "    </tr>\n",
       "    <tr>\n",
       "      <th>10</th>\n",
       "      <td>MLPClassifier</td>\n",
       "      <td>[0.7591257566332342, 0.7361460642227906, 0.742...</td>\n",
       "      <td>0.745784</td>\n",
       "      <td>0.008051</td>\n",
       "    </tr>\n",
       "    <tr>\n",
       "      <th>11</th>\n",
       "      <td>DecisionTreeClassifier</td>\n",
       "      <td>[0.6678798362746518, 0.6496104006820118, 0.656...</td>\n",
       "      <td>0.658007</td>\n",
       "      <td>0.006705</td>\n",
       "    </tr>\n",
       "  </tbody>\n",
       "</table>\n",
       "</div>"
      ],
      "text/plain": [
       "                         Model  ... Std of roc_auc core\n",
       "0                XGBClassifier  ...            0.007574\n",
       "1   GradientBoostingClassifier  ...            0.007040\n",
       "2           AdaBoostClassifier  ...            0.007747\n",
       "3                          SVC  ...            0.006225\n",
       "4       RandomForestClassifier  ...            0.008489\n",
       "5                SGDClassifier  ...            0.002920\n",
       "6             VotingClassifier  ...            0.006732\n",
       "7            BaggingClassifier  ...            0.005315\n",
       "8         KNeighborsClassifier  ...            0.011030\n",
       "9         ExtraTreesClassifier  ...            0.007508\n",
       "10               MLPClassifier  ...            0.008051\n",
       "11      DecisionTreeClassifier  ...            0.006705\n",
       "\n",
       "[12 rows x 4 columns]"
      ]
     },
     "execution_count": 77,
     "metadata": {
      "tags": []
     },
     "output_type": "execute_result"
    }
   ],
   "source": [
    "model_cv_results = pd.DataFrame({\n",
    "    'Model':model_names, \n",
    "    'roc_auc Score':model_scores,\n",
    "    'Mean of roc_auc core': model_scores_mean,\n",
    "    'Std of roc_auc core': model_scores_std\n",
    "    })\n",
    "\n",
    "model_cv_results.sort_values(by='Mean of roc_auc core', ascending=False, ignore_index=True)\n",
    "#random_state=62"
   ]
  },
  {
   "cell_type": "markdown",
   "metadata": {
    "id": "UX4qXDEXOqwF"
   },
   "source": [
    "The previous table shows the best model is XGB!"
   ]
  },
  {
   "cell_type": "markdown",
   "metadata": {
    "id": "B0X-YBlf5eSm"
   },
   "source": [
    "# Learning Curve Function"
   ]
  },
  {
   "cell_type": "code",
   "execution_count": null,
   "metadata": {
    "id": "NGNQxJFbSuQs"
   },
   "outputs": [],
   "source": [
    "from tqdm.notebook import tqdm\n",
    "\n",
    "# to create a learning curve\n",
    "# M is the number of instances used in one batch\n",
    "def plot_learning_curve(model, metricSelected, X_train, y_train, X_val, y_val, M):\n",
    "  train_errors, val_errors = [], []\n",
    "  for m in tqdm(range(2, len(X_train), M)):\n",
    "    model.fit(X_train[:m], y_train[:m])\n",
    "    y_train_predict = model.predict(X_train[:m])\n",
    "    y_val_predict = model.predict(X_val)\n",
    "    train_errors.append(metricSelected(y_train[:m], y_train_predict))\n",
    "    val_errors.append(metricSelected(y_val, y_val_predict))\n",
    "  plt.figure(figsize=(12,8))\n",
    "  plt.ylim([0.5, 1])\n",
    "  plt.title('ROC AUC')\n",
    "  plt.grid(True)\n",
    "  plt.plot(train_errors, \"r-+\", linewidth=2, label='train')\n",
    "  plt.plot(val_errors, \"b-\", linewidth=3, label='val')\n",
    "  plt.legend() # in case labels don't show up\n",
    "  plt.show()"
   ]
  },
  {
   "cell_type": "markdown",
   "metadata": {
    "id": "Mc1yykzleBoA"
   },
   "source": [
    "# Fine Tune Extreme Gradient Boosting "
   ]
  },
  {
   "cell_type": "markdown",
   "metadata": {
    "id": "uSzEG5dpeMaX"
   },
   "source": [
    "# 1 Baseline"
   ]
  },
  {
   "cell_type": "code",
   "execution_count": null,
   "metadata": {
    "colab": {
     "base_uri": "https://localhost:8080/"
    },
    "executionInfo": {
     "elapsed": 24939,
     "status": "ok",
     "timestamp": 1613854431994,
     "user": {
      "displayName": "Shining Du",
      "photoUrl": "",
      "userId": "16422857245131771211"
     },
     "user_tz": 300
    },
    "id": "nG2Vc85J3duo",
    "outputId": "81484fb9-d36f-44c6-f729-5489f9f88cb4"
   },
   "outputs": [
    {
     "name": "stdout",
     "output_type": "stream",
     "text": [
      "0.7978425854861195\n",
      "0.007574218724706884\n"
     ]
    }
   ],
   "source": [
    "# to set baseline\n",
    "model_score = cross_val_score(XGBClassifier(random_state=42), final_train_X, final_train_y, scoring='roc_auc', cv=5)\n",
    "    \n",
    "print(model_score.mean())\n",
    "print(model_score.std())"
   ]
  },
  {
   "cell_type": "code",
   "execution_count": null,
   "metadata": {
    "colab": {
     "base_uri": "https://localhost:8080/",
     "height": 582,
     "referenced_widgets": [
      "0a8a7a2de28c4daeabf9383965e8d3c2",
      "a7b069c1b3254ad6960aed699d1951fd",
      "3995be50513e46b68de60db3b8b231a1",
      "358d75c5f62a431982377d47194d3e7f",
      "938c312c15ef4e7180eb3e20874b736c",
      "e0a2f030640e4d5798d69a8b63d03d64",
      "73c4ac4f4e1b4b50aa2b8bbffac6cdfa",
      "a43f73abf50143668a138a4d901c581e"
     ]
    },
    "executionInfo": {
     "elapsed": 64082,
     "status": "ok",
     "timestamp": 1613855800326,
     "user": {
      "displayName": "Shining Du",
      "photoUrl": "",
      "userId": "16422857245131771211"
     },
     "user_tz": 300
    },
    "id": "f0cEP2ASeToM",
    "outputId": "605cd376-755c-468e-e1a7-0dcd9c65ef3c"
   },
   "outputs": [
    {
     "data": {
      "application/vnd.jupyter.widget-view+json": {
       "model_id": "0a8a7a2de28c4daeabf9383965e8d3c2",
       "version_major": 2,
       "version_minor": 0
      },
      "text/plain": [
       "HBox(children=(FloatProgress(value=0.0, max=21.0), HTML(value='')))"
      ]
     },
     "metadata": {
      "tags": []
     },
     "output_type": "display_data"
    },
    {
     "name": "stdout",
     "output_type": "stream",
     "text": [
      "\n"
     ]
    },
    {
     "data": {
      "image/png": "[encoded data removed]",
      "text/plain": [
       "<Figure size 864x576 with 1 Axes>"
      ]
     },
     "metadata": {
      "needs_background": "light",
      "tags": []
     },
     "output_type": "display_data"
    },
    {
     "name": "stdout",
     "output_type": "stream",
     "text": [
      "CPU times: user 1min 3s, sys: 98.9 ms, total: 1min 3s\n",
      "Wall time: 1min 3s\n"
     ]
    }
   ],
   "source": [
    "%%time\n",
    "plot_learning_curve(XGBClassifier(random_state=42), roc_auc_score, final_train_X, final_train_y, final_val_X, final_val_y, M=750)"
   ]
  },
  {
   "cell_type": "markdown",
   "metadata": {
    "id": "KVeNCl1xeWMj"
   },
   "source": [
    "# 2 Bayesian optimization"
   ]
  },
  {
   "cell_type": "code",
   "execution_count": null,
   "metadata": {
    "colab": {
     "base_uri": "https://localhost:8080/"
    },
    "executionInfo": {
     "elapsed": 5187,
     "status": "ok",
     "timestamp": 1613928930976,
     "user": {
      "displayName": "Shining Du",
      "photoUrl": "",
      "userId": "16422857245131771211"
     },
     "user_tz": 300
    },
    "id": "UY-84lomHuH0",
    "outputId": "dcd304f3-eb16-4e41-d948-1e1b8f3b5dbd"
   },
   "outputs": [
    {
     "name": "stdout",
     "output_type": "stream",
     "text": [
      "Collecting bayesian-optimization\n",
      "  Downloading https://files.pythonhosted.org/packages/bb/7a/fd8059a3881d3ab37ac8f72f56b73937a14e8bb14a9733e68cc8b17dbe3c/bayesian-optimization-1.2.0.tar.gz\n",
      "Requirement already satisfied: numpy>=1.9.0 in /usr/local/lib/python3.6/dist-packages (from bayesian-optimization) (1.19.5)\n",
      "Requirement already satisfied: scipy>=0.14.0 in /usr/local/lib/python3.6/dist-packages (from bayesian-optimization) (1.4.1)\n",
      "Requirement already satisfied: scikit-learn>=0.18.0 in /usr/local/lib/python3.6/dist-packages (from bayesian-optimization) (0.22.2.post1)\n",
      "Requirement already satisfied: joblib>=0.11 in /usr/local/lib/python3.6/dist-packages (from scikit-learn>=0.18.0->bayesian-optimization) (1.0.0)\n",
      "Building wheels for collected packages: bayesian-optimization\n",
      "  Building wheel for bayesian-optimization (setup.py) ... \u001b[?25l\u001b[?25hdone\n",
      "  Created wheel for bayesian-optimization: filename=bayesian_optimization-1.2.0-cp36-none-any.whl size=11685 sha256=dba613acb1309fae3858fb7033e506a2b8379e7cac0a1a0098eda7aa9aca0ece\n",
      "  Stored in directory: /root/.cache/pip/wheels/5a/56/ae/e0e3c1fc1954dc3ec712e2df547235ed072b448094d8f94aec\n",
      "Successfully built bayesian-optimization\n",
      "Installing collected packages: bayesian-optimization\n",
      "Successfully installed bayesian-optimization-1.2.0\n"
     ]
    }
   ],
   "source": [
    "pip install bayesian-optimization"
   ]
  },
  {
   "cell_type": "markdown",
   "metadata": {
    "id": "6SKd4mTuqDA2"
   },
   "source": [
    "# Tuning XGB: the 1st time"
   ]
  },
  {
   "cell_type": "code",
   "execution_count": null,
   "metadata": {
    "id": "vAnYTnPO7Ubj"
   },
   "outputs": [],
   "source": [
    "# reference: https://aiinpractice.com/xgboost-hyperparameter-tuning-with-bayesian-optimization/\n",
    "from xgboost import XGBClassifier\n",
    "from bayes_opt import BayesianOptimization\n",
    "from sklearn.model_selection import cross_val_score\n",
    "# if necessary, specify \"seed =\"\n",
    "pbounds = {\n",
    "    'learning_rate': (0.1, 1.0),\n",
    "    'n_estimators': (100, 500),\n",
    "    'max_depth': (10, 100),\n",
    "    'min_child_weight': (1, 10),\n",
    "    'subsample': (0.5, 1.0),  # Change for big datasets\n",
    "    'colsample': (0.5, 1.0),  # Change for datasets with lots of features\n",
    "    'gamma': (0, 50)}\n",
    "\n",
    "# ATTENTION: Must change the arguments in the following function after one revises the pbounds!\n",
    "def xgboost_hyper_param(learning_rate, n_estimators, max_depth, min_child_weight, subsample, colsample, gamma):\n",
    "  max_depth = int(max_depth)\n",
    "  n_estimators = int(n_estimators)\n",
    "\n",
    "  clf = XGBClassifier(learning_rate=learning_rate, n_estimators=n_estimators, max_depth=max_depth, min_child_weight=min_child_weight, \n",
    "                      subsample=subsample, colsample=colsample, gamma=gamma)\n",
    "  return_val = cross_val_score(clf, final_train_X, final_train_y, cv=5, scoring='roc_auc')  # roc_auc\n",
    "  to_return = return_val.mean()\n",
    "  return to_return\n",
    "\n",
    "optimizer = BayesianOptimization(\n",
    "    f = xgboost_hyper_param,\n",
    "    pbounds = pbounds,\n",
    "    random_state = 42,\n",
    ")"
   ]
  },
  {
   "cell_type": "code",
   "execution_count": null,
   "metadata": {
    "colab": {
     "base_uri": "https://localhost:8080/"
    },
    "executionInfo": {
     "elapsed": 3312571,
     "status": "ok",
     "timestamp": 1613863574176,
     "user": {
      "displayName": "Shining Du",
      "photoUrl": "",
      "userId": "16422857245131771211"
     },
     "user_tz": 300
    },
    "id": "AGrnJyumTxj1",
    "outputId": "88c1a45a-973f-4cc9-e5b4-ef9b51999794"
   },
   "outputs": [
    {
     "name": "stdout",
     "output_type": "stream",
     "text": [
      "|   iter    |  target   | colsample |   gamma   | learni... | max_depth | min_ch... | n_esti... | subsample |\n",
      "-------------------------------------------------------------------------------------------------------------\n",
      "| \u001b[0m 1       \u001b[0m | \u001b[0m 0.7842  \u001b[0m | \u001b[0m 0.6873  \u001b[0m | \u001b[0m 47.54   \u001b[0m | \u001b[0m 0.7588  \u001b[0m | \u001b[0m 63.88   \u001b[0m | \u001b[0m 2.404   \u001b[0m | \u001b[0m 162.4   \u001b[0m | \u001b[0m 0.529   \u001b[0m |\n",
      "| \u001b[95m 2       \u001b[0m | \u001b[95m 0.7918  \u001b[0m | \u001b[95m 0.9331  \u001b[0m | \u001b[95m 30.06   \u001b[0m | \u001b[95m 0.7373  \u001b[0m | \u001b[95m 11.85   \u001b[0m | \u001b[95m 9.729   \u001b[0m | \u001b[95m 433.0   \u001b[0m | \u001b[95m 0.6062  \u001b[0m |\n",
      "| \u001b[0m 3       \u001b[0m | \u001b[0m 0.7854  \u001b[0m | \u001b[0m 0.6016  \u001b[0m | \u001b[0m 45.98   \u001b[0m | \u001b[0m 0.9234  \u001b[0m | \u001b[0m 99.03   \u001b[0m | \u001b[0m 8.867   \u001b[0m | \u001b[0m 499.1   \u001b[0m | \u001b[0m 0.6223  \u001b[0m |\n",
      "| \u001b[0m 4       \u001b[0m | \u001b[0m 0.7352  \u001b[0m | \u001b[0m 0.9872  \u001b[0m | \u001b[0m 0.5929  \u001b[0m | \u001b[0m 0.826   \u001b[0m | \u001b[0m 10.46   \u001b[0m | \u001b[0m 3.266   \u001b[0m | \u001b[0m 473.2   \u001b[0m | \u001b[0m 0.717   \u001b[0m |\n",
      "| \u001b[0m 5       \u001b[0m | \u001b[0m 0.7883  \u001b[0m | \u001b[0m 0.5174  \u001b[0m | \u001b[0m 50.0    \u001b[0m | \u001b[0m 0.2559  \u001b[0m | \u001b[0m 100.0   \u001b[0m | \u001b[0m 10.0    \u001b[0m | \u001b[0m 320.6   \u001b[0m | \u001b[0m 0.6462  \u001b[0m |\n",
      "| \u001b[95m 6       \u001b[0m | \u001b[95m 0.7938  \u001b[0m | \u001b[95m 0.8825  \u001b[0m | \u001b[95m 27.0    \u001b[0m | \u001b[95m 0.1541  \u001b[0m | \u001b[95m 14.72   \u001b[0m | \u001b[95m 8.249   \u001b[0m | \u001b[95m 432.3   \u001b[0m | \u001b[95m 0.944   \u001b[0m |\n",
      "| \u001b[0m 7       \u001b[0m | \u001b[0m 0.7707  \u001b[0m | \u001b[0m 0.5596  \u001b[0m | \u001b[0m 1.807   \u001b[0m | \u001b[0m 0.625   \u001b[0m | \u001b[0m 13.98   \u001b[0m | \u001b[0m 7.888   \u001b[0m | \u001b[0m 104.4   \u001b[0m | \u001b[0m 0.7128  \u001b[0m |\n",
      "| \u001b[0m 8       \u001b[0m | \u001b[0m 0.7923  \u001b[0m | \u001b[0m 0.515   \u001b[0m | \u001b[0m 23.27   \u001b[0m | \u001b[0m 0.7535  \u001b[0m | \u001b[0m 16.79   \u001b[0m | \u001b[0m 6.711   \u001b[0m | \u001b[0m 432.3   \u001b[0m | \u001b[0m 0.7899  \u001b[0m |\n",
      "| \u001b[0m 9       \u001b[0m | \u001b[0m 0.7887  \u001b[0m | \u001b[0m 0.7692  \u001b[0m | \u001b[0m 46.07   \u001b[0m | \u001b[0m 0.3511  \u001b[0m | \u001b[0m 13.89   \u001b[0m | \u001b[0m 1.623   \u001b[0m | \u001b[0m 254.4   \u001b[0m | \u001b[0m 0.6049  \u001b[0m |\n",
      "| \u001b[0m 10      \u001b[0m | \u001b[0m 0.7892  \u001b[0m | \u001b[0m 0.9979  \u001b[0m | \u001b[0m 49.62   \u001b[0m | \u001b[0m 0.1798  \u001b[0m | \u001b[0m 10.94   \u001b[0m | \u001b[0m 3.332   \u001b[0m | \u001b[0m 100.2   \u001b[0m | \u001b[0m 0.8148  \u001b[0m |\n",
      "| \u001b[0m 11      \u001b[0m | \u001b[0m 0.7926  \u001b[0m | \u001b[0m 0.7638  \u001b[0m | \u001b[0m 23.88   \u001b[0m | \u001b[0m 0.7629  \u001b[0m | \u001b[0m 17.46   \u001b[0m | \u001b[0m 2.435   \u001b[0m | \u001b[0m 431.7   \u001b[0m | \u001b[0m 0.6027  \u001b[0m |\n",
      "| \u001b[0m 12      \u001b[0m | \u001b[0m 0.773   \u001b[0m | \u001b[0m 0.5212  \u001b[0m | \u001b[0m 2.958   \u001b[0m | \u001b[0m 0.4923  \u001b[0m | \u001b[0m 98.14   \u001b[0m | \u001b[0m 1.604   \u001b[0m | \u001b[0m 101.1   \u001b[0m | \u001b[0m 0.7664  \u001b[0m |\n",
      "| \u001b[0m 13      \u001b[0m | \u001b[0m 0.7462  \u001b[0m | \u001b[0m 0.9469  \u001b[0m | \u001b[0m 0.5357  \u001b[0m | \u001b[0m 0.7261  \u001b[0m | \u001b[0m 99.73   \u001b[0m | \u001b[0m 4.408   \u001b[0m | \u001b[0m 415.3   \u001b[0m | \u001b[0m 0.884   \u001b[0m |\n",
      "| \u001b[0m 14      \u001b[0m | \u001b[0m 0.7909  \u001b[0m | \u001b[0m 0.5154  \u001b[0m | \u001b[0m 48.27   \u001b[0m | \u001b[0m 0.5472  \u001b[0m | \u001b[0m 49.38   \u001b[0m | \u001b[0m 1.772   \u001b[0m | \u001b[0m 381.7   \u001b[0m | \u001b[0m 0.7986  \u001b[0m |\n",
      "| \u001b[0m 15      \u001b[0m | \u001b[0m 0.7746  \u001b[0m | \u001b[0m 0.5979  \u001b[0m | \u001b[0m 0.9931  \u001b[0m | \u001b[0m 0.3756  \u001b[0m | \u001b[0m 13.56   \u001b[0m | \u001b[0m 8.072   \u001b[0m | \u001b[0m 318.8   \u001b[0m | \u001b[0m 0.9026  \u001b[0m |\n",
      "| \u001b[0m 16      \u001b[0m | \u001b[0m 0.7879  \u001b[0m | \u001b[0m 0.9826  \u001b[0m | \u001b[0m 49.07   \u001b[0m | \u001b[0m 0.5864  \u001b[0m | \u001b[0m 99.8    \u001b[0m | \u001b[0m 6.257   \u001b[0m | \u001b[0m 108.6   \u001b[0m | \u001b[0m 0.9562  \u001b[0m |\n",
      "| \u001b[95m 17      \u001b[0m | \u001b[95m 0.7992  \u001b[0m | \u001b[95m 0.9472  \u001b[0m | \u001b[95m 7.582   \u001b[0m | \u001b[95m 0.2604  \u001b[0m | \u001b[95m 99.31   \u001b[0m | \u001b[95m 9.734   \u001b[0m | \u001b[95m 233.8   \u001b[0m | \u001b[95m 0.593   \u001b[0m |\n",
      "=============================================================================================================\n",
      "CPU times: user 2h 7min 3s, sys: 7.16 s, total: 2h 7min 10s\n",
      "Wall time: 2h 7min 19s\n"
     ]
    }
   ],
   "source": [
    "%%time\n",
    "# to change n_iter to 15\n",
    "optimizer.maximize(n_iter=15, init_points=2)"
   ]
  },
  {
   "cell_type": "code",
   "execution_count": null,
   "metadata": {
    "colab": {
     "base_uri": "https://localhost:8080/",
     "height": 582,
     "referenced_widgets": [
      "618f97ebf60a43939b6d69f2918e3b92",
      "782be0f8137b45dabdf3aaab728d070f",
      "0e76669ca0b64f2d8d923b318e0a8345",
      "e49e8934107a4b198467aef34646a592",
      "77dea2b5be3b45b6b01e3be6bf68cd43",
      "7d9bde2538124a70a8e955a879d19dad",
      "e03947d7ca6a455390c86d9f73dc4254",
      "b6d0543a4704426cadd635cf4673bbc9"
     ]
    },
    "executionInfo": {
     "elapsed": 899266,
     "status": "ok",
     "timestamp": 1613864815950,
     "user": {
      "displayName": "Shining Du",
      "photoUrl": "",
      "userId": "16422857245131771211"
     },
     "user_tz": 300
    },
    "id": "KoDfdelg7zuo",
    "outputId": "8caab4c1-533e-4ff4-ef47-a7f714ba7d12"
   },
   "outputs": [
    {
     "data": {
      "application/vnd.jupyter.widget-view+json": {
       "model_id": "618f97ebf60a43939b6d69f2918e3b92",
       "version_major": 2,
       "version_minor": 0
      },
      "text/plain": [
       "HBox(children=(FloatProgress(value=0.0, max=21.0), HTML(value='')))"
      ]
     },
     "metadata": {
      "tags": []
     },
     "output_type": "display_data"
    },
    {
     "name": "stdout",
     "output_type": "stream",
     "text": [
      "\n"
     ]
    },
    {
     "data": {
      "image/png": "[encoded data removed]",
      "text/plain": [
       "<Figure size 864x576 with 1 Axes>"
      ]
     },
     "metadata": {
      "needs_background": "light",
      "tags": []
     },
     "output_type": "display_data"
    },
    {
     "name": "stdout",
     "output_type": "stream",
     "text": [
      "CPU times: user 14min 56s, sys: 757 ms, total: 14min 57s\n",
      "Wall time: 14min 58s\n"
     ]
    }
   ],
   "source": [
    "%%time\n",
    "from sklearn.metrics import roc_auc_score\n",
    "\n",
    "my_model = XGBClassifier(colsample=0.9472,\n",
    "                         gamma=7.582,\n",
    "                         learning_rate=0.2604, \n",
    "                         max_depth=int(99.31), \n",
    "                         min_child_weight=9.734,\n",
    "                         n_estimators=int(233.8), \n",
    "                         subsample=0.593)\n",
    "\n",
    "plot_learning_curve(my_model, roc_auc_score, final_train_X, final_train_y, final_val_X, final_val_y, M=750)"
   ]
  },
  {
   "cell_type": "markdown",
   "metadata": {
    "id": "BS8Z76frqH1B"
   },
   "source": [
    "# Tuning XGB: the 2nd time"
   ]
  },
  {
   "cell_type": "code",
   "execution_count": null,
   "metadata": {
    "id": "pJa9spmM2QHk"
   },
   "outputs": [],
   "source": [
    "# revise pbounds according to the previous optimization result\n",
    "# if necessary, specify \"seed =\"\n",
    "pbounds = {\n",
    "    'learning_rate': (0.1, 0.5),\n",
    "    'n_estimators': (150, 350),\n",
    "    'max_depth': (80, 120),\n",
    "    'min_child_weight': (8, 12),\n",
    "    'subsample': (0.45, 0.75),   # Change for big datasets\n",
    "    'colsample': (0.85, 1.0),    # Change for datasets with lots of features\n",
    "    'gamma': (5, 10)}\n",
    "\n",
    "# ATTENTION: Must change the arguments in the following function after one revises the pbounds!\n",
    "def xgboost_hyper_param(learning_rate, n_estimators, max_depth, min_child_weight, subsample, colsample, gamma):\n",
    "  max_depth = int(max_depth)\n",
    "  n_estimators = int(n_estimators)\n",
    "\n",
    "  clf = XGBClassifier(learning_rate=learning_rate, n_estimators=n_estimators, max_depth=max_depth, min_child_weight=min_child_weight, \n",
    "                      subsample=subsample, colsample=colsample, gamma=gamma)\n",
    "  return_val = cross_val_score(clf, final_train_X, final_train_y, cv=5, scoring='roc_auc')  # roc_auc\n",
    "  to_return = return_val.mean()\n",
    "  return to_return\n",
    "\n",
    "optimizer = BayesianOptimization(\n",
    "    f = xgboost_hyper_param,\n",
    "    pbounds = pbounds,\n",
    "    random_state = 42,\n",
    ")"
   ]
  },
  {
   "cell_type": "code",
   "execution_count": null,
   "metadata": {
    "colab": {
     "base_uri": "https://localhost:8080/"
    },
    "executionInfo": {
     "elapsed": 2956825,
     "status": "ok",
     "timestamp": 1613870417829,
     "user": {
      "displayName": "Shining Du",
      "photoUrl": "",
      "userId": "16422857245131771211"
     },
     "user_tz": 300
    },
    "id": "TgHrJ0FT43Ai",
    "outputId": "89fda184-d80b-4931-8fc0-bdcdf89a930e"
   },
   "outputs": [
    {
     "name": "stdout",
     "output_type": "stream",
     "text": [
      "|   iter    |  target   | colsample |   gamma   | learni... | max_depth | min_ch... | n_esti... | subsample |\n",
      "-------------------------------------------------------------------------------------------------------------\n",
      "| \u001b[0m 1       \u001b[0m | \u001b[0m 0.7986  \u001b[0m | \u001b[0m 0.9062  \u001b[0m | \u001b[0m 9.754   \u001b[0m | \u001b[0m 0.3928  \u001b[0m | \u001b[0m 103.9   \u001b[0m | \u001b[0m 8.624   \u001b[0m | \u001b[0m 181.2   \u001b[0m | \u001b[0m 0.4674  \u001b[0m |\n",
      "| \u001b[0m 2       \u001b[0m | \u001b[0m 0.7973  \u001b[0m | \u001b[0m 0.9799  \u001b[0m | \u001b[0m 8.006   \u001b[0m | \u001b[0m 0.3832  \u001b[0m | \u001b[0m 80.82   \u001b[0m | \u001b[0m 11.88   \u001b[0m | \u001b[0m 316.5   \u001b[0m | \u001b[0m 0.5137  \u001b[0m |\n",
      "| \u001b[0m 3       \u001b[0m | \u001b[0m 0.798   \u001b[0m | \u001b[0m 0.9052  \u001b[0m | \u001b[0m 7.055   \u001b[0m | \u001b[0m 0.4126  \u001b[0m | \u001b[0m 80.59   \u001b[0m | \u001b[0m 10.64   \u001b[0m | \u001b[0m 150.0   \u001b[0m | \u001b[0m 0.4689  \u001b[0m |\n",
      "| \u001b[0m 4       \u001b[0m | \u001b[0m 0.7979  \u001b[0m | \u001b[0m 0.8757  \u001b[0m | \u001b[0m 9.025   \u001b[0m | \u001b[0m 0.3208  \u001b[0m | \u001b[0m 119.8   \u001b[0m | \u001b[0m 11.02   \u001b[0m | \u001b[0m 349.0   \u001b[0m | \u001b[0m 0.7172  \u001b[0m |\n",
      "| \u001b[95m 5       \u001b[0m | \u001b[95m 0.7988  \u001b[0m | \u001b[95m 0.906   \u001b[0m | \u001b[95m 5.922   \u001b[0m | \u001b[95m 0.2286  \u001b[0m | \u001b[95m 120.0   \u001b[0m | \u001b[95m 11.76   \u001b[0m | \u001b[95m 150.8   \u001b[0m | \u001b[95m 0.683   \u001b[0m |\n",
      "| \u001b[95m 6       \u001b[0m | \u001b[95m 0.7991  \u001b[0m | \u001b[95m 0.9355  \u001b[0m | \u001b[95m 9.803   \u001b[0m | \u001b[95m 0.3796  \u001b[0m | \u001b[95m 118.4   \u001b[0m | \u001b[95m 11.48   \u001b[0m | \u001b[95m 150.5   \u001b[0m | \u001b[95m 0.7153  \u001b[0m |\n",
      "| \u001b[95m 7       \u001b[0m | \u001b[95m 0.8     \u001b[0m | \u001b[95m 0.9805  \u001b[0m | \u001b[95m 8.697   \u001b[0m | \u001b[95m 0.1467  \u001b[0m | \u001b[95m 119.7   \u001b[0m | \u001b[95m 9.166   \u001b[0m | \u001b[95m 150.1   \u001b[0m | \u001b[95m 0.4877  \u001b[0m |\n",
      "| \u001b[0m 8       \u001b[0m | \u001b[0m 0.7987  \u001b[0m | \u001b[0m 0.8733  \u001b[0m | \u001b[0m 9.734   \u001b[0m | \u001b[0m 0.4121  \u001b[0m | \u001b[0m 118.9   \u001b[0m | \u001b[0m 11.31   \u001b[0m | \u001b[0m 150.8   \u001b[0m | \u001b[0m 0.6306  \u001b[0m |\n",
      "| \u001b[0m 9       \u001b[0m | \u001b[0m 0.7954  \u001b[0m | \u001b[0m 0.9354  \u001b[0m | \u001b[0m 5.249   \u001b[0m | \u001b[0m 0.3214  \u001b[0m | \u001b[0m 119.1   \u001b[0m | \u001b[0m 9.031   \u001b[0m | \u001b[0m 150.3   \u001b[0m | \u001b[0m 0.4904  \u001b[0m |\n",
      "| \u001b[0m 10      \u001b[0m | \u001b[0m 0.7946  \u001b[0m | \u001b[0m 0.852   \u001b[0m | \u001b[0m 8.71    \u001b[0m | \u001b[0m 0.4811  \u001b[0m | \u001b[0m 119.4   \u001b[0m | \u001b[0m 10.63   \u001b[0m | \u001b[0m 349.8   \u001b[0m | \u001b[0m 0.4831  \u001b[0m |\n",
      "| \u001b[0m 11      \u001b[0m | \u001b[0m 0.7993  \u001b[0m | \u001b[0m 0.8592  \u001b[0m | \u001b[0m 9.763   \u001b[0m | \u001b[0m 0.3411  \u001b[0m | \u001b[0m 80.59   \u001b[0m | \u001b[0m 10.71   \u001b[0m | \u001b[0m 150.3   \u001b[0m | \u001b[0m 0.4978  \u001b[0m |\n",
      "| \u001b[95m 12      \u001b[0m | \u001b[95m 0.8     \u001b[0m | \u001b[95m 0.9715  \u001b[0m | \u001b[95m 6.728   \u001b[0m | \u001b[95m 0.1806  \u001b[0m | \u001b[95m 80.29   \u001b[0m | \u001b[95m 9.739   \u001b[0m | \u001b[95m 150.5   \u001b[0m | \u001b[95m 0.5519  \u001b[0m |\n",
      "| \u001b[0m 13      \u001b[0m | \u001b[0m 0.7964  \u001b[0m | \u001b[0m 0.923   \u001b[0m | \u001b[0m 6.311   \u001b[0m | \u001b[0m 0.3595  \u001b[0m | \u001b[0m 81.08   \u001b[0m | \u001b[0m 11.94   \u001b[0m | \u001b[0m 150.6   \u001b[0m | \u001b[0m 0.6576  \u001b[0m |\n",
      "| \u001b[0m 14      \u001b[0m | \u001b[0m 0.7979  \u001b[0m | \u001b[0m 0.9655  \u001b[0m | \u001b[0m 7.193   \u001b[0m | \u001b[0m 0.2707  \u001b[0m | \u001b[0m 80.65   \u001b[0m | \u001b[0m 10.99   \u001b[0m | \u001b[0m 150.4   \u001b[0m | \u001b[0m 0.5513  \u001b[0m |\n",
      "| \u001b[0m 15      \u001b[0m | \u001b[0m 0.7998  \u001b[0m | \u001b[0m 0.8929  \u001b[0m | \u001b[0m 6.394   \u001b[0m | \u001b[0m 0.2295  \u001b[0m | \u001b[0m 80.01   \u001b[0m | \u001b[0m 10.16   \u001b[0m | \u001b[0m 150.2   \u001b[0m | \u001b[0m 0.542   \u001b[0m |\n",
      "| \u001b[0m 16      \u001b[0m | \u001b[0m 0.7964  \u001b[0m | \u001b[0m 0.9101  \u001b[0m | \u001b[0m 9.64    \u001b[0m | \u001b[0m 0.4708  \u001b[0m | \u001b[0m 80.16   \u001b[0m | \u001b[0m 9.989   \u001b[0m | \u001b[0m 150.1   \u001b[0m | \u001b[0m 0.5122  \u001b[0m |\n",
      "| \u001b[0m 17      \u001b[0m | \u001b[0m 0.7951  \u001b[0m | \u001b[0m 0.9254  \u001b[0m | \u001b[0m 6.45    \u001b[0m | \u001b[0m 0.4365  \u001b[0m | \u001b[0m 119.9   \u001b[0m | \u001b[0m 11.18   \u001b[0m | \u001b[0m 150.3   \u001b[0m | \u001b[0m 0.5306  \u001b[0m |\n",
      "=============================================================================================================\n",
      "CPU times: user 1h 19min 15s, sys: 4.78 s, total: 1h 19min 20s\n",
      "Wall time: 1h 19min 25s\n"
     ]
    }
   ],
   "source": [
    "%%time\n",
    "# to change n_iter to 15\n",
    "optimizer.maximize(n_iter=15, init_points=2)"
   ]
  },
  {
   "cell_type": "code",
   "execution_count": null,
   "metadata": {
    "colab": {
     "base_uri": "https://localhost:8080/",
     "height": 582,
     "referenced_widgets": [
      "2652486d9e4445aca560ca257933a78a",
      "d5ddbc2e38544129a07bf1096af61d6e",
      "025ad281c9924d898c18d79482c29c5b",
      "469a41ab27ad42cabf55c52ca4bedbb9",
      "d5b3bcff40bb4869804c7545b12199b7",
      "d40bf05c5be342838d519d5fb5d2fe01",
      "4754b4102c8d4544a0666c7a4a7b421b",
      "82c07598b25e4c28899a801d541bd012"
     ]
    },
    "executionInfo": {
     "elapsed": 509279,
     "status": "ok",
     "timestamp": 1613872411405,
     "user": {
      "displayName": "Shining Du",
      "photoUrl": "",
      "userId": "16422857245131771211"
     },
     "user_tz": 300
    },
    "id": "6k0Yy9MMQc0U",
    "outputId": "9f4c78ca-c1bc-4b3b-d68c-b06169d2e2f7"
   },
   "outputs": [
    {
     "data": {
      "application/vnd.jupyter.widget-view+json": {
       "model_id": "2652486d9e4445aca560ca257933a78a",
       "version_major": 2,
       "version_minor": 0
      },
      "text/plain": [
       "HBox(children=(FloatProgress(value=0.0, max=21.0), HTML(value='')))"
      ]
     },
     "metadata": {
      "tags": []
     },
     "output_type": "display_data"
    },
    {
     "name": "stdout",
     "output_type": "stream",
     "text": [
      "\n"
     ]
    },
    {
     "data": {
      "image/png": "[encoded data removed]",
      "text/plain": [
       "<Figure size 864x576 with 1 Axes>"
      ]
     },
     "metadata": {
      "needs_background": "light",
      "tags": []
     },
     "output_type": "display_data"
    },
    {
     "name": "stdout",
     "output_type": "stream",
     "text": [
      "CPU times: user 8min 27s, sys: 432 ms, total: 8min 28s\n",
      "Wall time: 8min 28s\n"
     ]
    }
   ],
   "source": [
    "%%time\n",
    "from sklearn.metrics import roc_auc_score\n",
    "\n",
    "my_model = XGBClassifier(colsample=0.9805,\n",
    "                         gamma=8.697,\n",
    "                         learning_rate=0.1467, \n",
    "                         max_depth=int(119.7), \n",
    "                         min_child_weight=9.166,\n",
    "                         n_estimators=int(150.1), \n",
    "                         subsample=0.4877)\n",
    "\n",
    "plot_learning_curve(my_model, roc_auc_score, final_train_X, final_train_y, final_val_X, final_val_y, M=750)"
   ]
  },
  {
   "cell_type": "markdown",
   "metadata": {
    "id": "273uLuuf7U06"
   },
   "source": [
    "# Tuning XGB: the 3rd time"
   ]
  },
  {
   "cell_type": "code",
   "execution_count": null,
   "metadata": {
    "id": "HUwvaZMX459O"
   },
   "outputs": [],
   "source": [
    "# revise pbounds according to the previous optimization result\n",
    "# if necessary, specify \"seed =\"\n",
    "pbounds = {\n",
    "    'learning_rate': (0.1, 0.25),\n",
    "    'n_estimators': (150, 200),\n",
    "    'max_depth': (110, 130),\n",
    "    'min_child_weight': (8, 11),\n",
    "    'subsample': (0.45, 0.55),   # Change for big datasets\n",
    "    'colsample': (0.95, 1.0),    # Change for datasets with lots of features\n",
    "    'gamma': (7.5, 10)}\n",
    "\n",
    "# ATTENTION: Must change the arguments in the following function after one revises the pbounds!\n",
    "def xgboost_hyper_param(learning_rate, n_estimators, max_depth, min_child_weight, subsample, colsample, gamma):\n",
    "  max_depth = int(max_depth)\n",
    "  n_estimators = int(n_estimators)\n",
    "\n",
    "  clf = XGBClassifier(learning_rate=learning_rate, n_estimators=n_estimators, max_depth=max_depth, min_child_weight=min_child_weight, \n",
    "                      subsample=subsample, colsample=colsample, gamma=gamma)\n",
    "  return_val = cross_val_score(clf, final_train_X, final_train_y, cv=5, scoring='roc_auc')  # roc_auc\n",
    "  to_return = return_val.mean()\n",
    "  return to_return\n",
    "\n",
    "optimizer = BayesianOptimization(\n",
    "    f = xgboost_hyper_param,\n",
    "    pbounds = pbounds,\n",
    "    random_state = 42,\n",
    ")"
   ]
  },
  {
   "cell_type": "code",
   "execution_count": null,
   "metadata": {
    "colab": {
     "base_uri": "https://localhost:8080/"
    },
    "executionInfo": {
     "elapsed": 1684436,
     "status": "ok",
     "timestamp": 1613877334928,
     "user": {
      "displayName": "Shining Du",
      "photoUrl": "",
      "userId": "16422857245131771211"
     },
     "user_tz": 300
    },
    "id": "eve64ArUVWKC",
    "outputId": "6ac38862-7160-4816-b8a3-56ecbfc707cf"
   },
   "outputs": [
    {
     "name": "stdout",
     "output_type": "stream",
     "text": [
      "|   iter    |  target   | colsample |   gamma   | learni... | max_depth | min_ch... | n_esti... | subsample |\n",
      "-------------------------------------------------------------------------------------------------------------\n",
      "| \u001b[0m 1       \u001b[0m | \u001b[0m 0.8003  \u001b[0m | \u001b[0m 0.9687  \u001b[0m | \u001b[0m 9.877   \u001b[0m | \u001b[0m 0.2098  \u001b[0m | \u001b[0m 122.0   \u001b[0m | \u001b[0m 8.468   \u001b[0m | \u001b[0m 157.8   \u001b[0m | \u001b[0m 0.4558  \u001b[0m |\n",
      "| \u001b[0m 2       \u001b[0m | \u001b[0m 0.799   \u001b[0m | \u001b[0m 0.9933  \u001b[0m | \u001b[0m 9.003   \u001b[0m | \u001b[0m 0.2062  \u001b[0m | \u001b[0m 110.4   \u001b[0m | \u001b[0m 10.91   \u001b[0m | \u001b[0m 191.6   \u001b[0m | \u001b[0m 0.4712  \u001b[0m |\n",
      "| \u001b[0m 3       \u001b[0m | \u001b[0m 0.7991  \u001b[0m | \u001b[0m 0.9792  \u001b[0m | \u001b[0m 7.846   \u001b[0m | \u001b[0m 0.1819  \u001b[0m | \u001b[0m 129.9   \u001b[0m | \u001b[0m 9.696   \u001b[0m | \u001b[0m 150.1   \u001b[0m | \u001b[0m 0.5433  \u001b[0m |\n",
      "| \u001b[0m 4       \u001b[0m | \u001b[0m 0.7996  \u001b[0m | \u001b[0m 0.9586  \u001b[0m | \u001b[0m 9.513   \u001b[0m | \u001b[0m 0.1828  \u001b[0m | \u001b[0m 129.9   \u001b[0m | \u001b[0m 10.27   \u001b[0m | \u001b[0m 199.7   \u001b[0m | \u001b[0m 0.5391  \u001b[0m |\n",
      "| \u001b[0m 5       \u001b[0m | \u001b[0m 0.7996  \u001b[0m | \u001b[0m 0.9668  \u001b[0m | \u001b[0m 7.584   \u001b[0m | \u001b[0m 0.215   \u001b[0m | \u001b[0m 110.1   \u001b[0m | \u001b[0m 8.513   \u001b[0m | \u001b[0m 150.2   \u001b[0m | \u001b[0m 0.4678  \u001b[0m |\n",
      "| \u001b[0m 6       \u001b[0m | \u001b[0m 0.7994  \u001b[0m | \u001b[0m 0.9831  \u001b[0m | \u001b[0m 8.712   \u001b[0m | \u001b[0m 0.1625  \u001b[0m | \u001b[0m 110.2   \u001b[0m | \u001b[0m 10.16   \u001b[0m | \u001b[0m 199.8   \u001b[0m | \u001b[0m 0.5241  \u001b[0m |\n",
      "| \u001b[95m 7       \u001b[0m | \u001b[95m 0.8008  \u001b[0m | \u001b[95m 0.9935  \u001b[0m | \u001b[95m 9.349   \u001b[0m | \u001b[95m 0.1175  \u001b[0m | \u001b[95m 129.8   \u001b[0m | \u001b[95m 8.875   \u001b[0m | \u001b[95m 150.0   \u001b[0m | \u001b[95m 0.4626  \u001b[0m |\n",
      "| \u001b[0m 8       \u001b[0m | \u001b[0m 0.8004  \u001b[0m | \u001b[0m 0.9578  \u001b[0m | \u001b[0m 9.867   \u001b[0m | \u001b[0m 0.217   \u001b[0m | \u001b[0m 129.4   \u001b[0m | \u001b[0m 10.48   \u001b[0m | \u001b[0m 150.2   \u001b[0m | \u001b[0m 0.5102  \u001b[0m |\n",
      "| \u001b[0m 9       \u001b[0m | \u001b[0m 0.8005  \u001b[0m | \u001b[0m 0.9785  \u001b[0m | \u001b[0m 7.624   \u001b[0m | \u001b[0m 0.183   \u001b[0m | \u001b[0m 129.6   \u001b[0m | \u001b[0m 8.773   \u001b[0m | \u001b[0m 150.1   \u001b[0m | \u001b[0m 0.4635  \u001b[0m |\n",
      "| \u001b[0m 10      \u001b[0m | \u001b[0m 0.7992  \u001b[0m | \u001b[0m 0.9998  \u001b[0m | \u001b[0m 9.981   \u001b[0m | \u001b[0m 0.1133  \u001b[0m | \u001b[0m 110.2   \u001b[0m | \u001b[0m 8.777   \u001b[0m | \u001b[0m 150.0   \u001b[0m | \u001b[0m 0.513   \u001b[0m |\n",
      "| \u001b[0m 11      \u001b[0m | \u001b[0m 0.7988  \u001b[0m | \u001b[0m 0.9618  \u001b[0m | \u001b[0m 8.906   \u001b[0m | \u001b[0m 0.2239  \u001b[0m | \u001b[0m 129.9   \u001b[0m | \u001b[0m 8.852   \u001b[0m | \u001b[0m 199.0   \u001b[0m | \u001b[0m 0.4848  \u001b[0m |\n",
      "| \u001b[0m 12      \u001b[0m | \u001b[0m 0.7986  \u001b[0m | \u001b[0m 0.9822  \u001b[0m | \u001b[0m 8.077   \u001b[0m | \u001b[0m 0.2072  \u001b[0m | \u001b[0m 129.8   \u001b[0m | \u001b[0m 10.28   \u001b[0m | \u001b[0m 150.2   \u001b[0m | \u001b[0m 0.5221  \u001b[0m |\n",
      "| \u001b[0m 13      \u001b[0m | \u001b[0m 0.7994  \u001b[0m | \u001b[0m 0.9743  \u001b[0m | \u001b[0m 8.155   \u001b[0m | \u001b[0m 0.1973  \u001b[0m | \u001b[0m 110.5   \u001b[0m | \u001b[0m 10.95   \u001b[0m | \u001b[0m 150.2   \u001b[0m | \u001b[0m 0.5192  \u001b[0m |\n",
      "| \u001b[0m 14      \u001b[0m | \u001b[0m 0.7999  \u001b[0m | \u001b[0m 0.9889  \u001b[0m | \u001b[0m 8.517   \u001b[0m | \u001b[0m 0.1749  \u001b[0m | \u001b[0m 129.9   \u001b[0m | \u001b[0m 9.996   \u001b[0m | \u001b[0m 150.1   \u001b[0m | \u001b[0m 0.5428  \u001b[0m |\n",
      "| \u001b[0m 15      \u001b[0m | \u001b[0m 0.8005  \u001b[0m | \u001b[0m 0.9951  \u001b[0m | \u001b[0m 9.66    \u001b[0m | \u001b[0m 0.1312  \u001b[0m | \u001b[0m 129.8   \u001b[0m | \u001b[0m 8.213   \u001b[0m | \u001b[0m 199.8   \u001b[0m | \u001b[0m 0.5388  \u001b[0m |\n",
      "| \u001b[0m 16      \u001b[0m | \u001b[0m 0.7986  \u001b[0m | \u001b[0m 0.9668  \u001b[0m | \u001b[0m 9.753   \u001b[0m | \u001b[0m 0.1377  \u001b[0m | \u001b[0m 129.9   \u001b[0m | \u001b[0m 8.071   \u001b[0m | \u001b[0m 199.8   \u001b[0m | \u001b[0m 0.5286  \u001b[0m |\n",
      "| \u001b[0m 17      \u001b[0m | \u001b[0m 0.8002  \u001b[0m | \u001b[0m 0.9607  \u001b[0m | \u001b[0m 9.105   \u001b[0m | \u001b[0m 0.2105  \u001b[0m | \u001b[0m 110.2   \u001b[0m | \u001b[0m 8.823   \u001b[0m | \u001b[0m 150.1   \u001b[0m | \u001b[0m 0.4556  \u001b[0m |\n",
      "=============================================================================================================\n",
      "CPU times: user 1h 9min 56s, sys: 4.41 s, total: 1h 10min\n",
      "Wall time: 1h 10min 4s\n"
     ]
    }
   ],
   "source": [
    "%%time\n",
    "# to change n_iter to 15\n",
    "optimizer.maximize(n_iter=15, init_points=2)"
   ]
  },
  {
   "cell_type": "code",
   "execution_count": null,
   "metadata": {
    "colab": {
     "base_uri": "https://localhost:8080/",
     "height": 582,
     "referenced_widgets": [
      "9d6b0e19af4f4ce680c9049f45795c3a",
      "aa3f3f69a9134371ac21be6f24b451e7",
      "f6679a1277f44001a65e684169a77481",
      "1eff49612f1044cd9f2a433f69d1d1b2",
      "aeb492fea697494c9c814dcf468a641d",
      "18409de4ffcb47dfb42e421c7e529459",
      "f029f65e43184d8093f18773e5339990",
      "03ce3782967143c09fa3d584b0fefe0b"
     ]
    },
    "executionInfo": {
     "elapsed": 488406,
     "status": "ok",
     "timestamp": 1613878166387,
     "user": {
      "displayName": "Shining Du",
      "photoUrl": "",
      "userId": "16422857245131771211"
     },
     "user_tz": 300
    },
    "id": "xS2B_6plVV57",
    "outputId": "a18c1530-d002-466d-86f1-f51283b642e3"
   },
   "outputs": [
    {
     "data": {
      "application/vnd.jupyter.widget-view+json": {
       "model_id": "9d6b0e19af4f4ce680c9049f45795c3a",
       "version_major": 2,
       "version_minor": 0
      },
      "text/plain": [
       "HBox(children=(FloatProgress(value=0.0, max=21.0), HTML(value='')))"
      ]
     },
     "metadata": {
      "tags": []
     },
     "output_type": "display_data"
    },
    {
     "name": "stdout",
     "output_type": "stream",
     "text": [
      "\n"
     ]
    },
    {
     "data": {
      "image/png": "[encoded data removed]",
      "text/plain": [
       "<Figure size 864x576 with 1 Axes>"
      ]
     },
     "metadata": {
      "needs_background": "light",
      "tags": []
     },
     "output_type": "display_data"
    },
    {
     "name": "stdout",
     "output_type": "stream",
     "text": [
      "CPU times: user 8min 6s, sys: 455 ms, total: 8min 7s\n",
      "Wall time: 8min 7s\n"
     ]
    }
   ],
   "source": [
    "%%time\n",
    "from sklearn.metrics import roc_auc_score\n",
    "\n",
    "my_model = XGBClassifier(colsample=0.9935,\n",
    "                         gamma=9.349,\n",
    "                         learning_rate=0.1175, \n",
    "                         max_depth=int(129.8), \n",
    "                         min_child_weight=8.875,\n",
    "                         n_estimators=int(150.0), \n",
    "                         subsample=0.4626)\n",
    "\n",
    "plot_learning_curve(my_model, roc_auc_score, final_train_X, final_train_y, final_val_X, final_val_y, M=750)"
   ]
  },
  {
   "cell_type": "markdown",
   "metadata": {
    "id": "xIKBhKxWPT0O"
   },
   "source": [
    "\n",
    "# Which Factor Contributes Strongly to Prediction"
   ]
  },
  {
   "cell_type": "code",
   "execution_count": null,
   "metadata": {
    "colab": {
     "base_uri": "https://localhost:8080/",
     "height": 963,
     "referenced_widgets": [
      "5f1bdf9eeaa34b738f9f36244ba1f1e8",
      "3fd595464af345f680cc8f63133d621d",
      "3ede2706f18d482990dbf8c4f05c6b7b",
      "f050a5e3eb5440d48e1a0156c28b3dd1",
      "2a39b287c2d1421b8f80699165391f13",
      "5a3f3d8240c44c82b7ecda16445ef195",
      "3d712472657b469aaea5265bf16d90a8",
      "f8890c6f5eb5466c9d36912368d8252e"
     ]
    },
    "executionInfo": {
     "elapsed": 150583,
     "status": "ok",
     "timestamp": 1614109207765,
     "user": {
      "displayName": "Shining Du",
      "photoUrl": "",
      "userId": "16422857245131771211"
     },
     "user_tz": 300
    },
    "id": "x6GgAZ1I7XXX",
    "outputId": "c2720ef4-7ca6-43ef-91e9-ec295c9052f6"
   },
   "outputs": [
    {
     "data": {
      "application/vnd.jupyter.widget-view+json": {
       "model_id": "5f1bdf9eeaa34b738f9f36244ba1f1e8",
       "version_major": 2,
       "version_minor": 0
      },
      "text/plain": [
       "HBox(children=(FloatProgress(value=1.0, bar_style='info', max=1.0), HTML(value='')))"
      ]
     },
     "metadata": {
      "tags": []
     },
     "output_type": "display_data"
    },
    {
     "name": "stdout",
     "output_type": "stream",
     "text": [
      "Feature: city_development_index, Score: 0.15942\n",
      "Feature: x0_NA_companyType, Score: 0.00253\n",
      "Feature: x0_Public Sector, Score: 0.00112\n",
      "Feature: x0_Pvt Ltd  , Score: 0.00382\n",
      "Feature: x1_10/49    , Score: 0.00141\n",
      "Feature: x1_10000+   , Score: 0.00056\n",
      "Feature: x1_NA_companySize, Score: 0.05416\n",
      "Feature: x2_NA_majorDiscipline, Score: 0.00433\n",
      "Feature: x3_Has relevent experience, Score: 0.00362\n",
      "Feature: x4_100      , Score: 0.00097\n",
      "Feature: x4_103      , Score: 0.00421\n",
      "Feature: x4_160      , Score: 0.00103\n",
      "Feature: x5_1        , Score: 0.00226\n",
      "Feature: x5_2        , Score: 0.00099\n",
      "Feature: x5_4        , Score: 0.00095\n",
      "Feature: x5_>4       , Score: 0.00093\n",
      "Feature: x5_never    , Score: 0.00287\n",
      "Feature: x6_1        , Score: 0.00062\n",
      "Feature: x6_3        , Score: 0.00074\n",
      "Feature: x6_<1       , Score: 0.00077\n",
      "Feature: x6_>20      , Score: 0.00278\n",
      "Feature: x7_Graduate , Score: 0.00453\n",
      "Feature: x7_Masters  , Score: 0.00075\n",
      "Feature: x8_Full time course, Score: 0.00218\n",
      "Feature: x8_no_enrollment, Score: 0.00093\n",
      "\n"
     ]
    },
    {
     "data": {
      "image/png": "[encoded data removed]",
      "text/plain": [
       "<Figure size 1728x432 with 1 Axes>"
      ]
     },
     "metadata": {
      "tags": []
     },
     "output_type": "display_data"
    },
    {
     "name": "stdout",
     "output_type": "stream",
     "text": [
      "CPU times: user 2min 29s, sys: 613 ms, total: 2min 29s\n",
      "Wall time: 2min 30s\n"
     ]
    }
   ],
   "source": [
    "%%time\n",
    "#Feature importance\n",
    "print_features_importance('XGB', my_model, final_train_X, final_train_y)"
   ]
  },
  {
   "cell_type": "markdown",
   "metadata": {
    "id": "WZCeD1ZhPtry"
   },
   "source": [
    "The deciding factors are: city_development_index, company_type, company_size, major_discipline, relevent_experience, last_new_job, experience, education_level, and enrolled_university."
   ]
  },
  {
   "cell_type": "markdown",
   "metadata": {
    "id": "cx7jRfZIentr"
   },
   "source": [
    "# Transform Test Data"
   ]
  },
  {
   "cell_type": "code",
   "execution_count": null,
   "metadata": {
    "colab": {
     "base_uri": "https://localhost:8080/",
     "height": 326
    },
    "executionInfo": {
     "elapsed": 2263,
     "status": "ok",
     "timestamp": 1614093854062,
     "user": {
      "displayName": "Shining Du",
      "photoUrl": "",
      "userId": "16422857245131771211"
     },
     "user_tz": 300
    },
    "id": "rzpqZhUZwaJv",
    "outputId": "44dfef9e-2286-467d-862c-4794cca2668d"
   },
   "outputs": [
    {
     "name": "stdout",
     "output_type": "stream",
     "text": [
      "Drive already mounted at /content/gdrive; to attempt to forcibly remount, call drive.mount(\"/content/gdrive\", force_remount=True).\n"
     ]
    },
    {
     "data": {
      "text/html": [
       "<div>\n",
       "<style scoped>\n",
       "    .dataframe tbody tr th:only-of-type {\n",
       "        vertical-align: middle;\n",
       "    }\n",
       "\n",
       "    .dataframe tbody tr th {\n",
       "        vertical-align: top;\n",
       "    }\n",
       "\n",
       "    .dataframe thead th {\n",
       "        text-align: right;\n",
       "    }\n",
       "</style>\n",
       "<table border=\"1\" class=\"dataframe\">\n",
       "  <thead>\n",
       "    <tr style=\"text-align: right;\">\n",
       "      <th></th>\n",
       "      <th>enrollee_id</th>\n",
       "      <th>city</th>\n",
       "      <th>city_development_index</th>\n",
       "      <th>gender</th>\n",
       "      <th>relevent_experience</th>\n",
       "      <th>enrolled_university</th>\n",
       "      <th>education_level</th>\n",
       "      <th>major_discipline</th>\n",
       "      <th>experience</th>\n",
       "      <th>company_size</th>\n",
       "      <th>company_type</th>\n",
       "      <th>last_new_job</th>\n",
       "      <th>training_hours</th>\n",
       "    </tr>\n",
       "  </thead>\n",
       "  <tbody>\n",
       "    <tr>\n",
       "      <th>0</th>\n",
       "      <td>32403</td>\n",
       "      <td>city_41</td>\n",
       "      <td>0.827</td>\n",
       "      <td>Male</td>\n",
       "      <td>Has relevent experience</td>\n",
       "      <td>Full time course</td>\n",
       "      <td>Graduate</td>\n",
       "      <td>STEM</td>\n",
       "      <td>9</td>\n",
       "      <td>&lt;10</td>\n",
       "      <td>NaN</td>\n",
       "      <td>1</td>\n",
       "      <td>21</td>\n",
       "    </tr>\n",
       "    <tr>\n",
       "      <th>1</th>\n",
       "      <td>9858</td>\n",
       "      <td>city_103</td>\n",
       "      <td>0.920</td>\n",
       "      <td>Female</td>\n",
       "      <td>Has relevent experience</td>\n",
       "      <td>no_enrollment</td>\n",
       "      <td>Graduate</td>\n",
       "      <td>STEM</td>\n",
       "      <td>5</td>\n",
       "      <td>NaN</td>\n",
       "      <td>Pvt Ltd</td>\n",
       "      <td>1</td>\n",
       "      <td>98</td>\n",
       "    </tr>\n",
       "    <tr>\n",
       "      <th>2</th>\n",
       "      <td>31806</td>\n",
       "      <td>city_21</td>\n",
       "      <td>0.624</td>\n",
       "      <td>Male</td>\n",
       "      <td>No relevent experience</td>\n",
       "      <td>no_enrollment</td>\n",
       "      <td>High School</td>\n",
       "      <td>NaN</td>\n",
       "      <td>&lt;1</td>\n",
       "      <td>NaN</td>\n",
       "      <td>Pvt Ltd</td>\n",
       "      <td>never</td>\n",
       "      <td>15</td>\n",
       "    </tr>\n",
       "    <tr>\n",
       "      <th>3</th>\n",
       "      <td>27385</td>\n",
       "      <td>city_13</td>\n",
       "      <td>0.827</td>\n",
       "      <td>Male</td>\n",
       "      <td>Has relevent experience</td>\n",
       "      <td>no_enrollment</td>\n",
       "      <td>Masters</td>\n",
       "      <td>STEM</td>\n",
       "      <td>11</td>\n",
       "      <td>10/49</td>\n",
       "      <td>Pvt Ltd</td>\n",
       "      <td>1</td>\n",
       "      <td>39</td>\n",
       "    </tr>\n",
       "    <tr>\n",
       "      <th>4</th>\n",
       "      <td>27724</td>\n",
       "      <td>city_103</td>\n",
       "      <td>0.920</td>\n",
       "      <td>Male</td>\n",
       "      <td>Has relevent experience</td>\n",
       "      <td>no_enrollment</td>\n",
       "      <td>Graduate</td>\n",
       "      <td>STEM</td>\n",
       "      <td>&gt;20</td>\n",
       "      <td>10000+</td>\n",
       "      <td>Pvt Ltd</td>\n",
       "      <td>&gt;4</td>\n",
       "      <td>72</td>\n",
       "    </tr>\n",
       "  </tbody>\n",
       "</table>\n",
       "</div>"
      ],
      "text/plain": [
       "   enrollee_id      city  ...  last_new_job training_hours\n",
       "0        32403   city_41  ...             1             21\n",
       "1         9858  city_103  ...             1             98\n",
       "2        31806   city_21  ...         never             15\n",
       "3        27385   city_13  ...             1             39\n",
       "4        27724  city_103  ...            >4             72\n",
       "\n",
       "[5 rows x 13 columns]"
      ]
     },
     "execution_count": 3,
     "metadata": {
      "tags": []
     },
     "output_type": "execute_result"
    }
   ],
   "source": [
    "#test_raw = pd.read_csv(\"../input/?/test.csv\")\n",
    "#test_raw = pd.read_csv(\"/Users/shiningdu/Documents/?/test.csv\")\n",
    "#Mount your Google drive so you can read them easily\n",
    "from google.colab import drive\n",
    "drive.mount('/content/gdrive')\n",
    "test_raw = pd.read_csv(\"/content/gdrive/My Drive/Colab Notebooks/HR Analytics- Job Change of Data Scientists/aug_test.csv\")\n",
    "test_raw.head()"
   ]
  },
  {
   "cell_type": "code",
   "execution_count": null,
   "metadata": {
    "colab": {
     "base_uri": "https://localhost:8080/"
    },
    "executionInfo": {
     "elapsed": 532,
     "status": "ok",
     "timestamp": 1614093890605,
     "user": {
      "displayName": "Shining Du",
      "photoUrl": "",
      "userId": "16422857245131771211"
     },
     "user_tz": 300
    },
    "id": "JzzhNdADZ6_v",
    "outputId": "bc9b55dd-ba09-4b80-ca8a-bd989ad5e672"
   },
   "outputs": [
    {
     "name": "stdout",
     "output_type": "stream",
     "text": [
      "<class 'pandas.core.frame.DataFrame'>\n",
      "RangeIndex: 2129 entries, 0 to 2128\n",
      "Data columns (total 13 columns):\n",
      " #   Column                  Non-Null Count  Dtype  \n",
      "---  ------                  --------------  -----  \n",
      " 0   enrollee_id             2129 non-null   int64  \n",
      " 1   city                    2129 non-null   object \n",
      " 2   city_development_index  2129 non-null   float64\n",
      " 3   gender                  1621 non-null   object \n",
      " 4   relevent_experience     2129 non-null   object \n",
      " 5   enrolled_university     2098 non-null   object \n",
      " 6   education_level         2077 non-null   object \n",
      " 7   major_discipline        1817 non-null   object \n",
      " 8   experience              2124 non-null   object \n",
      " 9   company_size            1507 non-null   object \n",
      " 10  company_type            1495 non-null   object \n",
      " 11  last_new_job            2089 non-null   object \n",
      " 12  training_hours          2129 non-null   int64  \n",
      "dtypes: float64(1), int64(2), object(10)\n",
      "memory usage: 216.4+ KB\n"
     ]
    }
   ],
   "source": [
    "test_raw.info()"
   ]
  },
  {
   "cell_type": "code",
   "execution_count": null,
   "metadata": {
    "colab": {
     "base_uri": "https://localhost:8080/"
    },
    "executionInfo": {
     "elapsed": 305,
     "status": "ok",
     "timestamp": 1614093976479,
     "user": {
      "displayName": "Shining Du",
      "photoUrl": "",
      "userId": "16422857245131771211"
     },
     "user_tz": 300
    },
    "id": "E8y3BC_Yfqmi",
    "outputId": "eb5b1dbf-34bb-4206-e1c9-1b519cec8cb5"
   },
   "outputs": [
    {
     "data": {
      "text/plain": [
       "0.5213715359323626"
      ]
     },
     "execution_count": 5,
     "metadata": {
      "tags": []
     },
     "output_type": "execute_result"
    }
   ],
   "source": [
    "# how many percent of the observations contain at least one missing value?\n",
    "len(test_raw[test_raw.isna().any(axis=1)])/len(test_raw)"
   ]
  },
  {
   "cell_type": "markdown",
   "metadata": {
    "id": "bnFuDaaYf9pg"
   },
   "source": [
    "# Missing Value Imputation"
   ]
  },
  {
   "cell_type": "code",
   "execution_count": null,
   "metadata": {
    "colab": {
     "base_uri": "https://localhost:8080/",
     "height": 309
    },
    "executionInfo": {
     "elapsed": 337,
     "status": "ok",
     "timestamp": 1614094516935,
     "user": {
      "displayName": "Shining Du",
      "photoUrl": "",
      "userId": "16422857245131771211"
     },
     "user_tz": 300
    },
    "id": "qf_oxDJSf_Sl",
    "outputId": "72c23292-74b5-4c83-bf68-1a7bdf6adf8a"
   },
   "outputs": [
    {
     "data": {
      "text/html": [
       "<div>\n",
       "<style scoped>\n",
       "    .dataframe tbody tr th:only-of-type {\n",
       "        vertical-align: middle;\n",
       "    }\n",
       "\n",
       "    .dataframe tbody tr th {\n",
       "        vertical-align: top;\n",
       "    }\n",
       "\n",
       "    .dataframe thead th {\n",
       "        text-align: right;\n",
       "    }\n",
       "</style>\n",
       "<table border=\"1\" class=\"dataframe\">\n",
       "  <thead>\n",
       "    <tr style=\"text-align: right;\">\n",
       "      <th></th>\n",
       "      <th>enrollee_id</th>\n",
       "      <th>city</th>\n",
       "      <th>city_development_index</th>\n",
       "      <th>gender</th>\n",
       "      <th>relevent_experience</th>\n",
       "      <th>enrolled_university</th>\n",
       "      <th>education_level</th>\n",
       "      <th>major_discipline</th>\n",
       "      <th>experience</th>\n",
       "      <th>company_size</th>\n",
       "      <th>company_type</th>\n",
       "      <th>last_new_job</th>\n",
       "      <th>training_hours</th>\n",
       "    </tr>\n",
       "  </thead>\n",
       "  <tbody>\n",
       "    <tr>\n",
       "      <th>0</th>\n",
       "      <td>32403</td>\n",
       "      <td>city_41</td>\n",
       "      <td>0.827</td>\n",
       "      <td>Male</td>\n",
       "      <td>Has relevent experience</td>\n",
       "      <td>Full time course</td>\n",
       "      <td>Graduate</td>\n",
       "      <td>STEM</td>\n",
       "      <td>9</td>\n",
       "      <td>&lt;10</td>\n",
       "      <td>NA_companyType</td>\n",
       "      <td>1</td>\n",
       "      <td>21</td>\n",
       "    </tr>\n",
       "    <tr>\n",
       "      <th>1</th>\n",
       "      <td>9858</td>\n",
       "      <td>city_103</td>\n",
       "      <td>0.920</td>\n",
       "      <td>Female</td>\n",
       "      <td>Has relevent experience</td>\n",
       "      <td>no_enrollment</td>\n",
       "      <td>Graduate</td>\n",
       "      <td>STEM</td>\n",
       "      <td>5</td>\n",
       "      <td>NA_companySize</td>\n",
       "      <td>Pvt Ltd</td>\n",
       "      <td>1</td>\n",
       "      <td>98</td>\n",
       "    </tr>\n",
       "    <tr>\n",
       "      <th>2</th>\n",
       "      <td>31806</td>\n",
       "      <td>city_21</td>\n",
       "      <td>0.624</td>\n",
       "      <td>Male</td>\n",
       "      <td>No relevent experience</td>\n",
       "      <td>no_enrollment</td>\n",
       "      <td>High School</td>\n",
       "      <td>NA_majorDiscipline</td>\n",
       "      <td>&lt;1</td>\n",
       "      <td>NA_companySize</td>\n",
       "      <td>Pvt Ltd</td>\n",
       "      <td>never</td>\n",
       "      <td>15</td>\n",
       "    </tr>\n",
       "    <tr>\n",
       "      <th>3</th>\n",
       "      <td>27385</td>\n",
       "      <td>city_13</td>\n",
       "      <td>0.827</td>\n",
       "      <td>Male</td>\n",
       "      <td>Has relevent experience</td>\n",
       "      <td>no_enrollment</td>\n",
       "      <td>Masters</td>\n",
       "      <td>STEM</td>\n",
       "      <td>11</td>\n",
       "      <td>10/49</td>\n",
       "      <td>Pvt Ltd</td>\n",
       "      <td>1</td>\n",
       "      <td>39</td>\n",
       "    </tr>\n",
       "    <tr>\n",
       "      <th>4</th>\n",
       "      <td>27724</td>\n",
       "      <td>city_103</td>\n",
       "      <td>0.920</td>\n",
       "      <td>Male</td>\n",
       "      <td>Has relevent experience</td>\n",
       "      <td>no_enrollment</td>\n",
       "      <td>Graduate</td>\n",
       "      <td>STEM</td>\n",
       "      <td>&gt;20</td>\n",
       "      <td>10000+</td>\n",
       "      <td>Pvt Ltd</td>\n",
       "      <td>&gt;4</td>\n",
       "      <td>72</td>\n",
       "    </tr>\n",
       "  </tbody>\n",
       "</table>\n",
       "</div>"
      ],
      "text/plain": [
       "   enrollee_id      city  ...  last_new_job training_hours\n",
       "0        32403   city_41  ...             1             21\n",
       "1         9858  city_103  ...             1             98\n",
       "2        31806   city_21  ...         never             15\n",
       "3        27385   city_13  ...             1             39\n",
       "4        27724  city_103  ...            >4             72\n",
       "\n",
       "[5 rows x 13 columns]"
      ]
     },
     "execution_count": 6,
     "metadata": {
      "tags": []
     },
     "output_type": "execute_result"
    }
   ],
   "source": [
    "test_data = test_raw.copy()\n",
    "\n",
    "test_data['company_type'].fillna('NA_companyType', inplace=True)\n",
    "test_data['company_size'].fillna('NA_companySize', inplace=True)\n",
    "test_data['gender'].fillna('NA_gender', inplace=True)\n",
    "test_data['major_discipline'].fillna('NA_majorDiscipline', inplace=True)\n",
    "test_data['education_level'].fillna('NA_educationLevel', inplace=True)\n",
    "test_data['last_new_job'].fillna('NA_lastNewJob', inplace=True)\n",
    "test_data['enrolled_university'].fillna('NA_enrolledUniversity', inplace=True)\n",
    "test_data['experience'].fillna('NA_experience', inplace=True)\n",
    "\n",
    "test_data.head()"
   ]
  },
  {
   "cell_type": "code",
   "execution_count": null,
   "metadata": {
    "colab": {
     "base_uri": "https://localhost:8080/"
    },
    "executionInfo": {
     "elapsed": 296,
     "status": "ok",
     "timestamp": 1614094548852,
     "user": {
      "displayName": "Shining Du",
      "photoUrl": "",
      "userId": "16422857245131771211"
     },
     "user_tz": 300
    },
    "id": "RHrp9XHfiDBI",
    "outputId": "b2dccb21-35d9-4890-81c8-3951a8cfefab"
   },
   "outputs": [
    {
     "data": {
      "text/plain": [
       "0.0"
      ]
     },
     "execution_count": 7,
     "metadata": {
      "tags": []
     },
     "output_type": "execute_result"
    }
   ],
   "source": [
    "# how many percent of the observations contain at least one missing value NOW?\n",
    "len(test_data[test_data.isna().any(axis=1)])/len(test_data)"
   ]
  },
  {
   "cell_type": "code",
   "execution_count": null,
   "metadata": {
    "colab": {
     "base_uri": "https://localhost:8080/",
     "height": 309
    },
    "executionInfo": {
     "elapsed": 374,
     "status": "ok",
     "timestamp": 1614098247738,
     "user": {
      "displayName": "Shining Du",
      "photoUrl": "",
      "userId": "16422857245131771211"
     },
     "user_tz": 300
    },
    "id": "T7lHy9zufqjI",
    "outputId": "d796563c-6ed9-47dc-dc8b-55e7481c632f"
   },
   "outputs": [
    {
     "data": {
      "text/html": [
       "<div>\n",
       "<style scoped>\n",
       "    .dataframe tbody tr th:only-of-type {\n",
       "        vertical-align: middle;\n",
       "    }\n",
       "\n",
       "    .dataframe tbody tr th {\n",
       "        vertical-align: top;\n",
       "    }\n",
       "\n",
       "    .dataframe thead th {\n",
       "        text-align: right;\n",
       "    }\n",
       "</style>\n",
       "<table border=\"1\" class=\"dataframe\">\n",
       "  <thead>\n",
       "    <tr style=\"text-align: right;\">\n",
       "      <th></th>\n",
       "      <th>enrollee_id</th>\n",
       "      <th>city</th>\n",
       "      <th>city_development_index</th>\n",
       "      <th>gender</th>\n",
       "      <th>relevent_experience</th>\n",
       "      <th>enrolled_university</th>\n",
       "      <th>education_level</th>\n",
       "      <th>major_discipline</th>\n",
       "      <th>experience</th>\n",
       "      <th>company_size</th>\n",
       "      <th>company_type</th>\n",
       "      <th>last_new_job</th>\n",
       "      <th>training_hours</th>\n",
       "    </tr>\n",
       "  </thead>\n",
       "  <tbody>\n",
       "    <tr>\n",
       "      <th>0</th>\n",
       "      <td>32403</td>\n",
       "      <td>41</td>\n",
       "      <td>0.827</td>\n",
       "      <td>Male</td>\n",
       "      <td>Has relevent experience</td>\n",
       "      <td>Full time course</td>\n",
       "      <td>Graduate</td>\n",
       "      <td>STEM</td>\n",
       "      <td>9</td>\n",
       "      <td>&lt;10</td>\n",
       "      <td>NA_companyType</td>\n",
       "      <td>1</td>\n",
       "      <td>21</td>\n",
       "    </tr>\n",
       "    <tr>\n",
       "      <th>1</th>\n",
       "      <td>9858</td>\n",
       "      <td>103</td>\n",
       "      <td>0.920</td>\n",
       "      <td>Female</td>\n",
       "      <td>Has relevent experience</td>\n",
       "      <td>no_enrollment</td>\n",
       "      <td>Graduate</td>\n",
       "      <td>STEM</td>\n",
       "      <td>5</td>\n",
       "      <td>NA_companySize</td>\n",
       "      <td>Pvt Ltd</td>\n",
       "      <td>1</td>\n",
       "      <td>98</td>\n",
       "    </tr>\n",
       "    <tr>\n",
       "      <th>2</th>\n",
       "      <td>31806</td>\n",
       "      <td>21</td>\n",
       "      <td>0.624</td>\n",
       "      <td>Male</td>\n",
       "      <td>No relevent experience</td>\n",
       "      <td>no_enrollment</td>\n",
       "      <td>High School</td>\n",
       "      <td>NA_majorDiscipline</td>\n",
       "      <td>&lt;1</td>\n",
       "      <td>NA_companySize</td>\n",
       "      <td>Pvt Ltd</td>\n",
       "      <td>never</td>\n",
       "      <td>15</td>\n",
       "    </tr>\n",
       "    <tr>\n",
       "      <th>3</th>\n",
       "      <td>27385</td>\n",
       "      <td>13</td>\n",
       "      <td>0.827</td>\n",
       "      <td>Male</td>\n",
       "      <td>Has relevent experience</td>\n",
       "      <td>no_enrollment</td>\n",
       "      <td>Masters</td>\n",
       "      <td>STEM</td>\n",
       "      <td>11</td>\n",
       "      <td>10/49</td>\n",
       "      <td>Pvt Ltd</td>\n",
       "      <td>1</td>\n",
       "      <td>39</td>\n",
       "    </tr>\n",
       "    <tr>\n",
       "      <th>4</th>\n",
       "      <td>27724</td>\n",
       "      <td>103</td>\n",
       "      <td>0.920</td>\n",
       "      <td>Male</td>\n",
       "      <td>Has relevent experience</td>\n",
       "      <td>no_enrollment</td>\n",
       "      <td>Graduate</td>\n",
       "      <td>STEM</td>\n",
       "      <td>&gt;20</td>\n",
       "      <td>10000+</td>\n",
       "      <td>Pvt Ltd</td>\n",
       "      <td>&gt;4</td>\n",
       "      <td>72</td>\n",
       "    </tr>\n",
       "  </tbody>\n",
       "</table>\n",
       "</div>"
      ],
      "text/plain": [
       "   enrollee_id city  ...  last_new_job training_hours\n",
       "0        32403   41  ...             1             21\n",
       "1         9858  103  ...             1             98\n",
       "2        31806   21  ...         never             15\n",
       "3        27385   13  ...             1             39\n",
       "4        27724  103  ...            >4             72\n",
       "\n",
       "[5 rows x 13 columns]"
      ]
     },
     "execution_count": 49,
     "metadata": {
      "tags": []
     },
     "output_type": "execute_result"
    }
   ],
   "source": [
    "# Tackling the city feature\n",
    "test_data2 = test_data.copy()\n",
    "\n",
    "# to extract the value after \"city_\" in the city feature\n",
    "import re\n",
    "pattern = r'[0-9]+'\n",
    "regex = re.compile(pattern)\n",
    "f = lambda x: re.findall(regex, x)[0]    # [0] is used to obtain the value in brakets\n",
    "\n",
    "test_data2['city'] = test_data2['city'].apply(f)\n",
    "\n",
    "# to drop enrollee_id feature\n",
    "#test_data2 =  test_data2.drop(['enrollee_id'], axis=1)\n",
    "\n",
    "test_data2.head()"
   ]
  },
  {
   "cell_type": "code",
   "execution_count": null,
   "metadata": {
    "id": "49ncbfQjfqgM"
   },
   "outputs": [],
   "source": [
    "Final_test = full_pipeline.transform(test_data2)"
   ]
  },
  {
   "cell_type": "markdown",
   "metadata": {
    "id": "CWU6cG8f3ea4"
   },
   "source": [
    "# Predict Using Test Data"
   ]
  },
  {
   "cell_type": "code",
   "execution_count": null,
   "metadata": {
    "colab": {
     "base_uri": "https://localhost:8080/"
    },
    "executionInfo": {
     "elapsed": 479,
     "status": "ok",
     "timestamp": 1614095513426,
     "user": {
      "displayName": "Shining Du",
      "photoUrl": "",
      "userId": "16422857245131771211"
     },
     "user_tz": 300
    },
    "id": "Pa-rXn4CrcEJ",
    "outputId": "0aa8bd1e-ec60-42ef-c546-60209b01a064"
   },
   "outputs": [
    {
     "data": {
      "text/plain": [
       "['/content/gdrive/My Drive/Colab Notebooks/HR Analytics- Job Change of Data Scientists/best_XGB_Bayesian.pkl']"
      ]
     },
     "execution_count": 41,
     "metadata": {
      "tags": []
     },
     "output_type": "execute_result"
    }
   ],
   "source": [
    "import joblib\n",
    "\n",
    "my_model = XGBClassifier(colsample=0.9935,\n",
    "                         gamma=9.349,\n",
    "                         learning_rate=0.1175, \n",
    "                         max_depth=int(129.8), \n",
    "                         min_child_weight=8.875,\n",
    "                         n_estimators=int(150.0), \n",
    "                         subsample=0.4626)\n",
    "\n",
    "joblib.dump(my_model, \"/content/gdrive/My Drive/Colab Notebooks/HR Analytics- Job Change of Data Scientists/best_XGB_Bayesian.pkl\")\n",
    "\n",
    "# to load this model later\n",
    "#my_model_loaded = joblib.load(\"/.../best_XGB_Bayesian.pkl\")"
   ]
  },
  {
   "cell_type": "code",
   "execution_count": null,
   "metadata": {
    "colab": {
     "base_uri": "https://localhost:8080/"
    },
    "executionInfo": {
     "elapsed": 48942,
     "status": "ok",
     "timestamp": 1614098330001,
     "user": {
      "displayName": "Shining Du",
      "photoUrl": "",
      "userId": "16422857245131771211"
     },
     "user_tz": 300
    },
    "id": "5e7N-voXnCTY",
    "outputId": "a22a7138-ab30-449e-8a4c-621e5f88d6d3"
   },
   "outputs": [
    {
     "data": {
      "text/plain": [
       "XGBClassifier(base_score=0.5, booster='gbtree', colsample=0.9935,\n",
       "              colsample_bylevel=1, colsample_bynode=1, colsample_bytree=1,\n",
       "              gamma=9.349, learning_rate=0.1175, max_delta_step=0,\n",
       "              max_depth=129, min_child_weight=8.875, missing=None,\n",
       "              n_estimators=150, n_jobs=1, nthread=None,\n",
       "              objective='binary:logistic', random_state=0, reg_alpha=0,\n",
       "              reg_lambda=1, scale_pos_weight=1, seed=None, silent=None,\n",
       "              subsample=0.4626, verbosity=1)"
      ]
     },
     "execution_count": 52,
     "metadata": {
      "tags": []
     },
     "output_type": "execute_result"
    }
   ],
   "source": [
    "my_model.fit(final_train_X, final_train_y)"
   ]
  },
  {
   "cell_type": "code",
   "execution_count": null,
   "metadata": {
    "id": "vD2zodTKlHFv"
   },
   "outputs": [],
   "source": [
    "test_prediction_XGB = my_model.predict(Final_test)"
   ]
  },
  {
   "cell_type": "code",
   "execution_count": null,
   "metadata": {
    "colab": {
     "base_uri": "https://localhost:8080/"
    },
    "executionInfo": {
     "elapsed": 276,
     "status": "ok",
     "timestamp": 1614098523677,
     "user": {
      "displayName": "Shining Du",
      "photoUrl": "",
      "userId": "16422857245131771211"
     },
     "user_tz": 300
    },
    "id": "Q0AehnjEvwiK",
    "outputId": "af64bcb9-ea01-4176-a2fe-c3540a29621e"
   },
   "outputs": [
    {
     "data": {
      "text/plain": [
       "numpy.ndarray"
      ]
     },
     "execution_count": 54,
     "metadata": {
      "tags": []
     },
     "output_type": "execute_result"
    }
   ],
   "source": [
    "type(test_prediction_XGB)"
   ]
  },
  {
   "cell_type": "code",
   "execution_count": null,
   "metadata": {
    "colab": {
     "base_uri": "https://localhost:8080/"
    },
    "executionInfo": {
     "elapsed": 519,
     "status": "ok",
     "timestamp": 1614098526433,
     "user": {
      "displayName": "Shining Du",
      "photoUrl": "",
      "userId": "16422857245131771211"
     },
     "user_tz": 300
    },
    "id": "noPTnFrmov_n",
    "outputId": "25893909-2f36-45eb-e6c6-81f60754649d"
   },
   "outputs": [
    {
     "data": {
      "text/plain": [
       "2129"
      ]
     },
     "execution_count": 55,
     "metadata": {
      "tags": []
     },
     "output_type": "execute_result"
    }
   ],
   "source": [
    "len(test_prediction_XGB)"
   ]
  },
  {
   "cell_type": "code",
   "execution_count": null,
   "metadata": {
    "colab": {
     "base_uri": "https://localhost:8080/",
     "height": 309
    },
    "executionInfo": {
     "elapsed": 379,
     "status": "ok",
     "timestamp": 1614098535309,
     "user": {
      "displayName": "Shining Du",
      "photoUrl": "",
      "userId": "16422857245131771211"
     },
     "user_tz": 300
    },
    "id": "PZwLL_rGUQk4",
    "outputId": "1696ea59-9124-4ae4-9607-92ebe21a5e9a"
   },
   "outputs": [
    {
     "data": {
      "text/html": [
       "<div>\n",
       "<style scoped>\n",
       "    .dataframe tbody tr th:only-of-type {\n",
       "        vertical-align: middle;\n",
       "    }\n",
       "\n",
       "    .dataframe tbody tr th {\n",
       "        vertical-align: top;\n",
       "    }\n",
       "\n",
       "    .dataframe thead th {\n",
       "        text-align: right;\n",
       "    }\n",
       "</style>\n",
       "<table border=\"1\" class=\"dataframe\">\n",
       "  <thead>\n",
       "    <tr style=\"text-align: right;\">\n",
       "      <th></th>\n",
       "      <th>enrollee_id</th>\n",
       "      <th>city</th>\n",
       "      <th>city_development_index</th>\n",
       "      <th>gender</th>\n",
       "      <th>relevent_experience</th>\n",
       "      <th>enrolled_university</th>\n",
       "      <th>education_level</th>\n",
       "      <th>major_discipline</th>\n",
       "      <th>experience</th>\n",
       "      <th>company_size</th>\n",
       "      <th>company_type</th>\n",
       "      <th>last_new_job</th>\n",
       "      <th>training_hours</th>\n",
       "      <th>target</th>\n",
       "    </tr>\n",
       "  </thead>\n",
       "  <tbody>\n",
       "    <tr>\n",
       "      <th>0</th>\n",
       "      <td>32403</td>\n",
       "      <td>41</td>\n",
       "      <td>0.827</td>\n",
       "      <td>Male</td>\n",
       "      <td>Has relevent experience</td>\n",
       "      <td>Full time course</td>\n",
       "      <td>Graduate</td>\n",
       "      <td>STEM</td>\n",
       "      <td>9</td>\n",
       "      <td>&lt;10</td>\n",
       "      <td>NA_companyType</td>\n",
       "      <td>1</td>\n",
       "      <td>21</td>\n",
       "      <td>0</td>\n",
       "    </tr>\n",
       "    <tr>\n",
       "      <th>1</th>\n",
       "      <td>9858</td>\n",
       "      <td>103</td>\n",
       "      <td>0.920</td>\n",
       "      <td>Female</td>\n",
       "      <td>Has relevent experience</td>\n",
       "      <td>no_enrollment</td>\n",
       "      <td>Graduate</td>\n",
       "      <td>STEM</td>\n",
       "      <td>5</td>\n",
       "      <td>NA_companySize</td>\n",
       "      <td>Pvt Ltd</td>\n",
       "      <td>1</td>\n",
       "      <td>98</td>\n",
       "      <td>0</td>\n",
       "    </tr>\n",
       "    <tr>\n",
       "      <th>2</th>\n",
       "      <td>31806</td>\n",
       "      <td>21</td>\n",
       "      <td>0.624</td>\n",
       "      <td>Male</td>\n",
       "      <td>No relevent experience</td>\n",
       "      <td>no_enrollment</td>\n",
       "      <td>High School</td>\n",
       "      <td>NA_majorDiscipline</td>\n",
       "      <td>&lt;1</td>\n",
       "      <td>NA_companySize</td>\n",
       "      <td>Pvt Ltd</td>\n",
       "      <td>never</td>\n",
       "      <td>15</td>\n",
       "      <td>1</td>\n",
       "    </tr>\n",
       "    <tr>\n",
       "      <th>3</th>\n",
       "      <td>27385</td>\n",
       "      <td>13</td>\n",
       "      <td>0.827</td>\n",
       "      <td>Male</td>\n",
       "      <td>Has relevent experience</td>\n",
       "      <td>no_enrollment</td>\n",
       "      <td>Masters</td>\n",
       "      <td>STEM</td>\n",
       "      <td>11</td>\n",
       "      <td>10/49</td>\n",
       "      <td>Pvt Ltd</td>\n",
       "      <td>1</td>\n",
       "      <td>39</td>\n",
       "      <td>0</td>\n",
       "    </tr>\n",
       "    <tr>\n",
       "      <th>4</th>\n",
       "      <td>27724</td>\n",
       "      <td>103</td>\n",
       "      <td>0.920</td>\n",
       "      <td>Male</td>\n",
       "      <td>Has relevent experience</td>\n",
       "      <td>no_enrollment</td>\n",
       "      <td>Graduate</td>\n",
       "      <td>STEM</td>\n",
       "      <td>&gt;20</td>\n",
       "      <td>10000+</td>\n",
       "      <td>Pvt Ltd</td>\n",
       "      <td>&gt;4</td>\n",
       "      <td>72</td>\n",
       "      <td>0</td>\n",
       "    </tr>\n",
       "  </tbody>\n",
       "</table>\n",
       "</div>"
      ],
      "text/plain": [
       "   enrollee_id city  city_development_index  ... last_new_job training_hours target\n",
       "0        32403   41                   0.827  ...            1             21      0\n",
       "1         9858  103                   0.920  ...            1             98      0\n",
       "2        31806   21                   0.624  ...        never             15      1\n",
       "3        27385   13                   0.827  ...            1             39      0\n",
       "4        27724  103                   0.920  ...           >4             72      0\n",
       "\n",
       "[5 rows x 14 columns]"
      ]
     },
     "execution_count": 56,
     "metadata": {
      "tags": []
     },
     "output_type": "execute_result"
    }
   ],
   "source": [
    "test_prediction_XGB = pd.DataFrame(test_prediction_XGB)\n",
    "test_prediction_XGB.columns = ['target']\n",
    "final_test_prediction_XGB = pd.concat([test_data2, test_prediction_XGB], axis=1)\n",
    "final_test_prediction_XGB.head()"
   ]
  },
  {
   "cell_type": "code",
   "execution_count": null,
   "metadata": {
    "id": "ZYs1PIv6eoGH"
   },
   "outputs": [],
   "source": [
    "prediction_returned = final_test_prediction_XGB[['enrollee_id', 'target']]"
   ]
  },
  {
   "cell_type": "code",
   "execution_count": null,
   "metadata": {
    "id": "ENn9X7g-ek6Q"
   },
   "outputs": [],
   "source": [
    "prediction_returned.to_csv('/content/gdrive/My Drive/Colab Notebooks/HR Analytics- Job Change of Data Scientists/XGB_prediction_Feb23rd.csv', index=False)"
   ]
  },
  {
   "cell_type": "markdown",
   "metadata": {
    "id": "llWjDRccQjYN"
   },
   "source": [
    "Now the predicted data is saved in my drive."
   ]
  },
  {
   "cell_type": "markdown",
   "metadata": {
    "id": "WH6BuAG9Qo6K"
   },
   "source": [
    "# Conclusion"
   ]
  },
  {
   "cell_type": "markdown",
   "metadata": {
    "id": "HdSrWRlFQu5o"
   },
   "source": [
    "In this project I explore different models that predict if a candidate would seek position of data scientist. The deciding factors are: city_development_index, company_type, company_size, major_discipline, relevent_experience, last_new_job, experience, education_level, and enrolled_university."
   ]
  }
 ],
 "metadata": {
  "colab": {
   "authorship_tag": "ABX9TyOiq1hSEjyqpBRy8uWVwg3O",
   "collapsed_sections": [],
   "name": "HR_analytics_Feb 23_imputationMet1.ipynb",
   "provenance": []
  },
  "kernelspec": {
   "display_name": "Python 3",
   "language": "python",
   "name": "python3"
  },
  "language_info": {
   "codemirror_mode": {
    "name": "ipython",
    "version": 3
   },
   "file_extension": ".py",
   "mimetype": "text/x-python",
   "name": "python",
   "nbconvert_exporter": "python",
   "pygments_lexer": "ipython3",
   "version": "3.7.7"
  },
  "widgets": {
   "application/vnd.jupyter.widget-state+json": {
    "025ad281c9924d898c18d79482c29c5b": {
     "model_module": "@jupyter-widgets/controls",
     "model_name": "FloatProgressModel",
     "state": {
      "_dom_classes": [],
      "_model_module": "@jupyter-widgets/controls",
      "_model_module_version": "1.5.0",
      "_model_name": "FloatProgressModel",
      "_view_count": null,
      "_view_module": "@jupyter-widgets/controls",
      "_view_module_version": "1.5.0",
      "_view_name": "ProgressView",
      "bar_style": "success",
      "description": "100%",
      "description_tooltip": null,
      "layout": "IPY_MODEL_d40bf05c5be342838d519d5fb5d2fe01",
      "max": 21,
      "min": 0,
      "orientation": "horizontal",
      "style": "IPY_MODEL_d5b3bcff40bb4869804c7545b12199b7",
      "value": 21
     }
    },
    "03ce3782967143c09fa3d584b0fefe0b": {
     "model_module": "@jupyter-widgets/base",
     "model_name": "LayoutModel",
     "state": {
      "_model_module": "@jupyter-widgets/base",
      "_model_module_version": "1.2.0",
      "_model_name": "LayoutModel",
      "_view_count": null,
      "_view_module": "@jupyter-widgets/base",
      "_view_module_version": "1.2.0",
      "_view_name": "LayoutView",
      "align_content": null,
      "align_items": null,
      "align_self": null,
      "border": null,
      "bottom": null,
      "display": null,
      "flex": null,
      "flex_flow": null,
      "grid_area": null,
      "grid_auto_columns": null,
      "grid_auto_flow": null,
      "grid_auto_rows": null,
      "grid_column": null,
      "grid_gap": null,
      "grid_row": null,
      "grid_template_areas": null,
      "grid_template_columns": null,
      "grid_template_rows": null,
      "height": null,
      "justify_content": null,
      "justify_items": null,
      "left": null,
      "margin": null,
      "max_height": null,
      "max_width": null,
      "min_height": null,
      "min_width": null,
      "object_fit": null,
      "object_position": null,
      "order": null,
      "overflow": null,
      "overflow_x": null,
      "overflow_y": null,
      "padding": null,
      "right": null,
      "top": null,
      "visibility": null,
      "width": null
     }
    },
    "0a8a7a2de28c4daeabf9383965e8d3c2": {
     "model_module": "@jupyter-widgets/controls",
     "model_name": "HBoxModel",
     "state": {
      "_dom_classes": [],
      "_model_module": "@jupyter-widgets/controls",
      "_model_module_version": "1.5.0",
      "_model_name": "HBoxModel",
      "_view_count": null,
      "_view_module": "@jupyter-widgets/controls",
      "_view_module_version": "1.5.0",
      "_view_name": "HBoxView",
      "box_style": "",
      "children": [
       "IPY_MODEL_3995be50513e46b68de60db3b8b231a1",
       "IPY_MODEL_358d75c5f62a431982377d47194d3e7f"
      ],
      "layout": "IPY_MODEL_a7b069c1b3254ad6960aed699d1951fd"
     }
    },
    "0e76669ca0b64f2d8d923b318e0a8345": {
     "model_module": "@jupyter-widgets/controls",
     "model_name": "FloatProgressModel",
     "state": {
      "_dom_classes": [],
      "_model_module": "@jupyter-widgets/controls",
      "_model_module_version": "1.5.0",
      "_model_name": "FloatProgressModel",
      "_view_count": null,
      "_view_module": "@jupyter-widgets/controls",
      "_view_module_version": "1.5.0",
      "_view_name": "ProgressView",
      "bar_style": "success",
      "description": "100%",
      "description_tooltip": null,
      "layout": "IPY_MODEL_7d9bde2538124a70a8e955a879d19dad",
      "max": 21,
      "min": 0,
      "orientation": "horizontal",
      "style": "IPY_MODEL_77dea2b5be3b45b6b01e3be6bf68cd43",
      "value": 21
     }
    },
    "18409de4ffcb47dfb42e421c7e529459": {
     "model_module": "@jupyter-widgets/base",
     "model_name": "LayoutModel",
     "state": {
      "_model_module": "@jupyter-widgets/base",
      "_model_module_version": "1.2.0",
      "_model_name": "LayoutModel",
      "_view_count": null,
      "_view_module": "@jupyter-widgets/base",
      "_view_module_version": "1.2.0",
      "_view_name": "LayoutView",
      "align_content": null,
      "align_items": null,
      "align_self": null,
      "border": null,
      "bottom": null,
      "display": null,
      "flex": null,
      "flex_flow": null,
      "grid_area": null,
      "grid_auto_columns": null,
      "grid_auto_flow": null,
      "grid_auto_rows": null,
      "grid_column": null,
      "grid_gap": null,
      "grid_row": null,
      "grid_template_areas": null,
      "grid_template_columns": null,
      "grid_template_rows": null,
      "height": null,
      "justify_content": null,
      "justify_items": null,
      "left": null,
      "margin": null,
      "max_height": null,
      "max_width": null,
      "min_height": null,
      "min_width": null,
      "object_fit": null,
      "object_position": null,
      "order": null,
      "overflow": null,
      "overflow_x": null,
      "overflow_y": null,
      "padding": null,
      "right": null,
      "top": null,
      "visibility": null,
      "width": null
     }
    },
    "1eff49612f1044cd9f2a433f69d1d1b2": {
     "model_module": "@jupyter-widgets/controls",
     "model_name": "HTMLModel",
     "state": {
      "_dom_classes": [],
      "_model_module": "@jupyter-widgets/controls",
      "_model_module_version": "1.5.0",
      "_model_name": "HTMLModel",
      "_view_count": null,
      "_view_module": "@jupyter-widgets/controls",
      "_view_module_version": "1.5.0",
      "_view_name": "HTMLView",
      "description": "",
      "description_tooltip": null,
      "layout": "IPY_MODEL_03ce3782967143c09fa3d584b0fefe0b",
      "placeholder": "​",
      "style": "IPY_MODEL_f029f65e43184d8093f18773e5339990",
      "value": " 21/21 [08:07&lt;00:00, 23.23s/it]"
     }
    },
    "2652486d9e4445aca560ca257933a78a": {
     "model_module": "@jupyter-widgets/controls",
     "model_name": "HBoxModel",
     "state": {
      "_dom_classes": [],
      "_model_module": "@jupyter-widgets/controls",
      "_model_module_version": "1.5.0",
      "_model_name": "HBoxModel",
      "_view_count": null,
      "_view_module": "@jupyter-widgets/controls",
      "_view_module_version": "1.5.0",
      "_view_name": "HBoxView",
      "box_style": "",
      "children": [
       "IPY_MODEL_025ad281c9924d898c18d79482c29c5b",
       "IPY_MODEL_469a41ab27ad42cabf55c52ca4bedbb9"
      ],
      "layout": "IPY_MODEL_d5ddbc2e38544129a07bf1096af61d6e"
     }
    },
    "2a39b287c2d1421b8f80699165391f13": {
     "model_module": "@jupyter-widgets/controls",
     "model_name": "ProgressStyleModel",
     "state": {
      "_model_module": "@jupyter-widgets/controls",
      "_model_module_version": "1.5.0",
      "_model_name": "ProgressStyleModel",
      "_view_count": null,
      "_view_module": "@jupyter-widgets/base",
      "_view_module_version": "1.2.0",
      "_view_name": "StyleView",
      "bar_color": null,
      "description_width": "initial"
     }
    },
    "358d75c5f62a431982377d47194d3e7f": {
     "model_module": "@jupyter-widgets/controls",
     "model_name": "HTMLModel",
     "state": {
      "_dom_classes": [],
      "_model_module": "@jupyter-widgets/controls",
      "_model_module_version": "1.5.0",
      "_model_name": "HTMLModel",
      "_view_count": null,
      "_view_module": "@jupyter-widgets/controls",
      "_view_module_version": "1.5.0",
      "_view_name": "HTMLView",
      "description": "",
      "description_tooltip": null,
      "layout": "IPY_MODEL_a43f73abf50143668a138a4d901c581e",
      "placeholder": "​",
      "style": "IPY_MODEL_73c4ac4f4e1b4b50aa2b8bbffac6cdfa",
      "value": " 21/21 [01:03&lt;00:00,  3.03s/it]"
     }
    },
    "3995be50513e46b68de60db3b8b231a1": {
     "model_module": "@jupyter-widgets/controls",
     "model_name": "FloatProgressModel",
     "state": {
      "_dom_classes": [],
      "_model_module": "@jupyter-widgets/controls",
      "_model_module_version": "1.5.0",
      "_model_name": "FloatProgressModel",
      "_view_count": null,
      "_view_module": "@jupyter-widgets/controls",
      "_view_module_version": "1.5.0",
      "_view_name": "ProgressView",
      "bar_style": "success",
      "description": "100%",
      "description_tooltip": null,
      "layout": "IPY_MODEL_e0a2f030640e4d5798d69a8b63d03d64",
      "max": 21,
      "min": 0,
      "orientation": "horizontal",
      "style": "IPY_MODEL_938c312c15ef4e7180eb3e20874b736c",
      "value": 21
     }
    },
    "3d712472657b469aaea5265bf16d90a8": {
     "model_module": "@jupyter-widgets/controls",
     "model_name": "DescriptionStyleModel",
     "state": {
      "_model_module": "@jupyter-widgets/controls",
      "_model_module_version": "1.5.0",
      "_model_name": "DescriptionStyleModel",
      "_view_count": null,
      "_view_module": "@jupyter-widgets/base",
      "_view_module_version": "1.2.0",
      "_view_name": "StyleView",
      "description_width": ""
     }
    },
    "3ede2706f18d482990dbf8c4f05c6b7b": {
     "model_module": "@jupyter-widgets/controls",
     "model_name": "FloatProgressModel",
     "state": {
      "_dom_classes": [],
      "_model_module": "@jupyter-widgets/controls",
      "_model_module_version": "1.5.0",
      "_model_name": "FloatProgressModel",
      "_view_count": null,
      "_view_module": "@jupyter-widgets/controls",
      "_view_module_version": "1.5.0",
      "_view_name": "ProgressView",
      "bar_style": "success",
      "description": "",
      "description_tooltip": null,
      "layout": "IPY_MODEL_5a3f3d8240c44c82b7ecda16445ef195",
      "max": 1,
      "min": 0,
      "orientation": "horizontal",
      "style": "IPY_MODEL_2a39b287c2d1421b8f80699165391f13",
      "value": 1
     }
    },
    "3fd595464af345f680cc8f63133d621d": {
     "model_module": "@jupyter-widgets/base",
     "model_name": "LayoutModel",
     "state": {
      "_model_module": "@jupyter-widgets/base",
      "_model_module_version": "1.2.0",
      "_model_name": "LayoutModel",
      "_view_count": null,
      "_view_module": "@jupyter-widgets/base",
      "_view_module_version": "1.2.0",
      "_view_name": "LayoutView",
      "align_content": null,
      "align_items": null,
      "align_self": null,
      "border": null,
      "bottom": null,
      "display": null,
      "flex": null,
      "flex_flow": null,
      "grid_area": null,
      "grid_auto_columns": null,
      "grid_auto_flow": null,
      "grid_auto_rows": null,
      "grid_column": null,
      "grid_gap": null,
      "grid_row": null,
      "grid_template_areas": null,
      "grid_template_columns": null,
      "grid_template_rows": null,
      "height": null,
      "justify_content": null,
      "justify_items": null,
      "left": null,
      "margin": null,
      "max_height": null,
      "max_width": null,
      "min_height": null,
      "min_width": null,
      "object_fit": null,
      "object_position": null,
      "order": null,
      "overflow": null,
      "overflow_x": null,
      "overflow_y": null,
      "padding": null,
      "right": null,
      "top": null,
      "visibility": null,
      "width": null
     }
    },
    "469a41ab27ad42cabf55c52ca4bedbb9": {
     "model_module": "@jupyter-widgets/controls",
     "model_name": "HTMLModel",
     "state": {
      "_dom_classes": [],
      "_model_module": "@jupyter-widgets/controls",
      "_model_module_version": "1.5.0",
      "_model_name": "HTMLModel",
      "_view_count": null,
      "_view_module": "@jupyter-widgets/controls",
      "_view_module_version": "1.5.0",
      "_view_name": "HTMLView",
      "description": "",
      "description_tooltip": null,
      "layout": "IPY_MODEL_82c07598b25e4c28899a801d541bd012",
      "placeholder": "​",
      "style": "IPY_MODEL_4754b4102c8d4544a0666c7a4a7b421b",
      "value": " 21/21 [08:28&lt;00:00, 24.22s/it]"
     }
    },
    "4754b4102c8d4544a0666c7a4a7b421b": {
     "model_module": "@jupyter-widgets/controls",
     "model_name": "DescriptionStyleModel",
     "state": {
      "_model_module": "@jupyter-widgets/controls",
      "_model_module_version": "1.5.0",
      "_model_name": "DescriptionStyleModel",
      "_view_count": null,
      "_view_module": "@jupyter-widgets/base",
      "_view_module_version": "1.2.0",
      "_view_name": "StyleView",
      "description_width": ""
     }
    },
    "5a3f3d8240c44c82b7ecda16445ef195": {
     "model_module": "@jupyter-widgets/base",
     "model_name": "LayoutModel",
     "state": {
      "_model_module": "@jupyter-widgets/base",
      "_model_module_version": "1.2.0",
      "_model_name": "LayoutModel",
      "_view_count": null,
      "_view_module": "@jupyter-widgets/base",
      "_view_module_version": "1.2.0",
      "_view_name": "LayoutView",
      "align_content": null,
      "align_items": null,
      "align_self": null,
      "border": null,
      "bottom": null,
      "display": null,
      "flex": null,
      "flex_flow": null,
      "grid_area": null,
      "grid_auto_columns": null,
      "grid_auto_flow": null,
      "grid_auto_rows": null,
      "grid_column": null,
      "grid_gap": null,
      "grid_row": null,
      "grid_template_areas": null,
      "grid_template_columns": null,
      "grid_template_rows": null,
      "height": null,
      "justify_content": null,
      "justify_items": null,
      "left": null,
      "margin": null,
      "max_height": null,
      "max_width": null,
      "min_height": null,
      "min_width": null,
      "object_fit": null,
      "object_position": null,
      "order": null,
      "overflow": null,
      "overflow_x": null,
      "overflow_y": null,
      "padding": null,
      "right": null,
      "top": null,
      "visibility": null,
      "width": null
     }
    },
    "5f1bdf9eeaa34b738f9f36244ba1f1e8": {
     "model_module": "@jupyter-widgets/controls",
     "model_name": "HBoxModel",
     "state": {
      "_dom_classes": [],
      "_model_module": "@jupyter-widgets/controls",
      "_model_module_version": "1.5.0",
      "_model_name": "HBoxModel",
      "_view_count": null,
      "_view_module": "@jupyter-widgets/controls",
      "_view_module_version": "1.5.0",
      "_view_name": "HBoxView",
      "box_style": "",
      "children": [
       "IPY_MODEL_3ede2706f18d482990dbf8c4f05c6b7b",
       "IPY_MODEL_f050a5e3eb5440d48e1a0156c28b3dd1"
      ],
      "layout": "IPY_MODEL_3fd595464af345f680cc8f63133d621d"
     }
    },
    "618f97ebf60a43939b6d69f2918e3b92": {
     "model_module": "@jupyter-widgets/controls",
     "model_name": "HBoxModel",
     "state": {
      "_dom_classes": [],
      "_model_module": "@jupyter-widgets/controls",
      "_model_module_version": "1.5.0",
      "_model_name": "HBoxModel",
      "_view_count": null,
      "_view_module": "@jupyter-widgets/controls",
      "_view_module_version": "1.5.0",
      "_view_name": "HBoxView",
      "box_style": "",
      "children": [
       "IPY_MODEL_0e76669ca0b64f2d8d923b318e0a8345",
       "IPY_MODEL_e49e8934107a4b198467aef34646a592"
      ],
      "layout": "IPY_MODEL_782be0f8137b45dabdf3aaab728d070f"
     }
    },
    "73c4ac4f4e1b4b50aa2b8bbffac6cdfa": {
     "model_module": "@jupyter-widgets/controls",
     "model_name": "DescriptionStyleModel",
     "state": {
      "_model_module": "@jupyter-widgets/controls",
      "_model_module_version": "1.5.0",
      "_model_name": "DescriptionStyleModel",
      "_view_count": null,
      "_view_module": "@jupyter-widgets/base",
      "_view_module_version": "1.2.0",
      "_view_name": "StyleView",
      "description_width": ""
     }
    },
    "77dea2b5be3b45b6b01e3be6bf68cd43": {
     "model_module": "@jupyter-widgets/controls",
     "model_name": "ProgressStyleModel",
     "state": {
      "_model_module": "@jupyter-widgets/controls",
      "_model_module_version": "1.5.0",
      "_model_name": "ProgressStyleModel",
      "_view_count": null,
      "_view_module": "@jupyter-widgets/base",
      "_view_module_version": "1.2.0",
      "_view_name": "StyleView",
      "bar_color": null,
      "description_width": "initial"
     }
    },
    "782be0f8137b45dabdf3aaab728d070f": {
     "model_module": "@jupyter-widgets/base",
     "model_name": "LayoutModel",
     "state": {
      "_model_module": "@jupyter-widgets/base",
      "_model_module_version": "1.2.0",
      "_model_name": "LayoutModel",
      "_view_count": null,
      "_view_module": "@jupyter-widgets/base",
      "_view_module_version": "1.2.0",
      "_view_name": "LayoutView",
      "align_content": null,
      "align_items": null,
      "align_self": null,
      "border": null,
      "bottom": null,
      "display": null,
      "flex": null,
      "flex_flow": null,
      "grid_area": null,
      "grid_auto_columns": null,
      "grid_auto_flow": null,
      "grid_auto_rows": null,
      "grid_column": null,
      "grid_gap": null,
      "grid_row": null,
      "grid_template_areas": null,
      "grid_template_columns": null,
      "grid_template_rows": null,
      "height": null,
      "justify_content": null,
      "justify_items": null,
      "left": null,
      "margin": null,
      "max_height": null,
      "max_width": null,
      "min_height": null,
      "min_width": null,
      "object_fit": null,
      "object_position": null,
      "order": null,
      "overflow": null,
      "overflow_x": null,
      "overflow_y": null,
      "padding": null,
      "right": null,
      "top": null,
      "visibility": null,
      "width": null
     }
    },
    "7d9bde2538124a70a8e955a879d19dad": {
     "model_module": "@jupyter-widgets/base",
     "model_name": "LayoutModel",
     "state": {
      "_model_module": "@jupyter-widgets/base",
      "_model_module_version": "1.2.0",
      "_model_name": "LayoutModel",
      "_view_count": null,
      "_view_module": "@jupyter-widgets/base",
      "_view_module_version": "1.2.0",
      "_view_name": "LayoutView",
      "align_content": null,
      "align_items": null,
      "align_self": null,
      "border": null,
      "bottom": null,
      "display": null,
      "flex": null,
      "flex_flow": null,
      "grid_area": null,
      "grid_auto_columns": null,
      "grid_auto_flow": null,
      "grid_auto_rows": null,
      "grid_column": null,
      "grid_gap": null,
      "grid_row": null,
      "grid_template_areas": null,
      "grid_template_columns": null,
      "grid_template_rows": null,
      "height": null,
      "justify_content": null,
      "justify_items": null,
      "left": null,
      "margin": null,
      "max_height": null,
      "max_width": null,
      "min_height": null,
      "min_width": null,
      "object_fit": null,
      "object_position": null,
      "order": null,
      "overflow": null,
      "overflow_x": null,
      "overflow_y": null,
      "padding": null,
      "right": null,
      "top": null,
      "visibility": null,
      "width": null
     }
    },
    "82c07598b25e4c28899a801d541bd012": {
     "model_module": "@jupyter-widgets/base",
     "model_name": "LayoutModel",
     "state": {
      "_model_module": "@jupyter-widgets/base",
      "_model_module_version": "1.2.0",
      "_model_name": "LayoutModel",
      "_view_count": null,
      "_view_module": "@jupyter-widgets/base",
      "_view_module_version": "1.2.0",
      "_view_name": "LayoutView",
      "align_content": null,
      "align_items": null,
      "align_self": null,
      "border": null,
      "bottom": null,
      "display": null,
      "flex": null,
      "flex_flow": null,
      "grid_area": null,
      "grid_auto_columns": null,
      "grid_auto_flow": null,
      "grid_auto_rows": null,
      "grid_column": null,
      "grid_gap": null,
      "grid_row": null,
      "grid_template_areas": null,
      "grid_template_columns": null,
      "grid_template_rows": null,
      "height": null,
      "justify_content": null,
      "justify_items": null,
      "left": null,
      "margin": null,
      "max_height": null,
      "max_width": null,
      "min_height": null,
      "min_width": null,
      "object_fit": null,
      "object_position": null,
      "order": null,
      "overflow": null,
      "overflow_x": null,
      "overflow_y": null,
      "padding": null,
      "right": null,
      "top": null,
      "visibility": null,
      "width": null
     }
    },
    "938c312c15ef4e7180eb3e20874b736c": {
     "model_module": "@jupyter-widgets/controls",
     "model_name": "ProgressStyleModel",
     "state": {
      "_model_module": "@jupyter-widgets/controls",
      "_model_module_version": "1.5.0",
      "_model_name": "ProgressStyleModel",
      "_view_count": null,
      "_view_module": "@jupyter-widgets/base",
      "_view_module_version": "1.2.0",
      "_view_name": "StyleView",
      "bar_color": null,
      "description_width": "initial"
     }
    },
    "9d6b0e19af4f4ce680c9049f45795c3a": {
     "model_module": "@jupyter-widgets/controls",
     "model_name": "HBoxModel",
     "state": {
      "_dom_classes": [],
      "_model_module": "@jupyter-widgets/controls",
      "_model_module_version": "1.5.0",
      "_model_name": "HBoxModel",
      "_view_count": null,
      "_view_module": "@jupyter-widgets/controls",
      "_view_module_version": "1.5.0",
      "_view_name": "HBoxView",
      "box_style": "",
      "children": [
       "IPY_MODEL_f6679a1277f44001a65e684169a77481",
       "IPY_MODEL_1eff49612f1044cd9f2a433f69d1d1b2"
      ],
      "layout": "IPY_MODEL_aa3f3f69a9134371ac21be6f24b451e7"
     }
    },
    "a43f73abf50143668a138a4d901c581e": {
     "model_module": "@jupyter-widgets/base",
     "model_name": "LayoutModel",
     "state": {
      "_model_module": "@jupyter-widgets/base",
      "_model_module_version": "1.2.0",
      "_model_name": "LayoutModel",
      "_view_count": null,
      "_view_module": "@jupyter-widgets/base",
      "_view_module_version": "1.2.0",
      "_view_name": "LayoutView",
      "align_content": null,
      "align_items": null,
      "align_self": null,
      "border": null,
      "bottom": null,
      "display": null,
      "flex": null,
      "flex_flow": null,
      "grid_area": null,
      "grid_auto_columns": null,
      "grid_auto_flow": null,
      "grid_auto_rows": null,
      "grid_column": null,
      "grid_gap": null,
      "grid_row": null,
      "grid_template_areas": null,
      "grid_template_columns": null,
      "grid_template_rows": null,
      "height": null,
      "justify_content": null,
      "justify_items": null,
      "left": null,
      "margin": null,
      "max_height": null,
      "max_width": null,
      "min_height": null,
      "min_width": null,
      "object_fit": null,
      "object_position": null,
      "order": null,
      "overflow": null,
      "overflow_x": null,
      "overflow_y": null,
      "padding": null,
      "right": null,
      "top": null,
      "visibility": null,
      "width": null
     }
    },
    "a7b069c1b3254ad6960aed699d1951fd": {
     "model_module": "@jupyter-widgets/base",
     "model_name": "LayoutModel",
     "state": {
      "_model_module": "@jupyter-widgets/base",
      "_model_module_version": "1.2.0",
      "_model_name": "LayoutModel",
      "_view_count": null,
      "_view_module": "@jupyter-widgets/base",
      "_view_module_version": "1.2.0",
      "_view_name": "LayoutView",
      "align_content": null,
      "align_items": null,
      "align_self": null,
      "border": null,
      "bottom": null,
      "display": null,
      "flex": null,
      "flex_flow": null,
      "grid_area": null,
      "grid_auto_columns": null,
      "grid_auto_flow": null,
      "grid_auto_rows": null,
      "grid_column": null,
      "grid_gap": null,
      "grid_row": null,
      "grid_template_areas": null,
      "grid_template_columns": null,
      "grid_template_rows": null,
      "height": null,
      "justify_content": null,
      "justify_items": null,
      "left": null,
      "margin": null,
      "max_height": null,
      "max_width": null,
      "min_height": null,
      "min_width": null,
      "object_fit": null,
      "object_position": null,
      "order": null,
      "overflow": null,
      "overflow_x": null,
      "overflow_y": null,
      "padding": null,
      "right": null,
      "top": null,
      "visibility": null,
      "width": null
     }
    },
    "aa3f3f69a9134371ac21be6f24b451e7": {
     "model_module": "@jupyter-widgets/base",
     "model_name": "LayoutModel",
     "state": {
      "_model_module": "@jupyter-widgets/base",
      "_model_module_version": "1.2.0",
      "_model_name": "LayoutModel",
      "_view_count": null,
      "_view_module": "@jupyter-widgets/base",
      "_view_module_version": "1.2.0",
      "_view_name": "LayoutView",
      "align_content": null,
      "align_items": null,
      "align_self": null,
      "border": null,
      "bottom": null,
      "display": null,
      "flex": null,
      "flex_flow": null,
      "grid_area": null,
      "grid_auto_columns": null,
      "grid_auto_flow": null,
      "grid_auto_rows": null,
      "grid_column": null,
      "grid_gap": null,
      "grid_row": null,
      "grid_template_areas": null,
      "grid_template_columns": null,
      "grid_template_rows": null,
      "height": null,
      "justify_content": null,
      "justify_items": null,
      "left": null,
      "margin": null,
      "max_height": null,
      "max_width": null,
      "min_height": null,
      "min_width": null,
      "object_fit": null,
      "object_position": null,
      "order": null,
      "overflow": null,
      "overflow_x": null,
      "overflow_y": null,
      "padding": null,
      "right": null,
      "top": null,
      "visibility": null,
      "width": null
     }
    },
    "aeb492fea697494c9c814dcf468a641d": {
     "model_module": "@jupyter-widgets/controls",
     "model_name": "ProgressStyleModel",
     "state": {
      "_model_module": "@jupyter-widgets/controls",
      "_model_module_version": "1.5.0",
      "_model_name": "ProgressStyleModel",
      "_view_count": null,
      "_view_module": "@jupyter-widgets/base",
      "_view_module_version": "1.2.0",
      "_view_name": "StyleView",
      "bar_color": null,
      "description_width": "initial"
     }
    },
    "b6d0543a4704426cadd635cf4673bbc9": {
     "model_module": "@jupyter-widgets/base",
     "model_name": "LayoutModel",
     "state": {
      "_model_module": "@jupyter-widgets/base",
      "_model_module_version": "1.2.0",
      "_model_name": "LayoutModel",
      "_view_count": null,
      "_view_module": "@jupyter-widgets/base",
      "_view_module_version": "1.2.0",
      "_view_name": "LayoutView",
      "align_content": null,
      "align_items": null,
      "align_self": null,
      "border": null,
      "bottom": null,
      "display": null,
      "flex": null,
      "flex_flow": null,
      "grid_area": null,
      "grid_auto_columns": null,
      "grid_auto_flow": null,
      "grid_auto_rows": null,
      "grid_column": null,
      "grid_gap": null,
      "grid_row": null,
      "grid_template_areas": null,
      "grid_template_columns": null,
      "grid_template_rows": null,
      "height": null,
      "justify_content": null,
      "justify_items": null,
      "left": null,
      "margin": null,
      "max_height": null,
      "max_width": null,
      "min_height": null,
      "min_width": null,
      "object_fit": null,
      "object_position": null,
      "order": null,
      "overflow": null,
      "overflow_x": null,
      "overflow_y": null,
      "padding": null,
      "right": null,
      "top": null,
      "visibility": null,
      "width": null
     }
    },
    "d40bf05c5be342838d519d5fb5d2fe01": {
     "model_module": "@jupyter-widgets/base",
     "model_name": "LayoutModel",
     "state": {
      "_model_module": "@jupyter-widgets/base",
      "_model_module_version": "1.2.0",
      "_model_name": "LayoutModel",
      "_view_count": null,
      "_view_module": "@jupyter-widgets/base",
      "_view_module_version": "1.2.0",
      "_view_name": "LayoutView",
      "align_content": null,
      "align_items": null,
      "align_self": null,
      "border": null,
      "bottom": null,
      "display": null,
      "flex": null,
      "flex_flow": null,
      "grid_area": null,
      "grid_auto_columns": null,
      "grid_auto_flow": null,
      "grid_auto_rows": null,
      "grid_column": null,
      "grid_gap": null,
      "grid_row": null,
      "grid_template_areas": null,
      "grid_template_columns": null,
      "grid_template_rows": null,
      "height": null,
      "justify_content": null,
      "justify_items": null,
      "left": null,
      "margin": null,
      "max_height": null,
      "max_width": null,
      "min_height": null,
      "min_width": null,
      "object_fit": null,
      "object_position": null,
      "order": null,
      "overflow": null,
      "overflow_x": null,
      "overflow_y": null,
      "padding": null,
      "right": null,
      "top": null,
      "visibility": null,
      "width": null
     }
    },
    "d5b3bcff40bb4869804c7545b12199b7": {
     "model_module": "@jupyter-widgets/controls",
     "model_name": "ProgressStyleModel",
     "state": {
      "_model_module": "@jupyter-widgets/controls",
      "_model_module_version": "1.5.0",
      "_model_name": "ProgressStyleModel",
      "_view_count": null,
      "_view_module": "@jupyter-widgets/base",
      "_view_module_version": "1.2.0",
      "_view_name": "StyleView",
      "bar_color": null,
      "description_width": "initial"
     }
    },
    "d5ddbc2e38544129a07bf1096af61d6e": {
     "model_module": "@jupyter-widgets/base",
     "model_name": "LayoutModel",
     "state": {
      "_model_module": "@jupyter-widgets/base",
      "_model_module_version": "1.2.0",
      "_model_name": "LayoutModel",
      "_view_count": null,
      "_view_module": "@jupyter-widgets/base",
      "_view_module_version": "1.2.0",
      "_view_name": "LayoutView",
      "align_content": null,
      "align_items": null,
      "align_self": null,
      "border": null,
      "bottom": null,
      "display": null,
      "flex": null,
      "flex_flow": null,
      "grid_area": null,
      "grid_auto_columns": null,
      "grid_auto_flow": null,
      "grid_auto_rows": null,
      "grid_column": null,
      "grid_gap": null,
      "grid_row": null,
      "grid_template_areas": null,
      "grid_template_columns": null,
      "grid_template_rows": null,
      "height": null,
      "justify_content": null,
      "justify_items": null,
      "left": null,
      "margin": null,
      "max_height": null,
      "max_width": null,
      "min_height": null,
      "min_width": null,
      "object_fit": null,
      "object_position": null,
      "order": null,
      "overflow": null,
      "overflow_x": null,
      "overflow_y": null,
      "padding": null,
      "right": null,
      "top": null,
      "visibility": null,
      "width": null
     }
    },
    "e03947d7ca6a455390c86d9f73dc4254": {
     "model_module": "@jupyter-widgets/controls",
     "model_name": "DescriptionStyleModel",
     "state": {
      "_model_module": "@jupyter-widgets/controls",
      "_model_module_version": "1.5.0",
      "_model_name": "DescriptionStyleModel",
      "_view_count": null,
      "_view_module": "@jupyter-widgets/base",
      "_view_module_version": "1.2.0",
      "_view_name": "StyleView",
      "description_width": ""
     }
    },
    "e0a2f030640e4d5798d69a8b63d03d64": {
     "model_module": "@jupyter-widgets/base",
     "model_name": "LayoutModel",
     "state": {
      "_model_module": "@jupyter-widgets/base",
      "_model_module_version": "1.2.0",
      "_model_name": "LayoutModel",
      "_view_count": null,
      "_view_module": "@jupyter-widgets/base",
      "_view_module_version": "1.2.0",
      "_view_name": "LayoutView",
      "align_content": null,
      "align_items": null,
      "align_self": null,
      "border": null,
      "bottom": null,
      "display": null,
      "flex": null,
      "flex_flow": null,
      "grid_area": null,
      "grid_auto_columns": null,
      "grid_auto_flow": null,
      "grid_auto_rows": null,
      "grid_column": null,
      "grid_gap": null,
      "grid_row": null,
      "grid_template_areas": null,
      "grid_template_columns": null,
      "grid_template_rows": null,
      "height": null,
      "justify_content": null,
      "justify_items": null,
      "left": null,
      "margin": null,
      "max_height": null,
      "max_width": null,
      "min_height": null,
      "min_width": null,
      "object_fit": null,
      "object_position": null,
      "order": null,
      "overflow": null,
      "overflow_x": null,
      "overflow_y": null,
      "padding": null,
      "right": null,
      "top": null,
      "visibility": null,
      "width": null
     }
    },
    "e49e8934107a4b198467aef34646a592": {
     "model_module": "@jupyter-widgets/controls",
     "model_name": "HTMLModel",
     "state": {
      "_dom_classes": [],
      "_model_module": "@jupyter-widgets/controls",
      "_model_module_version": "1.5.0",
      "_model_name": "HTMLModel",
      "_view_count": null,
      "_view_module": "@jupyter-widgets/controls",
      "_view_module_version": "1.5.0",
      "_view_name": "HTMLView",
      "description": "",
      "description_tooltip": null,
      "layout": "IPY_MODEL_b6d0543a4704426cadd635cf4673bbc9",
      "placeholder": "​",
      "style": "IPY_MODEL_e03947d7ca6a455390c86d9f73dc4254",
      "value": " 21/21 [14:58&lt;00:00, 42.79s/it]"
     }
    },
    "f029f65e43184d8093f18773e5339990": {
     "model_module": "@jupyter-widgets/controls",
     "model_name": "DescriptionStyleModel",
     "state": {
      "_model_module": "@jupyter-widgets/controls",
      "_model_module_version": "1.5.0",
      "_model_name": "DescriptionStyleModel",
      "_view_count": null,
      "_view_module": "@jupyter-widgets/base",
      "_view_module_version": "1.2.0",
      "_view_name": "StyleView",
      "description_width": ""
     }
    },
    "f050a5e3eb5440d48e1a0156c28b3dd1": {
     "model_module": "@jupyter-widgets/controls",
     "model_name": "HTMLModel",
     "state": {
      "_dom_classes": [],
      "_model_module": "@jupyter-widgets/controls",
      "_model_module_version": "1.5.0",
      "_model_name": "HTMLModel",
      "_view_count": null,
      "_view_module": "@jupyter-widgets/controls",
      "_view_module_version": "1.5.0",
      "_view_name": "HTMLView",
      "description": "",
      "description_tooltip": null,
      "layout": "IPY_MODEL_f8890c6f5eb5466c9d36912368d8252e",
      "placeholder": "​",
      "style": "IPY_MODEL_3d712472657b469aaea5265bf16d90a8",
      "value": " 189/? [00:00&lt;00:00, 4611.59it/s]"
     }
    },
    "f6679a1277f44001a65e684169a77481": {
     "model_module": "@jupyter-widgets/controls",
     "model_name": "FloatProgressModel",
     "state": {
      "_dom_classes": [],
      "_model_module": "@jupyter-widgets/controls",
      "_model_module_version": "1.5.0",
      "_model_name": "FloatProgressModel",
      "_view_count": null,
      "_view_module": "@jupyter-widgets/controls",
      "_view_module_version": "1.5.0",
      "_view_name": "ProgressView",
      "bar_style": "success",
      "description": "100%",
      "description_tooltip": null,
      "layout": "IPY_MODEL_18409de4ffcb47dfb42e421c7e529459",
      "max": 21,
      "min": 0,
      "orientation": "horizontal",
      "style": "IPY_MODEL_aeb492fea697494c9c814dcf468a641d",
      "value": 21
     }
    },
    "f8890c6f5eb5466c9d36912368d8252e": {
     "model_module": "@jupyter-widgets/base",
     "model_name": "LayoutModel",
     "state": {
      "_model_module": "@jupyter-widgets/base",
      "_model_module_version": "1.2.0",
      "_model_name": "LayoutModel",
      "_view_count": null,
      "_view_module": "@jupyter-widgets/base",
      "_view_module_version": "1.2.0",
      "_view_name": "LayoutView",
      "align_content": null,
      "align_items": null,
      "align_self": null,
      "border": null,
      "bottom": null,
      "display": null,
      "flex": null,
      "flex_flow": null,
      "grid_area": null,
      "grid_auto_columns": null,
      "grid_auto_flow": null,
      "grid_auto_rows": null,
      "grid_column": null,
      "grid_gap": null,
      "grid_row": null,
      "grid_template_areas": null,
      "grid_template_columns": null,
      "grid_template_rows": null,
      "height": null,
      "justify_content": null,
      "justify_items": null,
      "left": null,
      "margin": null,
      "max_height": null,
      "max_width": null,
      "min_height": null,
      "min_width": null,
      "object_fit": null,
      "object_position": null,
      "order": null,
      "overflow": null,
      "overflow_x": null,
      "overflow_y": null,
      "padding": null,
      "right": null,
      "top": null,
      "visibility": null,
      "width": null
     }
    }
   }
  }
 },
 "nbformat": 4,
 "nbformat_minor": 1
}
